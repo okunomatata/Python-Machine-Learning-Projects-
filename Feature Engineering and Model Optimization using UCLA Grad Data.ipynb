{
 "cells": [
  {
   "cell_type": "markdown",
   "metadata": {},
   "source": [
    "# Assignment 3"
   ]
  },
  {
   "cell_type": "markdown",
   "metadata": {},
   "source": [
    "This assignment will begin a more open-ended approach to developing machine learning models. Rather than perform analyses and processing steps in a strict question/answer format, you are largely free to do whatever you think is needed in this assignment. Be sure to justify these choices with comments so that I can follow your logic. Refer to some of the previous notebooks to get a sense of the steps."
   ]
  },
  {
   "cell_type": "code",
   "execution_count": 1,
   "metadata": {},
   "outputs": [],
   "source": [
    "import pandas as pd\n",
    "import numpy as np\n",
    "admission_data = pd.read_csv('ucla_grad_data.csv')"
   ]
  },
  {
   "cell_type": "markdown",
   "metadata": {},
   "source": [
    "# Processing (5 Points)"
   ]
  },
  {
   "cell_type": "markdown",
   "metadata": {},
   "source": [
    "## Turn Into Binary Classification Problem (1 Point)\n",
    "This dataset has a column with the chance to gain admission into graduate school at UCLA. Change this to 1 and 0, where 1 is greater than or equal to .85. We will assume there is a high level of confidence that these individuals will be admitted and anything below this level, while still possibly leading to admission, will be rejections. As a result, the goal here is to understand the factors that make admission highly likely and build predictive models to help students understand their chances and how to improve their applications."
   ]
  },
  {
   "cell_type": "code",
   "execution_count": 2,
   "metadata": {},
   "outputs": [
    {
     "data": {
      "text/html": [
       "<div>\n",
       "<style scoped>\n",
       "    .dataframe tbody tr th:only-of-type {\n",
       "        vertical-align: middle;\n",
       "    }\n",
       "\n",
       "    .dataframe tbody tr th {\n",
       "        vertical-align: top;\n",
       "    }\n",
       "\n",
       "    .dataframe thead th {\n",
       "        text-align: right;\n",
       "    }\n",
       "</style>\n",
       "<table border=\"1\" class=\"dataframe\">\n",
       "  <thead>\n",
       "    <tr style=\"text-align: right;\">\n",
       "      <th></th>\n",
       "      <th>Serial No.</th>\n",
       "      <th>GRE Score</th>\n",
       "      <th>TOEFL Score</th>\n",
       "      <th>University Rating</th>\n",
       "      <th>SOP</th>\n",
       "      <th>LOR</th>\n",
       "      <th>CGPA</th>\n",
       "      <th>Research</th>\n",
       "      <th>Chance of Admit</th>\n",
       "    </tr>\n",
       "  </thead>\n",
       "  <tbody>\n",
       "    <tr>\n",
       "      <th>0</th>\n",
       "      <td>1</td>\n",
       "      <td>337</td>\n",
       "      <td>118</td>\n",
       "      <td>4</td>\n",
       "      <td>4.5</td>\n",
       "      <td>4.5</td>\n",
       "      <td>9.65</td>\n",
       "      <td>1</td>\n",
       "      <td>0.92</td>\n",
       "    </tr>\n",
       "    <tr>\n",
       "      <th>1</th>\n",
       "      <td>2</td>\n",
       "      <td>324</td>\n",
       "      <td>107</td>\n",
       "      <td>4</td>\n",
       "      <td>4.0</td>\n",
       "      <td>4.5</td>\n",
       "      <td>8.87</td>\n",
       "      <td>1</td>\n",
       "      <td>0.76</td>\n",
       "    </tr>\n",
       "    <tr>\n",
       "      <th>2</th>\n",
       "      <td>3</td>\n",
       "      <td>316</td>\n",
       "      <td>104</td>\n",
       "      <td>3</td>\n",
       "      <td>3.0</td>\n",
       "      <td>3.5</td>\n",
       "      <td>8.00</td>\n",
       "      <td>1</td>\n",
       "      <td>0.72</td>\n",
       "    </tr>\n",
       "    <tr>\n",
       "      <th>3</th>\n",
       "      <td>4</td>\n",
       "      <td>322</td>\n",
       "      <td>110</td>\n",
       "      <td>3</td>\n",
       "      <td>3.5</td>\n",
       "      <td>2.5</td>\n",
       "      <td>8.67</td>\n",
       "      <td>1</td>\n",
       "      <td>0.80</td>\n",
       "    </tr>\n",
       "    <tr>\n",
       "      <th>4</th>\n",
       "      <td>5</td>\n",
       "      <td>314</td>\n",
       "      <td>103</td>\n",
       "      <td>2</td>\n",
       "      <td>2.0</td>\n",
       "      <td>3.0</td>\n",
       "      <td>8.21</td>\n",
       "      <td>0</td>\n",
       "      <td>0.65</td>\n",
       "    </tr>\n",
       "  </tbody>\n",
       "</table>\n",
       "</div>"
      ],
      "text/plain": [
       "   Serial No.  GRE Score  TOEFL Score  University Rating  SOP  LOR   CGPA  \\\n",
       "0           1        337          118                  4  4.5   4.5  9.65   \n",
       "1           2        324          107                  4  4.0   4.5  8.87   \n",
       "2           3        316          104                  3  3.0   3.5  8.00   \n",
       "3           4        322          110                  3  3.5   2.5  8.67   \n",
       "4           5        314          103                  2  2.0   3.0  8.21   \n",
       "\n",
       "   Research  Chance of Admit  \n",
       "0         1             0.92  \n",
       "1         1             0.76  \n",
       "2         1             0.72  \n",
       "3         1             0.80  \n",
       "4         0             0.65  "
      ]
     },
     "execution_count": 2,
     "metadata": {},
     "output_type": "execute_result"
    }
   ],
   "source": [
    "admission_data.head()"
   ]
  },
  {
   "cell_type": "code",
   "execution_count": 3,
   "metadata": {},
   "outputs": [
    {
     "name": "stdout",
     "output_type": "stream",
     "text": [
      "0      0.92\n",
      "1      0.76\n",
      "2      0.72\n",
      "3      0.80\n",
      "4      0.65\n",
      "       ... \n",
      "395    0.82\n",
      "396    0.84\n",
      "397    0.91\n",
      "398    0.67\n",
      "399    0.95\n",
      "Name: Chance of Admit, Length: 400, dtype: float64\n"
     ]
    }
   ],
   "source": [
    "dependent_var = admission_data[\"Chance of Admit\"]\n",
    "print(dependent_var)"
   ]
  },
  {
   "cell_type": "code",
   "execution_count": 4,
   "metadata": {},
   "outputs": [
    {
     "data": {
      "text/html": [
       "<div>\n",
       "<style scoped>\n",
       "    .dataframe tbody tr th:only-of-type {\n",
       "        vertical-align: middle;\n",
       "    }\n",
       "\n",
       "    .dataframe tbody tr th {\n",
       "        vertical-align: top;\n",
       "    }\n",
       "\n",
       "    .dataframe thead th {\n",
       "        text-align: right;\n",
       "    }\n",
       "</style>\n",
       "<table border=\"1\" class=\"dataframe\">\n",
       "  <thead>\n",
       "    <tr style=\"text-align: right;\">\n",
       "      <th></th>\n",
       "      <th>Admit?</th>\n",
       "    </tr>\n",
       "  </thead>\n",
       "  <tbody>\n",
       "    <tr>\n",
       "      <th>0</th>\n",
       "      <td>1</td>\n",
       "    </tr>\n",
       "    <tr>\n",
       "      <th>1</th>\n",
       "      <td>0</td>\n",
       "    </tr>\n",
       "    <tr>\n",
       "      <th>2</th>\n",
       "      <td>0</td>\n",
       "    </tr>\n",
       "    <tr>\n",
       "      <th>3</th>\n",
       "      <td>0</td>\n",
       "    </tr>\n",
       "    <tr>\n",
       "      <th>4</th>\n",
       "      <td>0</td>\n",
       "    </tr>\n",
       "    <tr>\n",
       "      <th>...</th>\n",
       "      <td>...</td>\n",
       "    </tr>\n",
       "    <tr>\n",
       "      <th>395</th>\n",
       "      <td>0</td>\n",
       "    </tr>\n",
       "    <tr>\n",
       "      <th>396</th>\n",
       "      <td>0</td>\n",
       "    </tr>\n",
       "    <tr>\n",
       "      <th>397</th>\n",
       "      <td>1</td>\n",
       "    </tr>\n",
       "    <tr>\n",
       "      <th>398</th>\n",
       "      <td>0</td>\n",
       "    </tr>\n",
       "    <tr>\n",
       "      <th>399</th>\n",
       "      <td>1</td>\n",
       "    </tr>\n",
       "  </tbody>\n",
       "</table>\n",
       "<p>400 rows × 1 columns</p>\n",
       "</div>"
      ],
      "text/plain": [
       "     Admit?\n",
       "0         1\n",
       "1         0\n",
       "2         0\n",
       "3         0\n",
       "4         0\n",
       "..      ...\n",
       "395       0\n",
       "396       0\n",
       "397       1\n",
       "398       0\n",
       "399       1\n",
       "\n",
       "[400 rows x 1 columns]"
      ]
     },
     "execution_count": 4,
     "metadata": {},
     "output_type": "execute_result"
    }
   ],
   "source": [
    "dependent_binary = [int(p>=0.85) for p in dependent_var]\n",
    "dependent_binary_df = pd.DataFrame(dependent_binary, columns = [\"Admit?\"])\n",
    "dependent_binary_df"
   ]
  },
  {
   "cell_type": "code",
   "execution_count": 5,
   "metadata": {},
   "outputs": [],
   "source": [
    "#for row in admission_data[\"Chance of Admit\"].iteritems():\n",
    "#    if admission_data[row, 8] >= .85: admission_data[row, 8] == 1\n",
    "#    else: admission_data[row, 8] == 0\n",
    "\n",
    "#Experementing with different loops interating through each row of the column "
   ]
  },
  {
   "cell_type": "code",
   "execution_count": 6,
   "metadata": {},
   "outputs": [
    {
     "data": {
      "text/plain": [
       "Admit?\n",
       "0         311\n",
       "1          89\n",
       "dtype: int64"
      ]
     },
     "execution_count": 6,
     "metadata": {},
     "output_type": "execute_result"
    }
   ],
   "source": [
    "#I want to see the distribution of our dependent variable \n",
    "dependent_binary_df.value_counts()"
   ]
  },
  {
   "cell_type": "code",
   "execution_count": 7,
   "metadata": {},
   "outputs": [
    {
     "name": "stdout",
     "output_type": "stream",
     "text": [
      "     GRE Score  TOEFL Score  University Rating  SOP  LOR   CGPA  Research  \\\n",
      "0          337          118                  4  4.5   4.5  9.65         1   \n",
      "1          324          107                  4  4.0   4.5  8.87         1   \n",
      "2          316          104                  3  3.0   3.5  8.00         1   \n",
      "3          322          110                  3  3.5   2.5  8.67         1   \n",
      "4          314          103                  2  2.0   3.0  8.21         0   \n",
      "..         ...          ...                ...  ...   ...   ...       ...   \n",
      "395        324          110                  3  3.5   3.5  9.04         1   \n",
      "396        325          107                  3  3.0   3.5  9.11         1   \n",
      "397        330          116                  4  5.0   4.5  9.45         1   \n",
      "398        312          103                  3  3.5   4.0  8.78         0   \n",
      "399        333          117                  4  5.0   4.0  9.66         1   \n",
      "\n",
      "     Admit?  \n",
      "0         1  \n",
      "1         0  \n",
      "2         0  \n",
      "3         0  \n",
      "4         0  \n",
      "..      ...  \n",
      "395       0  \n",
      "396       0  \n",
      "397       1  \n",
      "398       0  \n",
      "399       1  \n",
      "\n",
      "[400 rows x 8 columns]\n"
     ]
    }
   ],
   "source": [
    "#Since Serial No. acts basically like an index, I am going to drop the feature \n",
    "#as it will not provide any real use in our models.\n",
    "ad_data = pd.concat([admission_data, dependent_binary_df], axis = 1)\n",
    "admission_data_binary = ad_data.drop(columns=[\"Chance of Admit\",\"Serial No.\"])\n",
    "print(admission_data_binary)"
   ]
  },
  {
   "cell_type": "markdown",
   "metadata": {},
   "source": [
    "### Other Processing"
   ]
  },
  {
   "cell_type": "code",
   "execution_count": 8,
   "metadata": {},
   "outputs": [
    {
     "name": "stdout",
     "output_type": "stream",
     "text": [
      "<class 'pandas.core.frame.DataFrame'>\n",
      "RangeIndex: 400 entries, 0 to 399\n",
      "Data columns (total 9 columns):\n",
      " #   Column             Non-Null Count  Dtype  \n",
      "---  ------             --------------  -----  \n",
      " 0   Serial No.         400 non-null    int64  \n",
      " 1   GRE Score          400 non-null    int64  \n",
      " 2   TOEFL Score        400 non-null    int64  \n",
      " 3   University Rating  400 non-null    int64  \n",
      " 4   SOP                400 non-null    float64\n",
      " 5   LOR                400 non-null    float64\n",
      " 6   CGPA               400 non-null    float64\n",
      " 7   Research           400 non-null    int64  \n",
      " 8   Chance of Admit    400 non-null    float64\n",
      "dtypes: float64(4), int64(5)\n",
      "memory usage: 28.2 KB\n"
     ]
    }
   ],
   "source": [
    "# ... now whatever you want to do to process the data and/or need to do to properly evaluate machine learning models\n",
    "admission_data.info()"
   ]
  },
  {
   "cell_type": "code",
   "execution_count": 9,
   "metadata": {},
   "outputs": [
    {
     "data": {
      "text/plain": [
       "GRE Score            0\n",
       "TOEFL Score          0\n",
       "University Rating    0\n",
       "SOP                  0\n",
       "LOR                  0\n",
       "CGPA                 0\n",
       "Research             0\n",
       "Admit?               0\n",
       "dtype: int64"
      ]
     },
     "execution_count": 9,
     "metadata": {},
     "output_type": "execute_result"
    }
   ],
   "source": [
    "admission_data_binary.isnull().sum()"
   ]
  },
  {
   "cell_type": "code",
   "execution_count": 10,
   "metadata": {},
   "outputs": [
    {
     "data": {
      "text/html": [
       "<div>\n",
       "<style scoped>\n",
       "    .dataframe tbody tr th:only-of-type {\n",
       "        vertical-align: middle;\n",
       "    }\n",
       "\n",
       "    .dataframe tbody tr th {\n",
       "        vertical-align: top;\n",
       "    }\n",
       "\n",
       "    .dataframe thead th {\n",
       "        text-align: right;\n",
       "    }\n",
       "</style>\n",
       "<table border=\"1\" class=\"dataframe\">\n",
       "  <thead>\n",
       "    <tr style=\"text-align: right;\">\n",
       "      <th></th>\n",
       "      <th>GRE Score</th>\n",
       "      <th>TOEFL Score</th>\n",
       "      <th>University Rating</th>\n",
       "      <th>SOP</th>\n",
       "      <th>LOR</th>\n",
       "      <th>CGPA</th>\n",
       "      <th>Research</th>\n",
       "      <th>Admit?</th>\n",
       "    </tr>\n",
       "  </thead>\n",
       "  <tbody>\n",
       "    <tr>\n",
       "      <th>count</th>\n",
       "      <td>400.000000</td>\n",
       "      <td>400.000000</td>\n",
       "      <td>400.000000</td>\n",
       "      <td>400.000000</td>\n",
       "      <td>400.000000</td>\n",
       "      <td>400.000000</td>\n",
       "      <td>400.000000</td>\n",
       "      <td>400.000000</td>\n",
       "    </tr>\n",
       "    <tr>\n",
       "      <th>mean</th>\n",
       "      <td>316.807500</td>\n",
       "      <td>107.410000</td>\n",
       "      <td>3.087500</td>\n",
       "      <td>3.400000</td>\n",
       "      <td>3.452500</td>\n",
       "      <td>8.598925</td>\n",
       "      <td>0.547500</td>\n",
       "      <td>0.222500</td>\n",
       "    </tr>\n",
       "    <tr>\n",
       "      <th>std</th>\n",
       "      <td>11.473646</td>\n",
       "      <td>6.069514</td>\n",
       "      <td>1.143728</td>\n",
       "      <td>1.006869</td>\n",
       "      <td>0.898478</td>\n",
       "      <td>0.596317</td>\n",
       "      <td>0.498362</td>\n",
       "      <td>0.416446</td>\n",
       "    </tr>\n",
       "    <tr>\n",
       "      <th>min</th>\n",
       "      <td>290.000000</td>\n",
       "      <td>92.000000</td>\n",
       "      <td>1.000000</td>\n",
       "      <td>1.000000</td>\n",
       "      <td>1.000000</td>\n",
       "      <td>6.800000</td>\n",
       "      <td>0.000000</td>\n",
       "      <td>0.000000</td>\n",
       "    </tr>\n",
       "    <tr>\n",
       "      <th>25%</th>\n",
       "      <td>308.000000</td>\n",
       "      <td>103.000000</td>\n",
       "      <td>2.000000</td>\n",
       "      <td>2.500000</td>\n",
       "      <td>3.000000</td>\n",
       "      <td>8.170000</td>\n",
       "      <td>0.000000</td>\n",
       "      <td>0.000000</td>\n",
       "    </tr>\n",
       "    <tr>\n",
       "      <th>50%</th>\n",
       "      <td>317.000000</td>\n",
       "      <td>107.000000</td>\n",
       "      <td>3.000000</td>\n",
       "      <td>3.500000</td>\n",
       "      <td>3.500000</td>\n",
       "      <td>8.610000</td>\n",
       "      <td>1.000000</td>\n",
       "      <td>0.000000</td>\n",
       "    </tr>\n",
       "    <tr>\n",
       "      <th>75%</th>\n",
       "      <td>325.000000</td>\n",
       "      <td>112.000000</td>\n",
       "      <td>4.000000</td>\n",
       "      <td>4.000000</td>\n",
       "      <td>4.000000</td>\n",
       "      <td>9.062500</td>\n",
       "      <td>1.000000</td>\n",
       "      <td>0.000000</td>\n",
       "    </tr>\n",
       "    <tr>\n",
       "      <th>max</th>\n",
       "      <td>340.000000</td>\n",
       "      <td>120.000000</td>\n",
       "      <td>5.000000</td>\n",
       "      <td>5.000000</td>\n",
       "      <td>5.000000</td>\n",
       "      <td>9.920000</td>\n",
       "      <td>1.000000</td>\n",
       "      <td>1.000000</td>\n",
       "    </tr>\n",
       "  </tbody>\n",
       "</table>\n",
       "</div>"
      ],
      "text/plain": [
       "        GRE Score  TOEFL Score  University Rating         SOP        LOR   \\\n",
       "count  400.000000   400.000000         400.000000  400.000000  400.000000   \n",
       "mean   316.807500   107.410000           3.087500    3.400000    3.452500   \n",
       "std     11.473646     6.069514           1.143728    1.006869    0.898478   \n",
       "min    290.000000    92.000000           1.000000    1.000000    1.000000   \n",
       "25%    308.000000   103.000000           2.000000    2.500000    3.000000   \n",
       "50%    317.000000   107.000000           3.000000    3.500000    3.500000   \n",
       "75%    325.000000   112.000000           4.000000    4.000000    4.000000   \n",
       "max    340.000000   120.000000           5.000000    5.000000    5.000000   \n",
       "\n",
       "             CGPA    Research      Admit?  \n",
       "count  400.000000  400.000000  400.000000  \n",
       "mean     8.598925    0.547500    0.222500  \n",
       "std      0.596317    0.498362    0.416446  \n",
       "min      6.800000    0.000000    0.000000  \n",
       "25%      8.170000    0.000000    0.000000  \n",
       "50%      8.610000    1.000000    0.000000  \n",
       "75%      9.062500    1.000000    0.000000  \n",
       "max      9.920000    1.000000    1.000000  "
      ]
     },
     "execution_count": 10,
     "metadata": {},
     "output_type": "execute_result"
    }
   ],
   "source": [
    "admission_data_binary.describe()\n",
    "#We can check basic stats as well as see if we have any missing data.\n",
    "#We can see we have no missing data to impute"
   ]
  },
  {
   "cell_type": "code",
   "execution_count": 11,
   "metadata": {},
   "outputs": [
    {
     "data": {
      "image/png": "[encoded data removed]",
      "text/plain": [
       "<Figure size 1440x1080 with 9 Axes>"
      ]
     },
     "metadata": {
      "needs_background": "light"
     },
     "output_type": "display_data"
    }
   ],
   "source": [
    "#checking the distribution of the data. \n",
    "%matplotlib inline\n",
    "import matplotlib.pyplot as plt\n",
    "admission_data_binary.hist(bins = 20, figsize=(20,15), rwidth = .6)\n",
    "plt.show()\n"
   ]
  },
  {
   "cell_type": "code",
   "execution_count": 12,
   "metadata": {},
   "outputs": [
    {
     "name": "stdout",
     "output_type": "stream",
     "text": [
      "-0.0628934593601882\n",
      "0.05721591369844269\n",
      "0.17126027744362737\n",
      "-0.27576116806333434\n",
      "-0.10699147866617165\n",
      "-0.06599054377889167\n",
      "-0.19158240605436225\n",
      "1.3394026321074384\n"
     ]
    }
   ],
   "source": [
    "#Checking skew\n",
    "num_cols = list(admission_data_binary.select_dtypes(np.number).columns)\n",
    "for col in num_cols:\n",
    "    print(admission_data_binary[col].skew())"
   ]
  },
  {
   "cell_type": "markdown",
   "metadata": {},
   "source": [
    "## The relevent numerical data features distributions appears to be relatively normal so I do not believe we need to transform our data"
   ]
  },
  {
   "cell_type": "code",
   "execution_count": 13,
   "metadata": {},
   "outputs": [],
   "source": [
    "from sklearn.preprocessing import StandardScaler\n",
    "from sklearn.model_selection import train_test_split"
   ]
  },
  {
   "cell_type": "code",
   "execution_count": 14,
   "metadata": {},
   "outputs": [],
   "source": [
    "y = admission_data_binary[\"Admit?\"]\n",
    "X = admission_data_binary.drop(columns = [\"Admit?\"])\n"
   ]
  },
  {
   "cell_type": "code",
   "execution_count": 15,
   "metadata": {},
   "outputs": [],
   "source": [
    "#Splitting our data into training and testing \n",
    "\n",
    "X_train, X_test, y_train, y_test = train_test_split(X, y, random_state=42, test_size=.20)"
   ]
  },
  {
   "cell_type": "code",
   "execution_count": 16,
   "metadata": {},
   "outputs": [],
   "source": [
    "scaler = StandardScaler()\n",
    "X_train_scaled = pd.DataFrame(scaler.fit_transform(X_train), columns=X_train.columns)\n",
    "X_test_scaled = pd.DataFrame(scaler.transform(X_test), columns=X_test.columns)"
   ]
  },
  {
   "cell_type": "code",
   "execution_count": 17,
   "metadata": {},
   "outputs": [
    {
     "data": {
      "image/png": "[encoded data removed]",
      "text/plain": [
       "<Figure size 432x288 with 1 Axes>"
      ]
     },
     "metadata": {
      "needs_background": "light"
     },
     "output_type": "display_data"
    },
    {
     "data": {
      "image/png": "[encoded data removed]",
      "text/plain": [
       "<Figure size 432x288 with 1 Axes>"
      ]
     },
     "metadata": {
      "needs_background": "light"
     },
     "output_type": "display_data"
    },
    {
     "data": {
      "image/png": "[encoded data removed]",
      "text/plain": [
       "<Figure size 432x288 with 1 Axes>"
      ]
     },
     "metadata": {
      "needs_background": "light"
     },
     "output_type": "display_data"
    },
    {
     "data": {
      "image/png": "[encoded data removed]",
      "text/plain": [
       "<Figure size 432x288 with 1 Axes>"
      ]
     },
     "metadata": {
      "needs_background": "light"
     },
     "output_type": "display_data"
    },
    {
     "data": {
      "image/png": "[encoded data removed]",
      "text/plain": [
       "<Figure size 432x288 with 1 Axes>"
      ]
     },
     "metadata": {
      "needs_background": "light"
     },
     "output_type": "display_data"
    },
    {
     "data": {
      "image/png": "[encoded data removed]",
      "text/plain": [
       "<Figure size 432x288 with 1 Axes>"
      ]
     },
     "metadata": {
      "needs_background": "light"
     },
     "output_type": "display_data"
    },
    {
     "data": {
      "image/png": "[encoded data removed]",
      "text/plain": [
       "<Figure size 432x288 with 1 Axes>"
      ]
     },
     "metadata": {
      "needs_background": "light"
     },
     "output_type": "display_data"
    }
   ],
   "source": [
    "import seaborn as sns\n",
    "for col in X_train_scaled.columns:\n",
    "    sns.boxplot(x=\"Admit?\", y = col, data=pd.concat([X_train, y_train], axis = 1 ))\n",
    "    plt.show()"
   ]
  },
  {
   "cell_type": "code",
   "execution_count": 18,
   "metadata": {},
   "outputs": [],
   "source": [
    "#looking at our Box Plots for our numerical data, we do not see many outliers. We Do see some in University rating, but as \n",
    "#it is only on a scale from 1-5 those high scores may be useful. Since ourdataset is not that large I want to \n",
    "#preserve as much of the original data as possible. "
   ]
  },
  {
   "cell_type": "code",
   "execution_count": 19,
   "metadata": {},
   "outputs": [
    {
     "data": {
      "text/html": [
       "<div>\n",
       "<style scoped>\n",
       "    .dataframe tbody tr th:only-of-type {\n",
       "        vertical-align: middle;\n",
       "    }\n",
       "\n",
       "    .dataframe tbody tr th {\n",
       "        vertical-align: top;\n",
       "    }\n",
       "\n",
       "    .dataframe thead th {\n",
       "        text-align: right;\n",
       "    }\n",
       "</style>\n",
       "<table border=\"1\" class=\"dataframe\">\n",
       "  <thead>\n",
       "    <tr style=\"text-align: right;\">\n",
       "      <th></th>\n",
       "      <th>GRE Score</th>\n",
       "      <th>TOEFL Score</th>\n",
       "      <th>University Rating</th>\n",
       "      <th>SOP</th>\n",
       "      <th>LOR</th>\n",
       "      <th>CGPA</th>\n",
       "      <th>Research</th>\n",
       "      <th>Admit?</th>\n",
       "    </tr>\n",
       "  </thead>\n",
       "  <tbody>\n",
       "    <tr>\n",
       "      <th>GRE Score</th>\n",
       "      <td>1.000000</td>\n",
       "      <td>0.835977</td>\n",
       "      <td>0.668976</td>\n",
       "      <td>0.612831</td>\n",
       "      <td>0.557555</td>\n",
       "      <td>0.833060</td>\n",
       "      <td>0.580391</td>\n",
       "      <td>0.640516</td>\n",
       "    </tr>\n",
       "    <tr>\n",
       "      <th>TOEFL Score</th>\n",
       "      <td>0.835977</td>\n",
       "      <td>1.000000</td>\n",
       "      <td>0.695590</td>\n",
       "      <td>0.657981</td>\n",
       "      <td>0.567721</td>\n",
       "      <td>0.828417</td>\n",
       "      <td>0.489858</td>\n",
       "      <td>0.671785</td>\n",
       "    </tr>\n",
       "    <tr>\n",
       "      <th>University Rating</th>\n",
       "      <td>0.668976</td>\n",
       "      <td>0.695590</td>\n",
       "      <td>1.000000</td>\n",
       "      <td>0.734523</td>\n",
       "      <td>0.660123</td>\n",
       "      <td>0.746479</td>\n",
       "      <td>0.447783</td>\n",
       "      <td>0.648336</td>\n",
       "    </tr>\n",
       "    <tr>\n",
       "      <th>SOP</th>\n",
       "      <td>0.612831</td>\n",
       "      <td>0.657981</td>\n",
       "      <td>0.734523</td>\n",
       "      <td>1.000000</td>\n",
       "      <td>0.729593</td>\n",
       "      <td>0.718144</td>\n",
       "      <td>0.444029</td>\n",
       "      <td>0.579188</td>\n",
       "    </tr>\n",
       "    <tr>\n",
       "      <th>LOR</th>\n",
       "      <td>0.557555</td>\n",
       "      <td>0.567721</td>\n",
       "      <td>0.660123</td>\n",
       "      <td>0.729593</td>\n",
       "      <td>1.000000</td>\n",
       "      <td>0.670211</td>\n",
       "      <td>0.396859</td>\n",
       "      <td>0.547431</td>\n",
       "    </tr>\n",
       "    <tr>\n",
       "      <th>CGPA</th>\n",
       "      <td>0.833060</td>\n",
       "      <td>0.828417</td>\n",
       "      <td>0.746479</td>\n",
       "      <td>0.718144</td>\n",
       "      <td>0.670211</td>\n",
       "      <td>1.000000</td>\n",
       "      <td>0.521654</td>\n",
       "      <td>0.695317</td>\n",
       "    </tr>\n",
       "    <tr>\n",
       "      <th>Research</th>\n",
       "      <td>0.580391</td>\n",
       "      <td>0.489858</td>\n",
       "      <td>0.447783</td>\n",
       "      <td>0.444029</td>\n",
       "      <td>0.396859</td>\n",
       "      <td>0.521654</td>\n",
       "      <td>1.000000</td>\n",
       "      <td>0.438027</td>\n",
       "    </tr>\n",
       "    <tr>\n",
       "      <th>Admit?</th>\n",
       "      <td>0.640516</td>\n",
       "      <td>0.671785</td>\n",
       "      <td>0.648336</td>\n",
       "      <td>0.579188</td>\n",
       "      <td>0.547431</td>\n",
       "      <td>0.695317</td>\n",
       "      <td>0.438027</td>\n",
       "      <td>1.000000</td>\n",
       "    </tr>\n",
       "  </tbody>\n",
       "</table>\n",
       "</div>"
      ],
      "text/plain": [
       "                   GRE Score  TOEFL Score  University Rating       SOP  \\\n",
       "GRE Score           1.000000     0.835977           0.668976  0.612831   \n",
       "TOEFL Score         0.835977     1.000000           0.695590  0.657981   \n",
       "University Rating   0.668976     0.695590           1.000000  0.734523   \n",
       "SOP                 0.612831     0.657981           0.734523  1.000000   \n",
       "LOR                 0.557555     0.567721           0.660123  0.729593   \n",
       "CGPA                0.833060     0.828417           0.746479  0.718144   \n",
       "Research            0.580391     0.489858           0.447783  0.444029   \n",
       "Admit?              0.640516     0.671785           0.648336  0.579188   \n",
       "\n",
       "                       LOR       CGPA  Research    Admit?  \n",
       "GRE Score          0.557555  0.833060  0.580391  0.640516  \n",
       "TOEFL Score        0.567721  0.828417  0.489858  0.671785  \n",
       "University Rating  0.660123  0.746479  0.447783  0.648336  \n",
       "SOP                0.729593  0.718144  0.444029  0.579188  \n",
       "LOR                1.000000  0.670211  0.396859  0.547431  \n",
       "CGPA               0.670211  1.000000  0.521654  0.695317  \n",
       "Research           0.396859  0.521654  1.000000  0.438027  \n",
       "Admit?             0.547431  0.695317  0.438027  1.000000  "
      ]
     },
     "execution_count": 19,
     "metadata": {},
     "output_type": "execute_result"
    }
   ],
   "source": [
    "#Checking feature correlations before trying more advanced methods\n",
    "admission_data_binary.corr()"
   ]
  },
  {
   "cell_type": "markdown",
   "metadata": {},
   "source": [
    "## Calculate and Tabulate Important Features"
   ]
  },
  {
   "cell_type": "markdown",
   "metadata": {},
   "source": [
    "### Method 1 (2 Points)"
   ]
  },
  {
   "cell_type": "code",
   "execution_count": 20,
   "metadata": {},
   "outputs": [
    {
     "data": {
      "text/html": [
       "<style>#sk-container-id-1 {color: black;background-color: white;}#sk-container-id-1 pre{padding: 0;}#sk-container-id-1 div.sk-toggleable {background-color: white;}#sk-container-id-1 label.sk-toggleable__label {cursor: pointer;display: block;width: 100%;margin-bottom: 0;padding: 0.3em;box-sizing: border-box;text-align: center;}#sk-container-id-1 label.sk-toggleable__label-arrow:before {content: \"▸\";float: left;margin-right: 0.25em;color: #696969;}#sk-container-id-1 label.sk-toggleable__label-arrow:hover:before {color: black;}#sk-container-id-1 div.sk-estimator:hover label.sk-toggleable__label-arrow:before {color: black;}#sk-container-id-1 div.sk-toggleable__content {max-height: 0;max-width: 0;overflow: hidden;text-align: left;background-color: #f0f8ff;}#sk-container-id-1 div.sk-toggleable__content pre {margin: 0.2em;color: black;border-radius: 0.25em;background-color: #f0f8ff;}#sk-container-id-1 input.sk-toggleable__control:checked~div.sk-toggleable__content {max-height: 200px;max-width: 100%;overflow: auto;}#sk-container-id-1 input.sk-toggleable__control:checked~label.sk-toggleable__label-arrow:before {content: \"▾\";}#sk-container-id-1 div.sk-estimator input.sk-toggleable__control:checked~label.sk-toggleable__label {background-color: #d4ebff;}#sk-container-id-1 div.sk-label input.sk-toggleable__control:checked~label.sk-toggleable__label {background-color: #d4ebff;}#sk-container-id-1 input.sk-hidden--visually {border: 0;clip: rect(1px 1px 1px 1px);clip: rect(1px, 1px, 1px, 1px);height: 1px;margin: -1px;overflow: hidden;padding: 0;position: absolute;width: 1px;}#sk-container-id-1 div.sk-estimator {font-family: monospace;background-color: #f0f8ff;border: 1px dotted black;border-radius: 0.25em;box-sizing: border-box;margin-bottom: 0.5em;}#sk-container-id-1 div.sk-estimator:hover {background-color: #d4ebff;}#sk-container-id-1 div.sk-parallel-item::after {content: \"\";width: 100%;border-bottom: 1px solid gray;flex-grow: 1;}#sk-container-id-1 div.sk-label:hover label.sk-toggleable__label {background-color: #d4ebff;}#sk-container-id-1 div.sk-serial::before {content: \"\";position: absolute;border-left: 1px solid gray;box-sizing: border-box;top: 0;bottom: 0;left: 50%;z-index: 0;}#sk-container-id-1 div.sk-serial {display: flex;flex-direction: column;align-items: center;background-color: white;padding-right: 0.2em;padding-left: 0.2em;position: relative;}#sk-container-id-1 div.sk-item {position: relative;z-index: 1;}#sk-container-id-1 div.sk-parallel {display: flex;align-items: stretch;justify-content: center;background-color: white;position: relative;}#sk-container-id-1 div.sk-item::before, #sk-container-id-1 div.sk-parallel-item::before {content: \"\";position: absolute;border-left: 1px solid gray;box-sizing: border-box;top: 0;bottom: 0;left: 50%;z-index: -1;}#sk-container-id-1 div.sk-parallel-item {display: flex;flex-direction: column;z-index: 1;position: relative;background-color: white;}#sk-container-id-1 div.sk-parallel-item:first-child::after {align-self: flex-end;width: 50%;}#sk-container-id-1 div.sk-parallel-item:last-child::after {align-self: flex-start;width: 50%;}#sk-container-id-1 div.sk-parallel-item:only-child::after {width: 0;}#sk-container-id-1 div.sk-dashed-wrapped {border: 1px dashed gray;margin: 0 0.4em 0.5em 0.4em;box-sizing: border-box;padding-bottom: 0.4em;background-color: white;}#sk-container-id-1 div.sk-label label {font-family: monospace;font-weight: bold;display: inline-block;line-height: 1.2em;}#sk-container-id-1 div.sk-label-container {text-align: center;}#sk-container-id-1 div.sk-container {/* jupyter's `normalize.less` sets `[hidden] { display: none; }` but bootstrap.min.css set `[hidden] { display: none !important; }` so we also need the `!important` here to be able to override the default hidden behavior on the sphinx rendered scikit-learn.org. See: https://github.com/scikit-learn/scikit-learn/issues/21755 */display: inline-block !important;position: relative;}#sk-container-id-1 div.sk-text-repr-fallback {display: none;}</style><div id=\"sk-container-id-1\" class=\"sk-top-container\"><div class=\"sk-text-repr-fallback\"><pre>RFECV(cv=StratifiedKFold(n_splits=5, random_state=None, shuffle=False),\n",
       "      estimator=RandomForestClassifier(n_estimators=500, random_state=42),\n",
       "      scoring=&#x27;roc_auc&#x27;)</pre><b>In a Jupyter environment, please rerun this cell to show the HTML representation or trust the notebook. <br />On GitHub, the HTML representation is unable to render, please try loading this page with nbviewer.org.</b></div><div class=\"sk-container\" hidden><div class=\"sk-item sk-dashed-wrapped\"><div class=\"sk-label-container\"><div class=\"sk-label sk-toggleable\"><input class=\"sk-toggleable__control sk-hidden--visually\" id=\"sk-estimator-id-1\" type=\"checkbox\" ><label for=\"sk-estimator-id-1\" class=\"sk-toggleable__label sk-toggleable__label-arrow\">RFECV</label><div class=\"sk-toggleable__content\"><pre>RFECV(cv=StratifiedKFold(n_splits=5, random_state=None, shuffle=False),\n",
       "      estimator=RandomForestClassifier(n_estimators=500, random_state=42),\n",
       "      scoring=&#x27;roc_auc&#x27;)</pre></div></div></div><div class=\"sk-parallel\"><div class=\"sk-parallel-item\"><div class=\"sk-item\"><div class=\"sk-label-container\"><div class=\"sk-label sk-toggleable\"><input class=\"sk-toggleable__control sk-hidden--visually\" id=\"sk-estimator-id-2\" type=\"checkbox\" ><label for=\"sk-estimator-id-2\" class=\"sk-toggleable__label sk-toggleable__label-arrow\">estimator: RandomForestClassifier</label><div class=\"sk-toggleable__content\"><pre>RandomForestClassifier(n_estimators=500, random_state=42)</pre></div></div></div><div class=\"sk-serial\"><div class=\"sk-item\"><div class=\"sk-estimator sk-toggleable\"><input class=\"sk-toggleable__control sk-hidden--visually\" id=\"sk-estimator-id-3\" type=\"checkbox\" ><label for=\"sk-estimator-id-3\" class=\"sk-toggleable__label sk-toggleable__label-arrow\">RandomForestClassifier</label><div class=\"sk-toggleable__content\"><pre>RandomForestClassifier(n_estimators=500, random_state=42)</pre></div></div></div></div></div></div></div></div></div></div>"
      ],
      "text/plain": [
       "RFECV(cv=StratifiedKFold(n_splits=5, random_state=None, shuffle=False),\n",
       "      estimator=RandomForestClassifier(n_estimators=500, random_state=42),\n",
       "      scoring='roc_auc')"
      ]
     },
     "execution_count": 20,
     "metadata": {},
     "output_type": "execute_result"
    }
   ],
   "source": [
    "#2 points\n",
    "#We will use repeated RFE with cross-validation to select feature. We use Stratifed K Fold\n",
    "#as we want to address any class imbalance.\n",
    "# I want to the most generalizable model so even though \n",
    "#slower than other methods it is more robust.\n",
    "\n",
    "from sklearn.ensemble import RandomForestClassifier\n",
    "from sklearn.feature_selection import RFECV\n",
    "\n",
    "from sklearn.model_selection import StratifiedKFold\n",
    "\n",
    "rfc = RandomForestClassifier(n_estimators=500, random_state=42)\n",
    "min_features_to_select = 1\n",
    "rf_rfe_cv = RFECV(rfc, step=1, min_features_to_select=min_features_to_select, scoring='roc_auc', \n",
    "                  cv=StratifiedKFold(n_splits=5))\n",
    "rf_rfe_cv.fit(X_train_scaled, y_train)"
   ]
  },
  {
   "cell_type": "code",
   "execution_count": 21,
   "metadata": {},
   "outputs": [
    {
     "name": "stdout",
     "output_type": "stream",
     "text": [
      "Optimal number of features : 7\n"
     ]
    },
    {
     "name": "stderr",
     "output_type": "stream",
     "text": [
      "C:\\Users\\Matthew\\anaconda3\\lib\\site-packages\\sklearn\\utils\\deprecation.py:103: FutureWarning: The `grid_scores_` attribute is deprecated in version 1.0 in favor of `cv_results_` and will be removed in version 1.2.\n",
      "  warnings.warn(msg, category=FutureWarning)\n"
     ]
    },
    {
     "data": {
      "image/png": "[encoded data removed]",
      "text/plain": [
       "<Figure size 432x288 with 1 Axes>"
      ]
     },
     "metadata": {
      "needs_background": "light"
     },
     "output_type": "display_data"
    }
   ],
   "source": [
    "\n",
    "print(\"Optimal number of features : %d\" % rf_rfe_cv.n_features_)\n",
    "\n",
    "# Plot number of features VS. cross-validation scores\n",
    "plt.figure()\n",
    "plt.xlabel(\"Number of features selected\")\n",
    "plt.ylabel(\"Cross validation score\")\n",
    "plt.plot(\n",
    "    range(min_features_to_select, len(rf_rfe_cv.grid_scores_) + min_features_to_select),\n",
    "    rf_rfe_cv.grid_scores_,\n",
    ")\n",
    "plt.show()"
   ]
  },
  {
   "cell_type": "code",
   "execution_count": 22,
   "metadata": {},
   "outputs": [
    {
     "name": "stdout",
     "output_type": "stream",
     "text": [
      "[ True  True  True  True  True  True  True]\n",
      "[1 1 1 1 1 1 1]\n",
      "Index(['TOEFL Score', 'TOEFL Score', 'TOEFL Score', 'TOEFL Score',\n",
      "       'TOEFL Score', 'TOEFL Score', 'TOEFL Score'],\n",
      "      dtype='object')\n"
     ]
    }
   ],
   "source": [
    "print(rf_rfe_cv.support_)\n",
    "print(rf_rfe_cv.ranking_)\n",
    "print(admission_data_binary.columns[rf_rfe_cv.ranking_])\n",
    "\n",
    "#rf_rfe_cv.cv_results_\n",
    "#I could not get this to run even after updating"
   ]
  },
  {
   "cell_type": "markdown",
   "metadata": {},
   "source": [
    "#RFE with cross validations ranking shows us that the most improtant feature is the \"TOEFL Score\".\n",
    "Our graph show us a few  things such as it appears that we could create a good model with just one feature. \n",
    "We also see that there is a performace drop as well as a the curve plateuing. \n",
    "Although the suggested optimal number of features is 7, that performance may suggest overfitting on the training data so I\n",
    "will run more analysis. "
   ]
  },
  {
   "cell_type": "code",
   "execution_count": 23,
   "metadata": {},
   "outputs": [
    {
     "name": "stdout",
     "output_type": "stream",
     "text": [
      "[ True False False False False  True False]\n",
      "[1 2 3 4 5 1 6]\n"
     ]
    }
   ],
   "source": [
    "#I will use regular RFE\n",
    "from sklearn.feature_selection import RFE\n",
    "\n",
    "rfc = RandomForestClassifier(n_estimators=500, random_state=42)\n",
    "rf_rfe = RFE(rfc, n_features_to_select=2, step=1)\n",
    "rf_rfe.fit(X_train_scaled, y_train)\n",
    "\n",
    "print(rf_rfe.support_)\n",
    "print(rf_rfe.ranking_)"
   ]
  },
  {
   "cell_type": "code",
   "execution_count": 24,
   "metadata": {},
   "outputs": [
    {
     "data": {
      "text/plain": [
       "Index(['TOEFL Score', 'University Rating', 'SOP', 'LOR ', 'CGPA',\n",
       "       'TOEFL Score', 'Research'],\n",
       "      dtype='object')"
      ]
     },
     "execution_count": 24,
     "metadata": {},
     "output_type": "execute_result"
    }
   ],
   "source": [
    "admission_data_binary.columns[rf_rfe.ranking_]"
   ]
  },
  {
   "cell_type": "markdown",
   "metadata": {},
   "source": [
    "### Method 2 (2 Points)"
   ]
  },
  {
   "cell_type": "code",
   "execution_count": 25,
   "metadata": {},
   "outputs": [],
   "source": [
    "# 2 points\n",
    "#!pip install sklearn-genetic-opt"
   ]
  },
  {
   "cell_type": "code",
   "execution_count": 26,
   "metadata": {},
   "outputs": [],
   "source": [
    "from sklearn_genetic import GAFeatureSelectionCV\n",
    "from sklearn_genetic.plots import plot_fitness_evolution\n",
    "\n",
    "\n",
    "\n",
    "rf_clf = RandomForestClassifier(n_estimators=500, random_state=42)\n",
    "#cv = StratifiedKFold(n_splits=5, shuffle=True)\n",
    "ga_features = GAFeatureSelectionCV(\n",
    "    estimator=rf_clf,\n",
    "    cv=5,\n",
    "    scoring=\"roc_auc\",\n",
    "    population_size=30,\n",
    "    generations=10,\n",
    "    n_jobs=-1,\n",
    "    verbose=True,\n",
    "    keep_top_k=2,\n",
    "    elitism=True,\n",
    ")"
   ]
  },
  {
   "cell_type": "code",
   "execution_count": 28,
   "metadata": {},
   "outputs": [
    {
     "name": "stderr",
     "output_type": "stream",
     "text": [
      "C:\\Users\\Matthew\\anaconda3\\lib\\site-packages\\sklearn\\utils\\metaestimators.py:201: FutureWarning: if_delegate_has_method was deprecated in version 1.1 and will be removed in version 1.3. Use if_available instead.\n",
      "  warnings.warn(\n",
      "C:\\Users\\Matthew\\anaconda3\\lib\\site-packages\\deap\\creator.py:138: RuntimeWarning: A class named 'FitnessMax' has already been created and it will be overwritten. Consider deleting previous creation of that class or rename it.\n",
      "  warnings.warn(\"A class named '{0}' has already been created and it \"\n",
      "C:\\Users\\Matthew\\anaconda3\\lib\\site-packages\\deap\\creator.py:138: RuntimeWarning: A class named 'Individual' has already been created and it will be overwritten. Consider deleting previous creation of that class or rename it.\n",
      "  warnings.warn(\"A class named '{0}' has already been created and it \"\n"
     ]
    },
    {
     "data": {
      "application/vnd.jupyter.widget-view+json": {
       "model_id": "a3e7209a3a114435ba7c92e3f534f87b",
       "version_major": 2,
       "version_minor": 0
      },
      "text/plain": [
       "  0%|          | 0/11 [00:00<?, ?it/s]"
      ]
     },
     "metadata": {},
     "output_type": "display_data"
    },
    {
     "name": "stdout",
     "output_type": "stream",
     "text": [
      "gen\tnevals\tfitness\tfitness_std\tfitness_max\tfitness_min\n",
      "0  \t30    \t0.95733\t0.0461246  \t0.989459   \t0.754094   \n",
      "1  \t60    \t0.984397\t0.00500745 \t0.990221   \t0.97209    \n",
      "2  \t60    \t0.988965\t0.00139267 \t0.990593   \t0.984473   \n",
      "3  \t60    \t0.989733\t0.000567423\t0.990221   \t0.987355   \n",
      "4  \t60    \t0.99011 \t0.000231666\t0.990221   \t0.989459   \n",
      "5  \t60    \t0.990221\t4.44089e-16\t0.990221   \t0.990221   \n",
      "6  \t60    \t0.990221\t4.44089e-16\t0.990221   \t0.990221   \n",
      "7  \t60    \t0.990245\t9.29838e-05\t0.990593   \t0.990221   \n",
      "8  \t60    \t0.99027 \t0.000126716\t0.990593   \t0.990221   \n",
      "9  \t60    \t0.99037 \t0.000182617\t0.990593   \t0.990221   \n",
      "10 \t60    \t0.990469\t0.000175723\t0.990593   \t0.990221   \n"
     ]
    }
   ],
   "source": [
    "from sklearn_genetic.callbacks import ProgressBar\n",
    "\n",
    "ga_features.fit(X_train_scaled, y_train, callbacks = ProgressBar())\n",
    "features = ga_features.best_features_\n",
    "\n"
   ]
  },
  {
   "cell_type": "code",
   "execution_count": 29,
   "metadata": {},
   "outputs": [
    {
     "name": "stderr",
     "output_type": "stream",
     "text": [
      "C:\\Users\\Matthew\\anaconda3\\lib\\site-packages\\sklearn\\utils\\metaestimators.py:201: FutureWarning: if_delegate_has_method was deprecated in version 1.1 and will be removed in version 1.3. Use if_available instead.\n",
      "  warnings.warn(\n"
     ]
    },
    {
     "data": {
      "text/plain": [
       "1.0"
      ]
     },
     "execution_count": 29,
     "metadata": {},
     "output_type": "execute_result"
    }
   ],
   "source": [
    "from sklearn.metrics import roc_auc_score\n",
    "X_test_array = X_test_scaled.values\n",
    "y_predict_ga = ga_features.predict_proba(X_test_array[:, features])[:,1]\n",
    "ga_features_roc_auc = roc_auc_score(y_test, y_predict_ga)\n",
    "ga_features_roc_auc"
   ]
  },
  {
   "cell_type": "code",
   "execution_count": 30,
   "metadata": {},
   "outputs": [
    {
     "name": "stdout",
     "output_type": "stream",
     "text": [
      "[ True  True  True  True False  True  True]\n"
     ]
    },
    {
     "data": {
      "text/plain": [
       "Index(['GRE Score', 'TOEFL Score', 'University Rating', 'SOP', 'CGPA',\n",
       "       'Research'],\n",
       "      dtype='object')"
      ]
     },
     "execution_count": 30,
     "metadata": {},
     "output_type": "execute_result"
    }
   ],
   "source": [
    "print(ga_features.best_features_)\n",
    "X_train_scaled.columns[ga_features.best_features_]"
   ]
  },
  {
   "cell_type": "markdown",
   "metadata": {},
   "source": [
    "#Our genetic feature selection selected 6 features as the \"best\". This is also in line with the results from our \n",
    "#RFE CV feature selection which shows us that we can create a fantatic model with 5, 6 or 7 features.\n",
    "#I will go with our genetic feature selection and choose its selected 6 features.\n"
   ]
  },
  {
   "cell_type": "code",
   "execution_count": 31,
   "metadata": {},
   "outputs": [
    {
     "data": {
      "text/html": [
       "<div>\n",
       "<style scoped>\n",
       "    .dataframe tbody tr th:only-of-type {\n",
       "        vertical-align: middle;\n",
       "    }\n",
       "\n",
       "    .dataframe tbody tr th {\n",
       "        vertical-align: top;\n",
       "    }\n",
       "\n",
       "    .dataframe thead th {\n",
       "        text-align: right;\n",
       "    }\n",
       "</style>\n",
       "<table border=\"1\" class=\"dataframe\">\n",
       "  <thead>\n",
       "    <tr style=\"text-align: right;\">\n",
       "      <th></th>\n",
       "      <th>GRE Score</th>\n",
       "      <th>TOEFL Score</th>\n",
       "      <th>University Rating</th>\n",
       "      <th>SOP</th>\n",
       "      <th>CGPA</th>\n",
       "      <th>Research</th>\n",
       "    </tr>\n",
       "  </thead>\n",
       "  <tbody>\n",
       "    <tr>\n",
       "      <th>0</th>\n",
       "      <td>0.457111</td>\n",
       "      <td>0.424662</td>\n",
       "      <td>-0.057308</td>\n",
       "      <td>0.127156</td>\n",
       "      <td>0.139866</td>\n",
       "      <td>0.927613</td>\n",
       "    </tr>\n",
       "    <tr>\n",
       "      <th>1</th>\n",
       "      <td>0.102289</td>\n",
       "      <td>0.424662</td>\n",
       "      <td>-0.057308</td>\n",
       "      <td>0.617396</td>\n",
       "      <td>0.361100</td>\n",
       "      <td>-1.078036</td>\n",
       "    </tr>\n",
       "    <tr>\n",
       "      <th>2</th>\n",
       "      <td>2.053813</td>\n",
       "      <td>2.085930</td>\n",
       "      <td>1.689221</td>\n",
       "      <td>1.107637</td>\n",
       "      <td>2.250095</td>\n",
       "      <td>0.927613</td>\n",
       "    </tr>\n",
       "    <tr>\n",
       "      <th>3</th>\n",
       "      <td>0.279700</td>\n",
       "      <td>-0.572099</td>\n",
       "      <td>-0.057308</td>\n",
       "      <td>-0.363084</td>\n",
       "      <td>-0.030313</td>\n",
       "      <td>0.927613</td>\n",
       "    </tr>\n",
       "    <tr>\n",
       "      <th>4</th>\n",
       "      <td>-0.163828</td>\n",
       "      <td>-1.236607</td>\n",
       "      <td>-1.803837</td>\n",
       "      <td>-1.343565</td>\n",
       "      <td>-1.085428</td>\n",
       "      <td>-1.078036</td>\n",
       "    </tr>\n",
       "    <tr>\n",
       "      <th>...</th>\n",
       "      <td>...</td>\n",
       "      <td>...</td>\n",
       "      <td>...</td>\n",
       "      <td>...</td>\n",
       "      <td>...</td>\n",
       "      <td>...</td>\n",
       "    </tr>\n",
       "    <tr>\n",
       "      <th>315</th>\n",
       "      <td>1.698990</td>\n",
       "      <td>0.756915</td>\n",
       "      <td>1.689221</td>\n",
       "      <td>1.597877</td>\n",
       "      <td>1.994826</td>\n",
       "      <td>0.927613</td>\n",
       "    </tr>\n",
       "    <tr>\n",
       "      <th>316</th>\n",
       "      <td>1.078051</td>\n",
       "      <td>0.590789</td>\n",
       "      <td>0.815957</td>\n",
       "      <td>1.107637</td>\n",
       "      <td>1.007783</td>\n",
       "      <td>0.927613</td>\n",
       "    </tr>\n",
       "    <tr>\n",
       "      <th>317</th>\n",
       "      <td>-0.962179</td>\n",
       "      <td>-0.405973</td>\n",
       "      <td>-0.930573</td>\n",
       "      <td>-0.853324</td>\n",
       "      <td>-0.625942</td>\n",
       "      <td>0.927613</td>\n",
       "    </tr>\n",
       "    <tr>\n",
       "      <th>318</th>\n",
       "      <td>-1.317002</td>\n",
       "      <td>-1.402734</td>\n",
       "      <td>-1.803837</td>\n",
       "      <td>-1.343565</td>\n",
       "      <td>-2.276686</td>\n",
       "      <td>-1.078036</td>\n",
       "    </tr>\n",
       "    <tr>\n",
       "      <th>319</th>\n",
       "      <td>-0.252534</td>\n",
       "      <td>-0.239846</td>\n",
       "      <td>-0.930573</td>\n",
       "      <td>0.617396</td>\n",
       "      <td>-0.574888</td>\n",
       "      <td>-1.078036</td>\n",
       "    </tr>\n",
       "  </tbody>\n",
       "</table>\n",
       "<p>320 rows × 6 columns</p>\n",
       "</div>"
      ],
      "text/plain": [
       "     GRE Score  TOEFL Score  University Rating       SOP      CGPA  Research\n",
       "0     0.457111     0.424662          -0.057308  0.127156  0.139866  0.927613\n",
       "1     0.102289     0.424662          -0.057308  0.617396  0.361100 -1.078036\n",
       "2     2.053813     2.085930           1.689221  1.107637  2.250095  0.927613\n",
       "3     0.279700    -0.572099          -0.057308 -0.363084 -0.030313  0.927613\n",
       "4    -0.163828    -1.236607          -1.803837 -1.343565 -1.085428 -1.078036\n",
       "..         ...          ...                ...       ...       ...       ...\n",
       "315   1.698990     0.756915           1.689221  1.597877  1.994826  0.927613\n",
       "316   1.078051     0.590789           0.815957  1.107637  1.007783  0.927613\n",
       "317  -0.962179    -0.405973          -0.930573 -0.853324 -0.625942  0.927613\n",
       "318  -1.317002    -1.402734          -1.803837 -1.343565 -2.276686 -1.078036\n",
       "319  -0.252534    -0.239846          -0.930573  0.617396 -0.574888 -1.078036\n",
       "\n",
       "[320 rows x 6 columns]"
      ]
     },
     "execution_count": 31,
     "metadata": {},
     "output_type": "execute_result"
    }
   ],
   "source": [
    "X_train_scaled_best = X_train_scaled.drop(X_train_scaled.columns[[4]],axis=1)\n",
    "X_train_scaled_best"
   ]
  },
  {
   "cell_type": "code",
   "execution_count": 32,
   "metadata": {},
   "outputs": [
    {
     "data": {
      "text/html": [
       "<div>\n",
       "<style scoped>\n",
       "    .dataframe tbody tr th:only-of-type {\n",
       "        vertical-align: middle;\n",
       "    }\n",
       "\n",
       "    .dataframe tbody tr th {\n",
       "        vertical-align: top;\n",
       "    }\n",
       "\n",
       "    .dataframe thead th {\n",
       "        text-align: right;\n",
       "    }\n",
       "</style>\n",
       "<table border=\"1\" class=\"dataframe\">\n",
       "  <thead>\n",
       "    <tr style=\"text-align: right;\">\n",
       "      <th></th>\n",
       "      <th>GRE Score</th>\n",
       "      <th>TOEFL Score</th>\n",
       "      <th>University Rating</th>\n",
       "      <th>SOP</th>\n",
       "      <th>CGPA</th>\n",
       "      <th>Research</th>\n",
       "    </tr>\n",
       "  </thead>\n",
       "  <tbody>\n",
       "    <tr>\n",
       "      <th>0</th>\n",
       "      <td>-1.405707</td>\n",
       "      <td>-0.572099</td>\n",
       "      <td>-0.057308</td>\n",
       "      <td>0.127156</td>\n",
       "      <td>-0.796122</td>\n",
       "      <td>0.927613</td>\n",
       "    </tr>\n",
       "    <tr>\n",
       "      <th>1</th>\n",
       "      <td>-0.518651</td>\n",
       "      <td>-0.904353</td>\n",
       "      <td>-0.057308</td>\n",
       "      <td>1.107637</td>\n",
       "      <td>0.088813</td>\n",
       "      <td>0.927613</td>\n",
       "    </tr>\n",
       "    <tr>\n",
       "      <th>2</th>\n",
       "      <td>2.053813</td>\n",
       "      <td>1.089169</td>\n",
       "      <td>1.689221</td>\n",
       "      <td>0.617396</td>\n",
       "      <td>1.722538</td>\n",
       "      <td>0.927613</td>\n",
       "    </tr>\n",
       "    <tr>\n",
       "      <th>3</th>\n",
       "      <td>0.723228</td>\n",
       "      <td>0.092408</td>\n",
       "      <td>0.815957</td>\n",
       "      <td>1.107637</td>\n",
       "      <td>0.803567</td>\n",
       "      <td>0.927613</td>\n",
       "    </tr>\n",
       "    <tr>\n",
       "      <th>4</th>\n",
       "      <td>-1.405707</td>\n",
       "      <td>-1.734987</td>\n",
       "      <td>-0.930573</td>\n",
       "      <td>-0.363084</td>\n",
       "      <td>-1.204553</td>\n",
       "      <td>0.927613</td>\n",
       "    </tr>\n",
       "    <tr>\n",
       "      <th>...</th>\n",
       "      <td>...</td>\n",
       "      <td>...</td>\n",
       "      <td>...</td>\n",
       "      <td>...</td>\n",
       "      <td>...</td>\n",
       "      <td>...</td>\n",
       "    </tr>\n",
       "    <tr>\n",
       "      <th>75</th>\n",
       "      <td>-0.075123</td>\n",
       "      <td>-0.405973</td>\n",
       "      <td>-0.057308</td>\n",
       "      <td>-0.363084</td>\n",
       "      <td>0.241974</td>\n",
       "      <td>-1.078036</td>\n",
       "    </tr>\n",
       "    <tr>\n",
       "      <th>76</th>\n",
       "      <td>-0.429945</td>\n",
       "      <td>0.424662</td>\n",
       "      <td>-0.930573</td>\n",
       "      <td>0.127156</td>\n",
       "      <td>-0.098385</td>\n",
       "      <td>-1.078036</td>\n",
       "    </tr>\n",
       "    <tr>\n",
       "      <th>77</th>\n",
       "      <td>-1.405707</td>\n",
       "      <td>-1.568860</td>\n",
       "      <td>-1.803837</td>\n",
       "      <td>-1.343565</td>\n",
       "      <td>-0.949284</td>\n",
       "      <td>0.927613</td>\n",
       "    </tr>\n",
       "    <tr>\n",
       "      <th>78</th>\n",
       "      <td>1.078051</td>\n",
       "      <td>1.919803</td>\n",
       "      <td>0.815957</td>\n",
       "      <td>1.107637</td>\n",
       "      <td>0.973747</td>\n",
       "      <td>0.927613</td>\n",
       "    </tr>\n",
       "    <tr>\n",
       "      <th>79</th>\n",
       "      <td>-0.341240</td>\n",
       "      <td>0.258535</td>\n",
       "      <td>-0.057308</td>\n",
       "      <td>0.617396</td>\n",
       "      <td>0.701460</td>\n",
       "      <td>-1.078036</td>\n",
       "    </tr>\n",
       "  </tbody>\n",
       "</table>\n",
       "<p>80 rows × 6 columns</p>\n",
       "</div>"
      ],
      "text/plain": [
       "    GRE Score  TOEFL Score  University Rating       SOP      CGPA  Research\n",
       "0   -1.405707    -0.572099          -0.057308  0.127156 -0.796122  0.927613\n",
       "1   -0.518651    -0.904353          -0.057308  1.107637  0.088813  0.927613\n",
       "2    2.053813     1.089169           1.689221  0.617396  1.722538  0.927613\n",
       "3    0.723228     0.092408           0.815957  1.107637  0.803567  0.927613\n",
       "4   -1.405707    -1.734987          -0.930573 -0.363084 -1.204553  0.927613\n",
       "..        ...          ...                ...       ...       ...       ...\n",
       "75  -0.075123    -0.405973          -0.057308 -0.363084  0.241974 -1.078036\n",
       "76  -0.429945     0.424662          -0.930573  0.127156 -0.098385 -1.078036\n",
       "77  -1.405707    -1.568860          -1.803837 -1.343565 -0.949284  0.927613\n",
       "78   1.078051     1.919803           0.815957  1.107637  0.973747  0.927613\n",
       "79  -0.341240     0.258535          -0.057308  0.617396  0.701460 -1.078036\n",
       "\n",
       "[80 rows x 6 columns]"
      ]
     },
     "execution_count": 32,
     "metadata": {},
     "output_type": "execute_result"
    }
   ],
   "source": [
    "X_test_scaled_best = X_test_scaled.drop(X_test_scaled.columns[[4]],axis=1)\n",
    "X_test_scaled_best"
   ]
  },
  {
   "cell_type": "markdown",
   "metadata": {},
   "source": [
    "# Train"
   ]
  },
  {
   "cell_type": "markdown",
   "metadata": {},
   "source": [
    "## Algorithm 1 (2 Points)"
   ]
  },
  {
   "cell_type": "markdown",
   "metadata": {},
   "source": [
    "### Baseline"
   ]
  },
  {
   "cell_type": "code",
   "execution_count": 33,
   "metadata": {},
   "outputs": [
    {
     "data": {
      "text/plain": [
       "0.95141065830721"
      ]
     },
     "execution_count": 33,
     "metadata": {},
     "output_type": "execute_result"
    }
   ],
   "source": [
    "from sklearn.tree import DecisionTreeClassifier\n",
    "dtc = DecisionTreeClassifier(random_state=42)\n",
    "dtc.fit(X_train_scaled, y_train)\n",
    "no_tuning_roc_auc = roc_auc_score(y_test, dtc.predict_proba(X_test_scaled)[:,1])\n",
    "no_tuning_roc_auc\n"
   ]
  },
  {
   "cell_type": "code",
   "execution_count": 34,
   "metadata": {},
   "outputs": [],
   "source": [
    "#This is our baseline\n",
    "\n",
    "from sklearn.model_selection import cross_val_score\n",
    "#cross_val_score(dtc, X_train, y_train, cv=5, scoring=\"roc_auc\")\n",
    "#We can use StratifiedKfold for CV instead"
   ]
  },
  {
   "cell_type": "code",
   "execution_count": 35,
   "metadata": {},
   "outputs": [
    {
     "name": "stdout",
     "output_type": "stream",
     "text": [
      "0.9252336448598131\n",
      "0.9252336448598131\n",
      "0.9622641509433962\n"
     ]
    }
   ],
   "source": [
    "\n",
    "from sklearn.base import clone\n",
    "\n",
    "skfolds = StratifiedKFold(n_splits=3)\n",
    "\n",
    "for train_index, test_index in skfolds.split(X_train,y_train):\n",
    "    clone_dtc = clone(dtc)\n",
    "    X_train_folds = X_train.iloc[train_index]\n",
    "    y_train_folds = y_train.iloc[train_index]\n",
    "    X_test_fold = X_train.iloc[test_index]\n",
    "    y_test_fold = y_train.iloc[test_index]\n",
    "    \n",
    "    clone_dtc.fit(X_train_folds, y_train_folds)\n",
    "    y_pred = clone_dtc.predict(X_test_fold)\n",
    "    n_correct = sum(y_pred == y_test_fold)\n",
    "    print(n_correct/len(y_pred))"
   ]
  },
  {
   "cell_type": "code",
   "execution_count": 36,
   "metadata": {},
   "outputs": [],
   "source": [
    "X_trains_scaled = X_train.values\n",
    "X_tests_scaled = X_test.values\n",
    "X_trains = X_train.values\n",
    "X_tests = X_test.values"
   ]
  },
  {
   "cell_type": "markdown",
   "metadata": {},
   "source": [
    "### Tuned"
   ]
  },
  {
   "cell_type": "code",
   "execution_count": 37,
   "metadata": {},
   "outputs": [
    {
     "name": "stdout",
     "output_type": "stream",
     "text": [
      "Fitting 5 folds for each of 648 candidates, totalling 3240 fits\n"
     ]
    },
    {
     "name": "stderr",
     "output_type": "stream",
     "text": [
      "C:\\Users\\Matthew\\anaconda3\\lib\\site-packages\\sklearn\\model_selection\\_validation.py:378: FitFailedWarning: \n",
      "360 fits failed out of a total of 3240.\n",
      "The score on these train-test partitions for these parameters will be set to nan.\n",
      "If these failures are not expected, you can try to debug them by setting error_score='raise'.\n",
      "\n",
      "Below are more details about the failures:\n",
      "--------------------------------------------------------------------------------\n",
      "360 fits failed with the following error:\n",
      "Traceback (most recent call last):\n",
      "  File \"C:\\Users\\Matthew\\anaconda3\\lib\\site-packages\\sklearn\\model_selection\\_validation.py\", line 686, in _fit_and_score\n",
      "    estimator.fit(X_train, y_train, **fit_params)\n",
      "  File \"C:\\Users\\Matthew\\anaconda3\\lib\\site-packages\\sklearn\\tree\\_classes.py\", line 969, in fit\n",
      "    super().fit(\n",
      "  File \"C:\\Users\\Matthew\\anaconda3\\lib\\site-packages\\sklearn\\tree\\_classes.py\", line 265, in fit\n",
      "    check_scalar(\n",
      "  File \"C:\\Users\\Matthew\\anaconda3\\lib\\site-packages\\sklearn\\utils\\validation.py\", line 1480, in check_scalar\n",
      "    raise ValueError(\n",
      "ValueError: min_samples_split == 1, must be >= 2.\n",
      "\n",
      "  warnings.warn(some_fits_failed_message, FitFailedWarning)\n",
      "C:\\Users\\Matthew\\anaconda3\\lib\\site-packages\\sklearn\\model_selection\\_search.py:953: UserWarning: One or more of the test scores are non-finite: [     nan 0.91875  0.91875  0.91875  0.91875  0.91875  0.91875  0.91875\n",
      " 0.91875       nan 0.91875  0.91875  0.91875  0.91875  0.91875  0.91875\n",
      " 0.91875  0.91875       nan 0.91875  0.91875  0.91875  0.91875  0.91875\n",
      " 0.91875  0.91875  0.91875       nan 0.91875  0.91875  0.91875  0.91875\n",
      " 0.91875  0.91875  0.91875  0.91875       nan 0.925    0.925    0.925\n",
      " 0.925    0.925    0.925    0.925    0.925         nan 0.928125 0.928125\n",
      " 0.928125 0.928125 0.928125 0.928125 0.928125 0.928125      nan 0.928125\n",
      " 0.928125 0.928125 0.928125 0.928125 0.928125 0.928125 0.928125      nan\n",
      " 0.921875 0.921875 0.921875 0.921875 0.921875 0.921875 0.921875 0.921875\n",
      "      nan 0.928125 0.928125 0.928125 0.928125 0.928125 0.93125  0.93125\n",
      " 0.93125       nan 0.93125  0.93125  0.93125  0.93125  0.934375 0.9375\n",
      " 0.9375   0.9375        nan 0.928125 0.928125 0.928125 0.928125 0.928125\n",
      " 0.93125  0.93125  0.93125       nan 0.928125 0.928125 0.928125 0.928125\n",
      " 0.928125 0.928125 0.928125 0.928125      nan 0.934375 0.934375 0.934375\n",
      " 0.934375 0.934375 0.9375   0.9375   0.9375        nan 0.9375   0.9375\n",
      " 0.9375   0.9375   0.940625 0.94375  0.94375  0.94375       nan 0.934375\n",
      " 0.934375 0.934375 0.934375 0.934375 0.9375   0.9375   0.9375        nan\n",
      " 0.9125   0.9125   0.9125   0.9125   0.9125   0.9125   0.9125   0.91875\n",
      "      nan 0.934375 0.934375 0.928125 0.928125 0.925    0.928125 0.928125\n",
      " 0.928125      nan 0.928125 0.928125 0.928125 0.928125 0.93125  0.934375\n",
      " 0.934375 0.934375      nan 0.925    0.925    0.925    0.925    0.925\n",
      " 0.928125 0.928125 0.928125      nan 0.915625 0.915625 0.915625 0.915625\n",
      " 0.915625 0.915625 0.915625 0.921875      nan 0.921875 0.91875  0.915625\n",
      " 0.915625 0.9125   0.915625 0.915625 0.925         nan 0.91875  0.91875\n",
      " 0.91875  0.91875  0.91875  0.921875 0.93125  0.93125       nan 0.9125\n",
      " 0.9125   0.9125   0.9125   0.9125   0.915625 0.925    0.925         nan\n",
      " 0.91875  0.91875  0.91875  0.91875  0.91875  0.91875  0.91875  0.925\n",
      "      nan 0.91875  0.915625 0.9125   0.9125   0.9125   0.915625 0.915625\n",
      " 0.925         nan 0.915625 0.915625 0.915625 0.915625 0.91875  0.921875\n",
      " 0.93125  0.93125       nan 0.9125   0.9125   0.9125   0.9125   0.9125\n",
      " 0.915625 0.925    0.925         nan 0.91875  0.91875  0.91875  0.91875\n",
      " 0.91875  0.91875  0.91875  0.925         nan 0.91875  0.915625 0.9125\n",
      " 0.9125   0.9125   0.915625 0.915625 0.925         nan 0.915625 0.915625\n",
      " 0.915625 0.915625 0.91875  0.921875 0.93125  0.93125       nan 0.9125\n",
      " 0.9125   0.9125   0.9125   0.9125   0.915625 0.925    0.925         nan\n",
      " 0.91875  0.91875  0.91875  0.91875  0.91875  0.91875  0.91875  0.925\n",
      "      nan 0.91875  0.915625 0.9125   0.9125   0.9125   0.915625 0.915625\n",
      " 0.925         nan 0.915625 0.915625 0.915625 0.915625 0.91875  0.921875\n",
      " 0.93125  0.93125       nan 0.9125   0.9125   0.9125   0.9125   0.9125\n",
      " 0.915625 0.925    0.925         nan 0.91875  0.91875  0.91875  0.91875\n",
      " 0.91875  0.91875  0.91875  0.925         nan 0.921875 0.921875 0.921875\n",
      " 0.921875 0.921875 0.921875 0.921875 0.921875      nan 0.921875 0.921875\n",
      " 0.921875 0.921875 0.921875 0.921875 0.921875 0.921875      nan 0.921875\n",
      " 0.921875 0.921875 0.921875 0.921875 0.921875 0.921875 0.921875      nan\n",
      " 0.921875 0.921875 0.921875 0.921875 0.921875 0.921875 0.921875 0.921875\n",
      "      nan 0.921875 0.921875 0.921875 0.921875 0.921875 0.921875 0.921875\n",
      " 0.921875      nan 0.921875 0.921875 0.921875 0.921875 0.921875 0.921875\n",
      " 0.921875 0.921875      nan 0.921875 0.921875 0.921875 0.921875 0.921875\n",
      " 0.921875 0.921875 0.921875      nan 0.921875 0.921875 0.921875 0.921875\n",
      " 0.921875 0.921875 0.921875 0.921875      nan 0.946875 0.946875 0.946875\n",
      " 0.946875 0.946875 0.946875 0.946875 0.946875      nan 0.946875 0.946875\n",
      " 0.946875 0.946875 0.946875 0.946875 0.946875 0.946875      nan 0.946875\n",
      " 0.946875 0.946875 0.946875 0.946875 0.946875 0.946875 0.946875      nan\n",
      " 0.946875 0.946875 0.946875 0.946875 0.946875 0.946875 0.946875 0.946875\n",
      "      nan 0.921875 0.921875 0.921875 0.921875 0.921875 0.921875 0.921875\n",
      " 0.921875      nan 0.921875 0.921875 0.921875 0.921875 0.921875 0.921875\n",
      " 0.921875 0.921875      nan 0.921875 0.921875 0.921875 0.921875 0.921875\n",
      " 0.921875 0.921875 0.921875      nan 0.9125   0.9125   0.9125   0.9125\n",
      " 0.9125   0.9125   0.9125   0.9125        nan 0.9125   0.9125   0.9125\n",
      " 0.9125   0.9125   0.9125   0.915625 0.925         nan 0.9125   0.9125\n",
      " 0.9125   0.9125   0.9125   0.9125   0.915625 0.925         nan 0.915625\n",
      " 0.915625 0.915625 0.915625 0.915625 0.915625 0.915625 0.925         nan\n",
      " 0.91875  0.91875  0.91875  0.91875  0.91875  0.91875  0.91875  0.91875\n",
      "      nan 0.9375   0.9375   0.934375 0.934375 0.934375 0.93125  0.93125\n",
      " 0.925         nan 0.934375 0.934375 0.934375 0.934375 0.934375 0.93125\n",
      " 0.93125  0.925         nan 0.93125  0.93125  0.93125  0.93125  0.93125\n",
      " 0.93125  0.93125  0.925         nan 0.925    0.925    0.925    0.925\n",
      " 0.925    0.925    0.925    0.91875       nan 0.9375   0.934375 0.934375\n",
      " 0.934375 0.934375 0.93125  0.93125  0.925         nan 0.925    0.925\n",
      " 0.925    0.934375 0.934375 0.93125  0.93125  0.925         nan 0.93125\n",
      " 0.93125  0.93125  0.93125  0.93125  0.93125  0.93125  0.925         nan\n",
      " 0.925    0.925    0.925    0.925    0.925    0.925    0.925    0.91875\n",
      "      nan 0.934375 0.93125  0.93125  0.934375 0.934375 0.93125  0.93125\n",
      " 0.925         nan 0.928125 0.928125 0.928125 0.934375 0.934375 0.93125\n",
      " 0.93125  0.925         nan 0.93125  0.93125  0.93125  0.93125  0.93125\n",
      " 0.93125  0.93125  0.925         nan 0.925    0.925    0.925    0.925\n",
      " 0.925    0.925    0.925    0.91875       nan 0.934375 0.93125  0.93125\n",
      " 0.934375 0.934375 0.93125  0.93125  0.925         nan 0.928125 0.928125\n",
      " 0.928125 0.934375 0.934375 0.93125  0.93125  0.925         nan 0.93125\n",
      " 0.93125  0.93125  0.93125  0.93125  0.93125  0.93125  0.925         nan\n",
      " 0.925    0.925    0.925    0.925    0.925    0.925    0.925    0.91875 ]\n",
      "  warnings.warn(\n"
     ]
    },
    {
     "data": {
      "text/html": [
       "<style>#sk-container-id-2 {color: black;background-color: white;}#sk-container-id-2 pre{padding: 0;}#sk-container-id-2 div.sk-toggleable {background-color: white;}#sk-container-id-2 label.sk-toggleable__label {cursor: pointer;display: block;width: 100%;margin-bottom: 0;padding: 0.3em;box-sizing: border-box;text-align: center;}#sk-container-id-2 label.sk-toggleable__label-arrow:before {content: \"▸\";float: left;margin-right: 0.25em;color: #696969;}#sk-container-id-2 label.sk-toggleable__label-arrow:hover:before {color: black;}#sk-container-id-2 div.sk-estimator:hover label.sk-toggleable__label-arrow:before {color: black;}#sk-container-id-2 div.sk-toggleable__content {max-height: 0;max-width: 0;overflow: hidden;text-align: left;background-color: #f0f8ff;}#sk-container-id-2 div.sk-toggleable__content pre {margin: 0.2em;color: black;border-radius: 0.25em;background-color: #f0f8ff;}#sk-container-id-2 input.sk-toggleable__control:checked~div.sk-toggleable__content {max-height: 200px;max-width: 100%;overflow: auto;}#sk-container-id-2 input.sk-toggleable__control:checked~label.sk-toggleable__label-arrow:before {content: \"▾\";}#sk-container-id-2 div.sk-estimator input.sk-toggleable__control:checked~label.sk-toggleable__label {background-color: #d4ebff;}#sk-container-id-2 div.sk-label input.sk-toggleable__control:checked~label.sk-toggleable__label {background-color: #d4ebff;}#sk-container-id-2 input.sk-hidden--visually {border: 0;clip: rect(1px 1px 1px 1px);clip: rect(1px, 1px, 1px, 1px);height: 1px;margin: -1px;overflow: hidden;padding: 0;position: absolute;width: 1px;}#sk-container-id-2 div.sk-estimator {font-family: monospace;background-color: #f0f8ff;border: 1px dotted black;border-radius: 0.25em;box-sizing: border-box;margin-bottom: 0.5em;}#sk-container-id-2 div.sk-estimator:hover {background-color: #d4ebff;}#sk-container-id-2 div.sk-parallel-item::after {content: \"\";width: 100%;border-bottom: 1px solid gray;flex-grow: 1;}#sk-container-id-2 div.sk-label:hover label.sk-toggleable__label {background-color: #d4ebff;}#sk-container-id-2 div.sk-serial::before {content: \"\";position: absolute;border-left: 1px solid gray;box-sizing: border-box;top: 0;bottom: 0;left: 50%;z-index: 0;}#sk-container-id-2 div.sk-serial {display: flex;flex-direction: column;align-items: center;background-color: white;padding-right: 0.2em;padding-left: 0.2em;position: relative;}#sk-container-id-2 div.sk-item {position: relative;z-index: 1;}#sk-container-id-2 div.sk-parallel {display: flex;align-items: stretch;justify-content: center;background-color: white;position: relative;}#sk-container-id-2 div.sk-item::before, #sk-container-id-2 div.sk-parallel-item::before {content: \"\";position: absolute;border-left: 1px solid gray;box-sizing: border-box;top: 0;bottom: 0;left: 50%;z-index: -1;}#sk-container-id-2 div.sk-parallel-item {display: flex;flex-direction: column;z-index: 1;position: relative;background-color: white;}#sk-container-id-2 div.sk-parallel-item:first-child::after {align-self: flex-end;width: 50%;}#sk-container-id-2 div.sk-parallel-item:last-child::after {align-self: flex-start;width: 50%;}#sk-container-id-2 div.sk-parallel-item:only-child::after {width: 0;}#sk-container-id-2 div.sk-dashed-wrapped {border: 1px dashed gray;margin: 0 0.4em 0.5em 0.4em;box-sizing: border-box;padding-bottom: 0.4em;background-color: white;}#sk-container-id-2 div.sk-label label {font-family: monospace;font-weight: bold;display: inline-block;line-height: 1.2em;}#sk-container-id-2 div.sk-label-container {text-align: center;}#sk-container-id-2 div.sk-container {/* jupyter's `normalize.less` sets `[hidden] { display: none; }` but bootstrap.min.css set `[hidden] { display: none !important; }` so we also need the `!important` here to be able to override the default hidden behavior on the sphinx rendered scikit-learn.org. See: https://github.com/scikit-learn/scikit-learn/issues/21755 */display: inline-block !important;position: relative;}#sk-container-id-2 div.sk-text-repr-fallback {display: none;}</style><div id=\"sk-container-id-2\" class=\"sk-top-container\"><div class=\"sk-text-repr-fallback\"><pre>GridSearchCV(cv=StratifiedKFold(n_splits=5, random_state=None, shuffle=False),\n",
       "             estimator=DecisionTreeClassifier(random_state=42), n_jobs=-1,\n",
       "             param_grid={&#x27;criterion&#x27;: [&#x27;gini&#x27;, &#x27;entropy&#x27;],\n",
       "                         &#x27;max_depth&#x27;: range(1, 10),\n",
       "                         &#x27;min_samples_leaf&#x27;: range(1, 5),\n",
       "                         &#x27;min_samples_split&#x27;: range(1, 10)},\n",
       "             verbose=1)</pre><b>In a Jupyter environment, please rerun this cell to show the HTML representation or trust the notebook. <br />On GitHub, the HTML representation is unable to render, please try loading this page with nbviewer.org.</b></div><div class=\"sk-container\" hidden><div class=\"sk-item sk-dashed-wrapped\"><div class=\"sk-label-container\"><div class=\"sk-label sk-toggleable\"><input class=\"sk-toggleable__control sk-hidden--visually\" id=\"sk-estimator-id-4\" type=\"checkbox\" ><label for=\"sk-estimator-id-4\" class=\"sk-toggleable__label sk-toggleable__label-arrow\">GridSearchCV</label><div class=\"sk-toggleable__content\"><pre>GridSearchCV(cv=StratifiedKFold(n_splits=5, random_state=None, shuffle=False),\n",
       "             estimator=DecisionTreeClassifier(random_state=42), n_jobs=-1,\n",
       "             param_grid={&#x27;criterion&#x27;: [&#x27;gini&#x27;, &#x27;entropy&#x27;],\n",
       "                         &#x27;max_depth&#x27;: range(1, 10),\n",
       "                         &#x27;min_samples_leaf&#x27;: range(1, 5),\n",
       "                         &#x27;min_samples_split&#x27;: range(1, 10)},\n",
       "             verbose=1)</pre></div></div></div><div class=\"sk-parallel\"><div class=\"sk-parallel-item\"><div class=\"sk-item\"><div class=\"sk-label-container\"><div class=\"sk-label sk-toggleable\"><input class=\"sk-toggleable__control sk-hidden--visually\" id=\"sk-estimator-id-5\" type=\"checkbox\" ><label for=\"sk-estimator-id-5\" class=\"sk-toggleable__label sk-toggleable__label-arrow\">estimator: DecisionTreeClassifier</label><div class=\"sk-toggleable__content\"><pre>DecisionTreeClassifier(random_state=42)</pre></div></div></div><div class=\"sk-serial\"><div class=\"sk-item\"><div class=\"sk-estimator sk-toggleable\"><input class=\"sk-toggleable__control sk-hidden--visually\" id=\"sk-estimator-id-6\" type=\"checkbox\" ><label for=\"sk-estimator-id-6\" class=\"sk-toggleable__label sk-toggleable__label-arrow\">DecisionTreeClassifier</label><div class=\"sk-toggleable__content\"><pre>DecisionTreeClassifier(random_state=42)</pre></div></div></div></div></div></div></div></div></div></div>"
      ],
      "text/plain": [
       "GridSearchCV(cv=StratifiedKFold(n_splits=5, random_state=None, shuffle=False),\n",
       "             estimator=DecisionTreeClassifier(random_state=42), n_jobs=-1,\n",
       "             param_grid={'criterion': ['gini', 'entropy'],\n",
       "                         'max_depth': range(1, 10),\n",
       "                         'min_samples_leaf': range(1, 5),\n",
       "                         'min_samples_split': range(1, 10)},\n",
       "             verbose=1)"
      ]
     },
     "execution_count": 37,
     "metadata": {},
     "output_type": "execute_result"
    }
   ],
   "source": [
    "#We are going to avoid using our scaled data when we cross validate unless we can use StratifiedKfold\n",
    "\n",
    "from sklearn.model_selection import GridSearchCV\n",
    "cv = StratifiedKFold(n_splits=5)\n",
    "param_grid = {\n",
    "    'criterion':['gini','entropy'],\n",
    "    \"max_depth\": range(1,10),\n",
    "    \"min_samples_split\":range(1,10),\n",
    "    \"min_samples_leaf\":range(1,5)\n",
    "}\n",
    "\n",
    "grid = GridSearchCV(dtc,\n",
    "                   param_grid=param_grid,\n",
    "                   cv=cv,\n",
    "                   verbose=1,\n",
    "                    n_jobs=-1\n",
    "                   ) \n",
    "grid.fit(X_trains_scaled[:, features],y_train)"
   ]
  },
  {
   "cell_type": "code",
   "execution_count": 38,
   "metadata": {},
   "outputs": [
    {
     "name": "stdout",
     "output_type": "stream",
     "text": [
      "{'criterion': 'entropy', 'max_depth': 3, 'min_samples_leaf': 1, 'min_samples_split': 2}\n",
      "DecisionTreeClassifier(criterion='entropy', max_depth=3, random_state=42)\n",
      "0.946875\n"
     ]
    }
   ],
   "source": [
    "print(grid.best_params_)\n",
    "print(grid.best_estimator_)\n",
    "print(grid.best_score_)"
   ]
  },
  {
   "cell_type": "code",
   "execution_count": 39,
   "metadata": {},
   "outputs": [
    {
     "data": {
      "text/plain": [
       "0.9855015673981191"
      ]
     },
     "execution_count": 39,
     "metadata": {},
     "output_type": "execute_result"
    }
   ],
   "source": [
    "\n",
    "dtc_best = DecisionTreeClassifier(criterion='entropy', max_depth=3, random_state=42)\n",
    "dtc_best.fit(X_trains_scaled[:, features], y_train)\n",
    "tuning_roc_auc = roc_auc_score(y_test, dtc_best.predict_proba(X_tests_scaled[:, features])[:,1])\n",
    "tuning_roc_auc"
   ]
  },
  {
   "cell_type": "markdown",
   "metadata": {},
   "source": [
    "#With our tuned model we see a slight improvement on the testing data than our training data.\n",
    "#We also see an improvment from the baseline model "
   ]
  },
  {
   "cell_type": "markdown",
   "metadata": {},
   "source": [
    "## Algorithm 2 (2 Points)"
   ]
  },
  {
   "cell_type": "markdown",
   "metadata": {},
   "source": [
    "### Baseline"
   ]
  },
  {
   "cell_type": "code",
   "execution_count": 40,
   "metadata": {},
   "outputs": [
    {
     "name": "stdout",
     "output_type": "stream",
     "text": [
      "0.9972570532915361\n"
     ]
    }
   ],
   "source": [
    "rfc_base = RandomForestClassifier(random_state=42)\n",
    "rfc_base.fit(X_train_scaled, y_train)\n",
    "no_tuning_roc_auc_rfc = roc_auc_score(y_test, rfc_base.predict_proba(X_test_scaled)[:,1])\n",
    "print(no_tuning_roc_auc_rfc)\n",
    "#print(cross_val_score(rfc_base, X_train, y_train, cv=5, scoring=\"roc_auc\"))\n",
    "#careful using scaled data when doing cross validation also using vs with class imbalance\n"
   ]
  },
  {
   "cell_type": "code",
   "execution_count": 41,
   "metadata": {},
   "outputs": [
    {
     "data": {
      "text/plain": [
       "sklearn.ensemble._forest.RandomForestClassifier"
      ]
     },
     "execution_count": 41,
     "metadata": {},
     "output_type": "execute_result"
    }
   ],
   "source": [
    "type(RandomForestClassifier())"
   ]
  },
  {
   "cell_type": "markdown",
   "metadata": {},
   "source": [
    "### Tuned"
   ]
  },
  {
   "cell_type": "code",
   "execution_count": 42,
   "metadata": {},
   "outputs": [],
   "source": [
    "from sklearn_genetic import GASearchCV\n",
    "from sklearn_genetic.space import Integer, Categorical, Continuous"
   ]
  },
  {
   "cell_type": "code",
   "execution_count": 43,
   "metadata": {},
   "outputs": [],
   "source": [
    "n_estimators = Integer(200, 1000)\n",
    "max_features = Categorical(['auto', 'sqrt'])\n",
    "max_depth = Integer(10, 110)\n",
    "min_samples_split = Integer(2, 10)\n",
    "min_samples_leaf = Integer(1,4)\n",
    "bootstrap = Categorical([True, False])"
   ]
  },
  {
   "cell_type": "code",
   "execution_count": 44,
   "metadata": {},
   "outputs": [],
   "source": [
    "param_grid = {'n_estimators': n_estimators,\n",
    "               'max_features': max_features,\n",
    "               'max_depth': max_depth,\n",
    "               'min_samples_split': min_samples_split,\n",
    "               'min_samples_leaf': min_samples_leaf,\n",
    "               'bootstrap': bootstrap}"
   ]
  },
  {
   "cell_type": "code",
   "execution_count": 45,
   "metadata": {},
   "outputs": [],
   "source": [
    "ga_tune = GASearchCV(\n",
    "    estimator=RandomForestClassifier(random_state=42),\n",
    "    cv=cv,\n",
    "    scoring=\"roc_auc\",\n",
    "    population_size=15,\n",
    "    generations=20,\n",
    "    tournament_size=3,\n",
    "    elitism=True,\n",
    "    keep_top_k=4,\n",
    "    crossover_probability=0.9,\n",
    "    mutation_probability=0.05,\n",
    "    param_grid=param_grid,\n",
    "    criteria=\"max\",\n",
    "    algorithm=\"eaMuCommaLambda\",\n",
    "    n_jobs=-1)"
   ]
  },
  {
   "cell_type": "code",
   "execution_count": 46,
   "metadata": {},
   "outputs": [
    {
     "name": "stderr",
     "output_type": "stream",
     "text": [
      "C:\\Users\\Matthew\\anaconda3\\lib\\site-packages\\sklearn\\utils\\metaestimators.py:201: FutureWarning: if_delegate_has_method was deprecated in version 1.1 and will be removed in version 1.3. Use if_available instead.\n",
      "  warnings.warn(\n"
     ]
    },
    {
     "data": {
      "application/vnd.jupyter.widget-view+json": {
       "model_id": "19cbe05f77564c8fa33d581e46ebe21e",
       "version_major": 2,
       "version_minor": 0
      },
      "text/plain": [
       "  0%|          | 0/21 [00:00<?, ?it/s]"
      ]
     },
     "metadata": {},
     "output_type": "display_data"
    },
    {
     "name": "stdout",
     "output_type": "stream",
     "text": [
      "gen\tnevals\tfitness \tfitness_std\tfitness_max\tfitness_min\n",
      "0  \t15    \t0.987422\t0.000852513\t0.988998   \t0.986299   \n",
      "1  \t27    \t0.988515\t0.000546294\t0.988998   \t0.987204   \n",
      "2  \t26    \t0.988898\t0.000419597\t0.9893     \t0.987807   \n",
      "3  \t27    \t0.989199\t0.000179875\t0.989601   \t0.988998   \n",
      "4  \t27    \t0.989259\t0.000102544\t0.9893     \t0.988998   \n",
      "5  \t29    \t0.98936 \t0.000120664\t0.989601   \t0.9893     \n",
      "6  \t29    \t0.989481\t0.000147782\t0.989601   \t0.9893     \n",
      "7  \t28    \t0.989601\t3.33067e-16\t0.989601   \t0.989601   \n",
      "8  \t29    \t0.989601\t3.33067e-16\t0.989601   \t0.989601   \n",
      "9  \t29    \t0.989601\t3.33067e-16\t0.989601   \t0.989601   \n",
      "10 \t29    \t0.989601\t3.33067e-16\t0.989601   \t0.989601   \n",
      "11 \t29    \t0.989601\t3.33067e-16\t0.989601   \t0.989601   \n",
      "12 \t28    \t0.989601\t3.33067e-16\t0.989601   \t0.989601   \n",
      "13 \t28    \t0.989601\t3.33067e-16\t0.989601   \t0.989601   \n",
      "14 \t27    \t0.989601\t3.33067e-16\t0.989601   \t0.989601   \n",
      "15 \t28    \t0.989601\t3.33067e-16\t0.989601   \t0.989601   \n",
      "16 \t27    \t0.989601\t3.33067e-16\t0.989601   \t0.989601   \n",
      "17 \t28    \t0.989601\t3.33067e-16\t0.989601   \t0.989601   \n",
      "18 \t30    \t0.989601\t3.33067e-16\t0.989601   \t0.989601   \n",
      "19 \t27    \t0.989601\t3.33067e-16\t0.989601   \t0.989601   \n",
      "20 \t30    \t0.989601\t3.33067e-16\t0.989601   \t0.989601   \n"
     ]
    },
    {
     "name": "stderr",
     "output_type": "stream",
     "text": [
      "C:\\Users\\Matthew\\anaconda3\\lib\\site-packages\\sklearn\\ensemble\\_forest.py:427: FutureWarning: `max_features='auto'` has been deprecated in 1.1 and will be removed in 1.3. To keep the past behaviour, explicitly set `max_features='sqrt'` or remove this parameter as it is also the default value for RandomForestClassifiers and ExtraTreesClassifiers.\n",
      "  warn(\n",
      "C:\\Users\\Matthew\\anaconda3\\lib\\site-packages\\sklearn\\utils\\metaestimators.py:201: FutureWarning: if_delegate_has_method was deprecated in version 1.1 and will be removed in version 1.3. Use if_available instead.\n",
      "  warnings.warn(\n"
     ]
    },
    {
     "data": {
      "text/plain": [
       "0.5"
      ]
     },
     "execution_count": 46,
     "metadata": {},
     "output_type": "execute_result"
    }
   ],
   "source": [
    "ga_tune.fit(X_train, y_train, callbacks=ProgressBar())\n",
    "y_predict_ga = ga_tune.predict(X_test_scaled)\n",
    "roc_auc_score(y_test, y_predict_ga)"
   ]
  },
  {
   "cell_type": "code",
   "execution_count": 47,
   "metadata": {},
   "outputs": [
    {
     "name": "stderr",
     "output_type": "stream",
     "text": [
      "C:\\Users\\Matthew\\anaconda3\\lib\\site-packages\\sklearn\\ensemble\\_forest.py:427: FutureWarning: `max_features='auto'` has been deprecated in 1.1 and will be removed in 1.3. To keep the past behaviour, explicitly set `max_features='sqrt'` or remove this parameter as it is also the default value for RandomForestClassifiers and ExtraTreesClassifiers.\n",
      "  warn(\n"
     ]
    },
    {
     "data": {
      "text/plain": [
       "1.0"
      ]
     },
     "execution_count": 47,
     "metadata": {},
     "output_type": "execute_result"
    }
   ],
   "source": [
    "rf_ga_feats_tuned = RandomForestClassifier(**ga_tune.best_params_)\n",
    "rf_ga_feats_tuned.fit(X_trains_scaled[:, features], y_train)\n",
    "\n",
    "roc_auc_score(y_test, rf_ga_feats_tuned.predict_proba(X_tests_scaled[:, features])[:,1])\n"
   ]
  },
  {
   "cell_type": "markdown",
   "metadata": {},
   "source": [
    "## Algorithm 3 (2 Points)"
   ]
  },
  {
   "cell_type": "markdown",
   "metadata": {},
   "source": [
    "### Baseline"
   ]
  },
  {
   "cell_type": "code",
   "execution_count": 48,
   "metadata": {},
   "outputs": [
    {
     "data": {
      "text/plain": [
       "0.975"
      ]
     },
     "execution_count": 48,
     "metadata": {},
     "output_type": "execute_result"
    }
   ],
   "source": [
    "from sklearn.linear_model import LogisticRegression\n",
    "from sklearn.metrics import accuracy_score\n",
    "lrc = LogisticRegression()\n",
    "lrc.fit(X_train_scaled, y_train)\n",
    "no_tuning_lrc =  accuracy_score(y_test, lrc.predict(X_test_scaled))\n",
    "no_tuning_lrc\n",
    "#We see we have an accuracy of .975 on our baseline Logistic Regression Classification"
   ]
  },
  {
   "cell_type": "code",
   "execution_count": 49,
   "metadata": {},
   "outputs": [
    {
     "data": {
      "text/plain": [
       "0.9625"
      ]
     },
     "execution_count": 49,
     "metadata": {},
     "output_type": "execute_result"
    }
   ],
   "source": [
    "from sklearn.svm import SVC\n",
    "from sklearn.metrics import accuracy_score\n",
    "svcbase = SVC(random_state=42)\n",
    "svcbase.fit(X_train_scaled, y_train)\n",
    "no_tuning_svc = accuracy_score(y_test, svcbase.predict(X_test_scaled))\n",
    "no_tuning_svc\n"
   ]
  },
  {
   "cell_type": "markdown",
   "metadata": {},
   "source": [
    "### Tuned"
   ]
  },
  {
   "cell_type": "code",
   "execution_count": 50,
   "metadata": {},
   "outputs": [
    {
     "data": {
      "text/html": [
       "<style>#sk-container-id-3 {color: black;background-color: white;}#sk-container-id-3 pre{padding: 0;}#sk-container-id-3 div.sk-toggleable {background-color: white;}#sk-container-id-3 label.sk-toggleable__label {cursor: pointer;display: block;width: 100%;margin-bottom: 0;padding: 0.3em;box-sizing: border-box;text-align: center;}#sk-container-id-3 label.sk-toggleable__label-arrow:before {content: \"▸\";float: left;margin-right: 0.25em;color: #696969;}#sk-container-id-3 label.sk-toggleable__label-arrow:hover:before {color: black;}#sk-container-id-3 div.sk-estimator:hover label.sk-toggleable__label-arrow:before {color: black;}#sk-container-id-3 div.sk-toggleable__content {max-height: 0;max-width: 0;overflow: hidden;text-align: left;background-color: #f0f8ff;}#sk-container-id-3 div.sk-toggleable__content pre {margin: 0.2em;color: black;border-radius: 0.25em;background-color: #f0f8ff;}#sk-container-id-3 input.sk-toggleable__control:checked~div.sk-toggleable__content {max-height: 200px;max-width: 100%;overflow: auto;}#sk-container-id-3 input.sk-toggleable__control:checked~label.sk-toggleable__label-arrow:before {content: \"▾\";}#sk-container-id-3 div.sk-estimator input.sk-toggleable__control:checked~label.sk-toggleable__label {background-color: #d4ebff;}#sk-container-id-3 div.sk-label input.sk-toggleable__control:checked~label.sk-toggleable__label {background-color: #d4ebff;}#sk-container-id-3 input.sk-hidden--visually {border: 0;clip: rect(1px 1px 1px 1px);clip: rect(1px, 1px, 1px, 1px);height: 1px;margin: -1px;overflow: hidden;padding: 0;position: absolute;width: 1px;}#sk-container-id-3 div.sk-estimator {font-family: monospace;background-color: #f0f8ff;border: 1px dotted black;border-radius: 0.25em;box-sizing: border-box;margin-bottom: 0.5em;}#sk-container-id-3 div.sk-estimator:hover {background-color: #d4ebff;}#sk-container-id-3 div.sk-parallel-item::after {content: \"\";width: 100%;border-bottom: 1px solid gray;flex-grow: 1;}#sk-container-id-3 div.sk-label:hover label.sk-toggleable__label {background-color: #d4ebff;}#sk-container-id-3 div.sk-serial::before {content: \"\";position: absolute;border-left: 1px solid gray;box-sizing: border-box;top: 0;bottom: 0;left: 50%;z-index: 0;}#sk-container-id-3 div.sk-serial {display: flex;flex-direction: column;align-items: center;background-color: white;padding-right: 0.2em;padding-left: 0.2em;position: relative;}#sk-container-id-3 div.sk-item {position: relative;z-index: 1;}#sk-container-id-3 div.sk-parallel {display: flex;align-items: stretch;justify-content: center;background-color: white;position: relative;}#sk-container-id-3 div.sk-item::before, #sk-container-id-3 div.sk-parallel-item::before {content: \"\";position: absolute;border-left: 1px solid gray;box-sizing: border-box;top: 0;bottom: 0;left: 50%;z-index: -1;}#sk-container-id-3 div.sk-parallel-item {display: flex;flex-direction: column;z-index: 1;position: relative;background-color: white;}#sk-container-id-3 div.sk-parallel-item:first-child::after {align-self: flex-end;width: 50%;}#sk-container-id-3 div.sk-parallel-item:last-child::after {align-self: flex-start;width: 50%;}#sk-container-id-3 div.sk-parallel-item:only-child::after {width: 0;}#sk-container-id-3 div.sk-dashed-wrapped {border: 1px dashed gray;margin: 0 0.4em 0.5em 0.4em;box-sizing: border-box;padding-bottom: 0.4em;background-color: white;}#sk-container-id-3 div.sk-label label {font-family: monospace;font-weight: bold;display: inline-block;line-height: 1.2em;}#sk-container-id-3 div.sk-label-container {text-align: center;}#sk-container-id-3 div.sk-container {/* jupyter's `normalize.less` sets `[hidden] { display: none; }` but bootstrap.min.css set `[hidden] { display: none !important; }` so we also need the `!important` here to be able to override the default hidden behavior on the sphinx rendered scikit-learn.org. See: https://github.com/scikit-learn/scikit-learn/issues/21755 */display: inline-block !important;position: relative;}#sk-container-id-3 div.sk-text-repr-fallback {display: none;}</style><div id=\"sk-container-id-3\" class=\"sk-top-container\"><div class=\"sk-text-repr-fallback\"><pre>RandomizedSearchCV(cv=2, estimator=SVC(random_state=42), n_jobs=-1,\n",
       "                   param_distributions={&#x27;C&#x27;: [0.1, 1, 10],\n",
       "                                        &#x27;gamma&#x27;: [1, 0.1, 0.01],\n",
       "                                        &#x27;kernel&#x27;: [&#x27;rbf&#x27;, &#x27;sigmoid&#x27;]})</pre><b>In a Jupyter environment, please rerun this cell to show the HTML representation or trust the notebook. <br />On GitHub, the HTML representation is unable to render, please try loading this page with nbviewer.org.</b></div><div class=\"sk-container\" hidden><div class=\"sk-item sk-dashed-wrapped\"><div class=\"sk-label-container\"><div class=\"sk-label sk-toggleable\"><input class=\"sk-toggleable__control sk-hidden--visually\" id=\"sk-estimator-id-7\" type=\"checkbox\" ><label for=\"sk-estimator-id-7\" class=\"sk-toggleable__label sk-toggleable__label-arrow\">RandomizedSearchCV</label><div class=\"sk-toggleable__content\"><pre>RandomizedSearchCV(cv=2, estimator=SVC(random_state=42), n_jobs=-1,\n",
       "                   param_distributions={&#x27;C&#x27;: [0.1, 1, 10],\n",
       "                                        &#x27;gamma&#x27;: [1, 0.1, 0.01],\n",
       "                                        &#x27;kernel&#x27;: [&#x27;rbf&#x27;, &#x27;sigmoid&#x27;]})</pre></div></div></div><div class=\"sk-parallel\"><div class=\"sk-parallel-item\"><div class=\"sk-item\"><div class=\"sk-label-container\"><div class=\"sk-label sk-toggleable\"><input class=\"sk-toggleable__control sk-hidden--visually\" id=\"sk-estimator-id-8\" type=\"checkbox\" ><label for=\"sk-estimator-id-8\" class=\"sk-toggleable__label sk-toggleable__label-arrow\">estimator: SVC</label><div class=\"sk-toggleable__content\"><pre>SVC(random_state=42)</pre></div></div></div><div class=\"sk-serial\"><div class=\"sk-item\"><div class=\"sk-estimator sk-toggleable\"><input class=\"sk-toggleable__control sk-hidden--visually\" id=\"sk-estimator-id-9\" type=\"checkbox\" ><label for=\"sk-estimator-id-9\" class=\"sk-toggleable__label sk-toggleable__label-arrow\">SVC</label><div class=\"sk-toggleable__content\"><pre>SVC(random_state=42)</pre></div></div></div></div></div></div></div></div></div></div>"
      ],
      "text/plain": [
       "RandomizedSearchCV(cv=2, estimator=SVC(random_state=42), n_jobs=-1,\n",
       "                   param_distributions={'C': [0.1, 1, 10],\n",
       "                                        'gamma': [1, 0.1, 0.01],\n",
       "                                        'kernel': ['rbf', 'sigmoid']})"
      ]
     },
     "execution_count": 50,
     "metadata": {},
     "output_type": "execute_result"
    }
   ],
   "source": [
    "from sklearn.model_selection import RandomizedSearchCV\n",
    "\n",
    "SVC_tune= SVC(random_state=42)\n",
    "param_grid_SVC = {'C': [0.1,1, 10], 'gamma': [1,0.1,0.01],'kernel': ['rbf', 'sigmoid']}\n",
    "CV_SVC = RandomizedSearchCV(estimator=SVC_tune, param_distributions=param_grid_SVC, cv=2,\n",
    "                    n_jobs=-1)\n",
    "CV_SVC.fit(X_trains_scaled[:,features], y_train)"
   ]
  },
  {
   "cell_type": "code",
   "execution_count": 51,
   "metadata": {},
   "outputs": [
    {
     "name": "stdout",
     "output_type": "stream",
     "text": [
      "{'kernel': 'rbf', 'gamma': 0.01, 'C': 1}\n",
      "SVC(C=1, gamma=0.01, random_state=42)\n",
      "0.925\n"
     ]
    }
   ],
   "source": [
    "print(CV_SVC.best_params_)\n",
    "print(CV_SVC.best_estimator_)\n",
    "print(CV_SVC.best_score_)"
   ]
  },
  {
   "cell_type": "code",
   "execution_count": 52,
   "metadata": {},
   "outputs": [
    {
     "data": {
      "text/plain": [
       "0.9"
      ]
     },
     "execution_count": 52,
     "metadata": {},
     "output_type": "execute_result"
    }
   ],
   "source": [
    "SVC_best = SVC(C = 1, gamma = .01, kernel = \"rbf\", random_state = 42)\n",
    "SVC_best.fit(X_trains_scaled[:,features], y_train)\n",
    "tuning_SVC = accuracy_score(y_test, SVC_best.predict(X_tests_scaled[:, features]))\n",
    "tuning_SVC"
   ]
  },
  {
   "cell_type": "markdown",
   "metadata": {},
   "source": [
    "# Create Pipeline for Final Approach\n",
    "(e.g. processing, feature selction, and best ML algorithm)"
   ]
  },
  {
   "cell_type": "markdown",
   "metadata": {},
   "source": [
    "## Pipeline  (2 points)"
   ]
  },
  {
   "cell_type": "code",
   "execution_count": 70,
   "metadata": {},
   "outputs": [
    {
     "data": {
      "text/html": [
       "<style>#sk-container-id-9 {color: black;background-color: white;}#sk-container-id-9 pre{padding: 0;}#sk-container-id-9 div.sk-toggleable {background-color: white;}#sk-container-id-9 label.sk-toggleable__label {cursor: pointer;display: block;width: 100%;margin-bottom: 0;padding: 0.3em;box-sizing: border-box;text-align: center;}#sk-container-id-9 label.sk-toggleable__label-arrow:before {content: \"▸\";float: left;margin-right: 0.25em;color: #696969;}#sk-container-id-9 label.sk-toggleable__label-arrow:hover:before {color: black;}#sk-container-id-9 div.sk-estimator:hover label.sk-toggleable__label-arrow:before {color: black;}#sk-container-id-9 div.sk-toggleable__content {max-height: 0;max-width: 0;overflow: hidden;text-align: left;background-color: #f0f8ff;}#sk-container-id-9 div.sk-toggleable__content pre {margin: 0.2em;color: black;border-radius: 0.25em;background-color: #f0f8ff;}#sk-container-id-9 input.sk-toggleable__control:checked~div.sk-toggleable__content {max-height: 200px;max-width: 100%;overflow: auto;}#sk-container-id-9 input.sk-toggleable__control:checked~label.sk-toggleable__label-arrow:before {content: \"▾\";}#sk-container-id-9 div.sk-estimator input.sk-toggleable__control:checked~label.sk-toggleable__label {background-color: #d4ebff;}#sk-container-id-9 div.sk-label input.sk-toggleable__control:checked~label.sk-toggleable__label {background-color: #d4ebff;}#sk-container-id-9 input.sk-hidden--visually {border: 0;clip: rect(1px 1px 1px 1px);clip: rect(1px, 1px, 1px, 1px);height: 1px;margin: -1px;overflow: hidden;padding: 0;position: absolute;width: 1px;}#sk-container-id-9 div.sk-estimator {font-family: monospace;background-color: #f0f8ff;border: 1px dotted black;border-radius: 0.25em;box-sizing: border-box;margin-bottom: 0.5em;}#sk-container-id-9 div.sk-estimator:hover {background-color: #d4ebff;}#sk-container-id-9 div.sk-parallel-item::after {content: \"\";width: 100%;border-bottom: 1px solid gray;flex-grow: 1;}#sk-container-id-9 div.sk-label:hover label.sk-toggleable__label {background-color: #d4ebff;}#sk-container-id-9 div.sk-serial::before {content: \"\";position: absolute;border-left: 1px solid gray;box-sizing: border-box;top: 0;bottom: 0;left: 50%;z-index: 0;}#sk-container-id-9 div.sk-serial {display: flex;flex-direction: column;align-items: center;background-color: white;padding-right: 0.2em;padding-left: 0.2em;position: relative;}#sk-container-id-9 div.sk-item {position: relative;z-index: 1;}#sk-container-id-9 div.sk-parallel {display: flex;align-items: stretch;justify-content: center;background-color: white;position: relative;}#sk-container-id-9 div.sk-item::before, #sk-container-id-9 div.sk-parallel-item::before {content: \"\";position: absolute;border-left: 1px solid gray;box-sizing: border-box;top: 0;bottom: 0;left: 50%;z-index: -1;}#sk-container-id-9 div.sk-parallel-item {display: flex;flex-direction: column;z-index: 1;position: relative;background-color: white;}#sk-container-id-9 div.sk-parallel-item:first-child::after {align-self: flex-end;width: 50%;}#sk-container-id-9 div.sk-parallel-item:last-child::after {align-self: flex-start;width: 50%;}#sk-container-id-9 div.sk-parallel-item:only-child::after {width: 0;}#sk-container-id-9 div.sk-dashed-wrapped {border: 1px dashed gray;margin: 0 0.4em 0.5em 0.4em;box-sizing: border-box;padding-bottom: 0.4em;background-color: white;}#sk-container-id-9 div.sk-label label {font-family: monospace;font-weight: bold;display: inline-block;line-height: 1.2em;}#sk-container-id-9 div.sk-label-container {text-align: center;}#sk-container-id-9 div.sk-container {/* jupyter's `normalize.less` sets `[hidden] { display: none; }` but bootstrap.min.css set `[hidden] { display: none !important; }` so we also need the `!important` here to be able to override the default hidden behavior on the sphinx rendered scikit-learn.org. See: https://github.com/scikit-learn/scikit-learn/issues/21755 */display: inline-block !important;position: relative;}#sk-container-id-9 div.sk-text-repr-fallback {display: none;}</style><div id=\"sk-container-id-9\" class=\"sk-top-container\"><div class=\"sk-text-repr-fallback\"><pre>GridSearchCV(cv=10, estimator=RandomForestClassifier(), n_jobs=-1,\n",
       "             param_grid={&#x27;bootstrap&#x27;: [True], &#x27;max_depth&#x27;: [80, 90, 100],\n",
       "                         &#x27;max_features&#x27;: [2, 3], &#x27;min_samples_leaf&#x27;: [3, 4, 5],\n",
       "                         &#x27;min_samples_split&#x27;: [8, 10, 12],\n",
       "                         &#x27;n_estimators&#x27;: [100, 500]})</pre><b>In a Jupyter environment, please rerun this cell to show the HTML representation or trust the notebook. <br />On GitHub, the HTML representation is unable to render, please try loading this page with nbviewer.org.</b></div><div class=\"sk-container\" hidden><div class=\"sk-item sk-dashed-wrapped\"><div class=\"sk-label-container\"><div class=\"sk-label sk-toggleable\"><input class=\"sk-toggleable__control sk-hidden--visually\" id=\"sk-estimator-id-28\" type=\"checkbox\" ><label for=\"sk-estimator-id-28\" class=\"sk-toggleable__label sk-toggleable__label-arrow\">GridSearchCV</label><div class=\"sk-toggleable__content\"><pre>GridSearchCV(cv=10, estimator=RandomForestClassifier(), n_jobs=-1,\n",
       "             param_grid={&#x27;bootstrap&#x27;: [True], &#x27;max_depth&#x27;: [80, 90, 100],\n",
       "                         &#x27;max_features&#x27;: [2, 3], &#x27;min_samples_leaf&#x27;: [3, 4, 5],\n",
       "                         &#x27;min_samples_split&#x27;: [8, 10, 12],\n",
       "                         &#x27;n_estimators&#x27;: [100, 500]})</pre></div></div></div><div class=\"sk-parallel\"><div class=\"sk-parallel-item\"><div class=\"sk-item\"><div class=\"sk-label-container\"><div class=\"sk-label sk-toggleable\"><input class=\"sk-toggleable__control sk-hidden--visually\" id=\"sk-estimator-id-29\" type=\"checkbox\" ><label for=\"sk-estimator-id-29\" class=\"sk-toggleable__label sk-toggleable__label-arrow\">estimator: RandomForestClassifier</label><div class=\"sk-toggleable__content\"><pre>RandomForestClassifier()</pre></div></div></div><div class=\"sk-serial\"><div class=\"sk-item\"><div class=\"sk-estimator sk-toggleable\"><input class=\"sk-toggleable__control sk-hidden--visually\" id=\"sk-estimator-id-30\" type=\"checkbox\" ><label for=\"sk-estimator-id-30\" class=\"sk-toggleable__label sk-toggleable__label-arrow\">RandomForestClassifier</label><div class=\"sk-toggleable__content\"><pre>RandomForestClassifier()</pre></div></div></div></div></div></div></div></div></div></div>"
      ],
      "text/plain": [
       "GridSearchCV(cv=10, estimator=RandomForestClassifier(), n_jobs=-1,\n",
       "             param_grid={'bootstrap': [True], 'max_depth': [80, 90, 100],\n",
       "                         'max_features': [2, 3], 'min_samples_leaf': [3, 4, 5],\n",
       "                         'min_samples_split': [8, 10, 12],\n",
       "                         'n_estimators': [100, 500]})"
      ]
     },
     "execution_count": 70,
     "metadata": {},
     "output_type": "execute_result"
    }
   ],
   "source": [
    "rf_params = {\n",
    "    'bootstrap': [True],\n",
    "    'max_depth': [80, 90, 100],\n",
    "    'max_features': [2, 3],\n",
    "    'min_samples_leaf': [3, 4, 5],\n",
    "    'min_samples_split': [8, 10, 12],\n",
    "    'n_estimators': [100, 500]\n",
    "}\n",
    "\n",
    "rf = RandomForestClassifier()\n",
    "rf_tuned = GridSearchCV(estimator = rf, param_grid = rf_params, \n",
    "                          cv = 10, n_jobs = -1)\n",
    "\n",
    "rf_tuned.fit(X_train_scaled, y_train)"
   ]
  },
  {
   "cell_type": "code",
   "execution_count": 71,
   "metadata": {},
   "outputs": [],
   "source": [
    "from sklearn.pipeline import make_pipeline\n",
    "from feature_engine.selection import DropCorrelatedFeatures\n",
    "from sklearn.model_selection import  RepeatedKFold\n",
    "\n",
    "pipe = make_pipeline(DropCorrelatedFeatures(method='pearson', threshold=0.85),\n",
    "                     RFECV(RandomForestClassifier(n_estimators=250), step=1, scoring='roc_auc', \n",
    "                       cv=RepeatedKFold(n_splits=10, n_repeats=3), n_jobs=-1),\n",
    "                         RandomForestClassifier(**rf_tuned.best_params_)\n",
    "                        )"
   ]
  },
  {
   "cell_type": "code",
   "execution_count": 72,
   "metadata": {},
   "outputs": [
    {
     "data": {
      "text/html": [
       "<style>#sk-container-id-10 {color: black;background-color: white;}#sk-container-id-10 pre{padding: 0;}#sk-container-id-10 div.sk-toggleable {background-color: white;}#sk-container-id-10 label.sk-toggleable__label {cursor: pointer;display: block;width: 100%;margin-bottom: 0;padding: 0.3em;box-sizing: border-box;text-align: center;}#sk-container-id-10 label.sk-toggleable__label-arrow:before {content: \"▸\";float: left;margin-right: 0.25em;color: #696969;}#sk-container-id-10 label.sk-toggleable__label-arrow:hover:before {color: black;}#sk-container-id-10 div.sk-estimator:hover label.sk-toggleable__label-arrow:before {color: black;}#sk-container-id-10 div.sk-toggleable__content {max-height: 0;max-width: 0;overflow: hidden;text-align: left;background-color: #f0f8ff;}#sk-container-id-10 div.sk-toggleable__content pre {margin: 0.2em;color: black;border-radius: 0.25em;background-color: #f0f8ff;}#sk-container-id-10 input.sk-toggleable__control:checked~div.sk-toggleable__content {max-height: 200px;max-width: 100%;overflow: auto;}#sk-container-id-10 input.sk-toggleable__control:checked~label.sk-toggleable__label-arrow:before {content: \"▾\";}#sk-container-id-10 div.sk-estimator input.sk-toggleable__control:checked~label.sk-toggleable__label {background-color: #d4ebff;}#sk-container-id-10 div.sk-label input.sk-toggleable__control:checked~label.sk-toggleable__label {background-color: #d4ebff;}#sk-container-id-10 input.sk-hidden--visually {border: 0;clip: rect(1px 1px 1px 1px);clip: rect(1px, 1px, 1px, 1px);height: 1px;margin: -1px;overflow: hidden;padding: 0;position: absolute;width: 1px;}#sk-container-id-10 div.sk-estimator {font-family: monospace;background-color: #f0f8ff;border: 1px dotted black;border-radius: 0.25em;box-sizing: border-box;margin-bottom: 0.5em;}#sk-container-id-10 div.sk-estimator:hover {background-color: #d4ebff;}#sk-container-id-10 div.sk-parallel-item::after {content: \"\";width: 100%;border-bottom: 1px solid gray;flex-grow: 1;}#sk-container-id-10 div.sk-label:hover label.sk-toggleable__label {background-color: #d4ebff;}#sk-container-id-10 div.sk-serial::before {content: \"\";position: absolute;border-left: 1px solid gray;box-sizing: border-box;top: 0;bottom: 0;left: 50%;z-index: 0;}#sk-container-id-10 div.sk-serial {display: flex;flex-direction: column;align-items: center;background-color: white;padding-right: 0.2em;padding-left: 0.2em;position: relative;}#sk-container-id-10 div.sk-item {position: relative;z-index: 1;}#sk-container-id-10 div.sk-parallel {display: flex;align-items: stretch;justify-content: center;background-color: white;position: relative;}#sk-container-id-10 div.sk-item::before, #sk-container-id-10 div.sk-parallel-item::before {content: \"\";position: absolute;border-left: 1px solid gray;box-sizing: border-box;top: 0;bottom: 0;left: 50%;z-index: -1;}#sk-container-id-10 div.sk-parallel-item {display: flex;flex-direction: column;z-index: 1;position: relative;background-color: white;}#sk-container-id-10 div.sk-parallel-item:first-child::after {align-self: flex-end;width: 50%;}#sk-container-id-10 div.sk-parallel-item:last-child::after {align-self: flex-start;width: 50%;}#sk-container-id-10 div.sk-parallel-item:only-child::after {width: 0;}#sk-container-id-10 div.sk-dashed-wrapped {border: 1px dashed gray;margin: 0 0.4em 0.5em 0.4em;box-sizing: border-box;padding-bottom: 0.4em;background-color: white;}#sk-container-id-10 div.sk-label label {font-family: monospace;font-weight: bold;display: inline-block;line-height: 1.2em;}#sk-container-id-10 div.sk-label-container {text-align: center;}#sk-container-id-10 div.sk-container {/* jupyter's `normalize.less` sets `[hidden] { display: none; }` but bootstrap.min.css set `[hidden] { display: none !important; }` so we also need the `!important` here to be able to override the default hidden behavior on the sphinx rendered scikit-learn.org. See: https://github.com/scikit-learn/scikit-learn/issues/21755 */display: inline-block !important;position: relative;}#sk-container-id-10 div.sk-text-repr-fallback {display: none;}</style><div id=\"sk-container-id-10\" class=\"sk-top-container\"><div class=\"sk-text-repr-fallback\"><pre>Pipeline(steps=[(&#x27;dropcorrelatedfeatures&#x27;,\n",
       "                 DropCorrelatedFeatures(threshold=0.85)),\n",
       "                (&#x27;rfecv&#x27;,\n",
       "                 RFECV(cv=RepeatedKFold(n_repeats=3, n_splits=10, random_state=None),\n",
       "                       estimator=RandomForestClassifier(n_estimators=250),\n",
       "                       n_jobs=-1, scoring=&#x27;roc_auc&#x27;)),\n",
       "                (&#x27;randomforestclassifier&#x27;,\n",
       "                 RandomForestClassifier(max_depth=90, max_features=2,\n",
       "                                        min_samples_leaf=3,\n",
       "                                        min_samples_split=10))])</pre><b>In a Jupyter environment, please rerun this cell to show the HTML representation or trust the notebook. <br />On GitHub, the HTML representation is unable to render, please try loading this page with nbviewer.org.</b></div><div class=\"sk-container\" hidden><div class=\"sk-item sk-dashed-wrapped\"><div class=\"sk-label-container\"><div class=\"sk-label sk-toggleable\"><input class=\"sk-toggleable__control sk-hidden--visually\" id=\"sk-estimator-id-31\" type=\"checkbox\" ><label for=\"sk-estimator-id-31\" class=\"sk-toggleable__label sk-toggleable__label-arrow\">Pipeline</label><div class=\"sk-toggleable__content\"><pre>Pipeline(steps=[(&#x27;dropcorrelatedfeatures&#x27;,\n",
       "                 DropCorrelatedFeatures(threshold=0.85)),\n",
       "                (&#x27;rfecv&#x27;,\n",
       "                 RFECV(cv=RepeatedKFold(n_repeats=3, n_splits=10, random_state=None),\n",
       "                       estimator=RandomForestClassifier(n_estimators=250),\n",
       "                       n_jobs=-1, scoring=&#x27;roc_auc&#x27;)),\n",
       "                (&#x27;randomforestclassifier&#x27;,\n",
       "                 RandomForestClassifier(max_depth=90, max_features=2,\n",
       "                                        min_samples_leaf=3,\n",
       "                                        min_samples_split=10))])</pre></div></div></div><div class=\"sk-serial\"><div class=\"sk-item\"><div class=\"sk-estimator sk-toggleable\"><input class=\"sk-toggleable__control sk-hidden--visually\" id=\"sk-estimator-id-32\" type=\"checkbox\" ><label for=\"sk-estimator-id-32\" class=\"sk-toggleable__label sk-toggleable__label-arrow\">DropCorrelatedFeatures</label><div class=\"sk-toggleable__content\"><pre>DropCorrelatedFeatures(threshold=0.85)</pre></div></div></div><div class=\"sk-item sk-dashed-wrapped\"><div class=\"sk-label-container\"><div class=\"sk-label sk-toggleable\"><input class=\"sk-toggleable__control sk-hidden--visually\" id=\"sk-estimator-id-33\" type=\"checkbox\" ><label for=\"sk-estimator-id-33\" class=\"sk-toggleable__label sk-toggleable__label-arrow\">rfecv: RFECV</label><div class=\"sk-toggleable__content\"><pre>RFECV(cv=RepeatedKFold(n_repeats=3, n_splits=10, random_state=None),\n",
       "      estimator=RandomForestClassifier(n_estimators=250), n_jobs=-1,\n",
       "      scoring=&#x27;roc_auc&#x27;)</pre></div></div></div><div class=\"sk-parallel\"><div class=\"sk-parallel-item\"><div class=\"sk-item\"><div class=\"sk-label-container\"><div class=\"sk-label sk-toggleable\"><input class=\"sk-toggleable__control sk-hidden--visually\" id=\"sk-estimator-id-34\" type=\"checkbox\" ><label for=\"sk-estimator-id-34\" class=\"sk-toggleable__label sk-toggleable__label-arrow\">estimator: RandomForestClassifier</label><div class=\"sk-toggleable__content\"><pre>RandomForestClassifier(n_estimators=250)</pre></div></div></div><div class=\"sk-serial\"><div class=\"sk-item\"><div class=\"sk-estimator sk-toggleable\"><input class=\"sk-toggleable__control sk-hidden--visually\" id=\"sk-estimator-id-35\" type=\"checkbox\" ><label for=\"sk-estimator-id-35\" class=\"sk-toggleable__label sk-toggleable__label-arrow\">RandomForestClassifier</label><div class=\"sk-toggleable__content\"><pre>RandomForestClassifier(n_estimators=250)</pre></div></div></div></div></div></div></div></div><div class=\"sk-item\"><div class=\"sk-estimator sk-toggleable\"><input class=\"sk-toggleable__control sk-hidden--visually\" id=\"sk-estimator-id-36\" type=\"checkbox\" ><label for=\"sk-estimator-id-36\" class=\"sk-toggleable__label sk-toggleable__label-arrow\">RandomForestClassifier</label><div class=\"sk-toggleable__content\"><pre>RandomForestClassifier(max_depth=90, max_features=2, min_samples_leaf=3,\n",
       "                       min_samples_split=10)</pre></div></div></div></div></div></div></div>"
      ],
      "text/plain": [
       "Pipeline(steps=[('dropcorrelatedfeatures',\n",
       "                 DropCorrelatedFeatures(threshold=0.85)),\n",
       "                ('rfecv',\n",
       "                 RFECV(cv=RepeatedKFold(n_repeats=3, n_splits=10, random_state=None),\n",
       "                       estimator=RandomForestClassifier(n_estimators=250),\n",
       "                       n_jobs=-1, scoring='roc_auc')),\n",
       "                ('randomforestclassifier',\n",
       "                 RandomForestClassifier(max_depth=90, max_features=2,\n",
       "                                        min_samples_leaf=3,\n",
       "                                        min_samples_split=10))])"
      ]
     },
     "execution_count": 72,
     "metadata": {},
     "output_type": "execute_result"
    }
   ],
   "source": [
    "pipe.fit(X_train, y_train)"
   ]
  },
  {
   "cell_type": "code",
   "execution_count": 73,
   "metadata": {},
   "outputs": [
    {
     "data": {
      "text/plain": [
       "0.9984326018808778"
      ]
     },
     "execution_count": 73,
     "metadata": {},
     "output_type": "execute_result"
    }
   ],
   "source": [
    "roc_auc_score(y_test, pipe.predict_proba(X_test)[:, 1])"
   ]
  },
  {
   "cell_type": "markdown",
   "metadata": {},
   "source": [
    "## Explain/Justify the Steps of the Approach (2 Points)\n"
   ]
  },
  {
   "cell_type": "markdown",
   "metadata": {},
   "source": [
    "The RandomForestClassifier was the best of the three algorithms I evaluated. RandomForest is not that sensitive to scale. This is good since I will be cross-validating and scaling the data can introduce bias. I will also use StratifiedKFold to ensure there is not a class imbalance. My analysis using Genetic Feature Selection suggested that 5 features were important for making this prediciton. I used the best featutures to train a Random Forest Classifier and tune the hyperparameners using Genetic Search. "
   ]
  }
 ],
 "metadata": {
  "kernelspec": {
   "display_name": "Python 3 (ipykernel)",
   "language": "python",
   "name": "python3"
  },
  "language_info": {
   "codemirror_mode": {
    "name": "ipython",
    "version": 3
   },
   "file_extension": ".py",
   "mimetype": "text/x-python",
   "name": "python",
   "nbconvert_exporter": "python",
   "pygments_lexer": "ipython3",
   "version": "3.9.7"
  }
 },
 "nbformat": 4,
 "nbformat_minor": 4
}
