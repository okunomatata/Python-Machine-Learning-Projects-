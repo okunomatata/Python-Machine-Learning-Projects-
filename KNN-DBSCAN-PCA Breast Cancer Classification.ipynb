{
 "cells": [
  {
   "cell_type": "markdown",
   "metadata": {},
   "source": [
    "# Assignment 2"
   ]
  },
  {
   "cell_type": "markdown",
   "metadata": {},
   "source": [
    "This assignment focuses on Lecture 2 and content from chapters 8-9. Refer to the Lecture 2 Jupyter notebook. In that notebook, we explored fuel efficiency of various cars. Here, the goal will be to go through a similar workflow using a breast cancer dataset. The data is comprised of features/characteristics measured from expert image analysis. Each sample is labeled as benign or cancerous. We assume there is a mapping between the features and this label, enabling breast cancer diagnosis. In a later lecture, we will use this same dataset and show how to improve the diagnosis using supervised learning. For now, the objective is to (1) understand and apply unsupervised methods, important when there is limited data and/or understanding trends, and (2) data preparation, which is important for both unsupervised and supervised learning. "
   ]
  },
  {
   "cell_type": "code",
   "execution_count": 1,
   "metadata": {},
   "outputs": [],
   "source": [
    "import pandas as pd\n",
    "import numpy as np\n",
    "from sklearn.datasets import load_breast_cancer\n",
    "bc_data_obj = load_breast_cancer(return_X_y=False)"
   ]
  },
  {
   "cell_type": "code",
   "execution_count": 2,
   "metadata": {},
   "outputs": [],
   "source": [
    "#bc_data_obj.DESCR.split(\"\\n\")"
   ]
  },
  {
   "cell_type": "markdown",
   "metadata": {},
   "source": [
    "## Examine Data (1 Point)"
   ]
  },
  {
   "cell_type": "code",
   "execution_count": 3,
   "metadata": {},
   "outputs": [
    {
     "data": {
      "text/plain": [
       "dict_keys(['data', 'target', 'frame', 'target_names', 'DESCR', 'feature_names', 'filename', 'data_module'])"
      ]
     },
     "execution_count": 3,
     "metadata": {},
     "output_type": "execute_result"
    }
   ],
   "source": [
    "bc_data_obj.keys()"
   ]
  },
  {
   "cell_type": "markdown",
   "metadata": {},
   "source": [
    "### Make Datasets"
   ]
  },
  {
   "cell_type": "code",
   "execution_count": 4,
   "metadata": {},
   "outputs": [
    {
     "data": {
      "text/html": [
       "<div>\n",
       "<style scoped>\n",
       "    .dataframe tbody tr th:only-of-type {\n",
       "        vertical-align: middle;\n",
       "    }\n",
       "\n",
       "    .dataframe tbody tr th {\n",
       "        vertical-align: top;\n",
       "    }\n",
       "\n",
       "    .dataframe thead th {\n",
       "        text-align: right;\n",
       "    }\n",
       "</style>\n",
       "<table border=\"1\" class=\"dataframe\">\n",
       "  <thead>\n",
       "    <tr style=\"text-align: right;\">\n",
       "      <th></th>\n",
       "      <th>mean radius</th>\n",
       "      <th>mean texture</th>\n",
       "      <th>mean perimeter</th>\n",
       "      <th>mean area</th>\n",
       "      <th>mean smoothness</th>\n",
       "      <th>mean compactness</th>\n",
       "      <th>mean concavity</th>\n",
       "      <th>mean concave points</th>\n",
       "      <th>mean symmetry</th>\n",
       "      <th>mean fractal dimension</th>\n",
       "      <th>...</th>\n",
       "      <th>worst texture</th>\n",
       "      <th>worst perimeter</th>\n",
       "      <th>worst area</th>\n",
       "      <th>worst smoothness</th>\n",
       "      <th>worst compactness</th>\n",
       "      <th>worst concavity</th>\n",
       "      <th>worst concave points</th>\n",
       "      <th>worst symmetry</th>\n",
       "      <th>worst fractal dimension</th>\n",
       "      <th>target</th>\n",
       "    </tr>\n",
       "  </thead>\n",
       "  <tbody>\n",
       "    <tr>\n",
       "      <th>0</th>\n",
       "      <td>17.99</td>\n",
       "      <td>10.38</td>\n",
       "      <td>122.80</td>\n",
       "      <td>1001.0</td>\n",
       "      <td>0.11840</td>\n",
       "      <td>0.27760</td>\n",
       "      <td>0.30010</td>\n",
       "      <td>0.14710</td>\n",
       "      <td>0.2419</td>\n",
       "      <td>0.07871</td>\n",
       "      <td>...</td>\n",
       "      <td>17.33</td>\n",
       "      <td>184.60</td>\n",
       "      <td>2019.0</td>\n",
       "      <td>0.16220</td>\n",
       "      <td>0.66560</td>\n",
       "      <td>0.7119</td>\n",
       "      <td>0.2654</td>\n",
       "      <td>0.4601</td>\n",
       "      <td>0.11890</td>\n",
       "      <td>0</td>\n",
       "    </tr>\n",
       "    <tr>\n",
       "      <th>1</th>\n",
       "      <td>20.57</td>\n",
       "      <td>17.77</td>\n",
       "      <td>132.90</td>\n",
       "      <td>1326.0</td>\n",
       "      <td>0.08474</td>\n",
       "      <td>0.07864</td>\n",
       "      <td>0.08690</td>\n",
       "      <td>0.07017</td>\n",
       "      <td>0.1812</td>\n",
       "      <td>0.05667</td>\n",
       "      <td>...</td>\n",
       "      <td>23.41</td>\n",
       "      <td>158.80</td>\n",
       "      <td>1956.0</td>\n",
       "      <td>0.12380</td>\n",
       "      <td>0.18660</td>\n",
       "      <td>0.2416</td>\n",
       "      <td>0.1860</td>\n",
       "      <td>0.2750</td>\n",
       "      <td>0.08902</td>\n",
       "      <td>0</td>\n",
       "    </tr>\n",
       "    <tr>\n",
       "      <th>2</th>\n",
       "      <td>19.69</td>\n",
       "      <td>21.25</td>\n",
       "      <td>130.00</td>\n",
       "      <td>1203.0</td>\n",
       "      <td>0.10960</td>\n",
       "      <td>0.15990</td>\n",
       "      <td>0.19740</td>\n",
       "      <td>0.12790</td>\n",
       "      <td>0.2069</td>\n",
       "      <td>0.05999</td>\n",
       "      <td>...</td>\n",
       "      <td>25.53</td>\n",
       "      <td>152.50</td>\n",
       "      <td>1709.0</td>\n",
       "      <td>0.14440</td>\n",
       "      <td>0.42450</td>\n",
       "      <td>0.4504</td>\n",
       "      <td>0.2430</td>\n",
       "      <td>0.3613</td>\n",
       "      <td>0.08758</td>\n",
       "      <td>0</td>\n",
       "    </tr>\n",
       "    <tr>\n",
       "      <th>3</th>\n",
       "      <td>11.42</td>\n",
       "      <td>20.38</td>\n",
       "      <td>77.58</td>\n",
       "      <td>386.1</td>\n",
       "      <td>0.14250</td>\n",
       "      <td>0.28390</td>\n",
       "      <td>0.24140</td>\n",
       "      <td>0.10520</td>\n",
       "      <td>0.2597</td>\n",
       "      <td>0.09744</td>\n",
       "      <td>...</td>\n",
       "      <td>26.50</td>\n",
       "      <td>98.87</td>\n",
       "      <td>567.7</td>\n",
       "      <td>0.20980</td>\n",
       "      <td>0.86630</td>\n",
       "      <td>0.6869</td>\n",
       "      <td>0.2575</td>\n",
       "      <td>0.6638</td>\n",
       "      <td>0.17300</td>\n",
       "      <td>0</td>\n",
       "    </tr>\n",
       "    <tr>\n",
       "      <th>4</th>\n",
       "      <td>20.29</td>\n",
       "      <td>14.34</td>\n",
       "      <td>135.10</td>\n",
       "      <td>1297.0</td>\n",
       "      <td>0.10030</td>\n",
       "      <td>0.13280</td>\n",
       "      <td>0.19800</td>\n",
       "      <td>0.10430</td>\n",
       "      <td>0.1809</td>\n",
       "      <td>0.05883</td>\n",
       "      <td>...</td>\n",
       "      <td>16.67</td>\n",
       "      <td>152.20</td>\n",
       "      <td>1575.0</td>\n",
       "      <td>0.13740</td>\n",
       "      <td>0.20500</td>\n",
       "      <td>0.4000</td>\n",
       "      <td>0.1625</td>\n",
       "      <td>0.2364</td>\n",
       "      <td>0.07678</td>\n",
       "      <td>0</td>\n",
       "    </tr>\n",
       "    <tr>\n",
       "      <th>...</th>\n",
       "      <td>...</td>\n",
       "      <td>...</td>\n",
       "      <td>...</td>\n",
       "      <td>...</td>\n",
       "      <td>...</td>\n",
       "      <td>...</td>\n",
       "      <td>...</td>\n",
       "      <td>...</td>\n",
       "      <td>...</td>\n",
       "      <td>...</td>\n",
       "      <td>...</td>\n",
       "      <td>...</td>\n",
       "      <td>...</td>\n",
       "      <td>...</td>\n",
       "      <td>...</td>\n",
       "      <td>...</td>\n",
       "      <td>...</td>\n",
       "      <td>...</td>\n",
       "      <td>...</td>\n",
       "      <td>...</td>\n",
       "      <td>...</td>\n",
       "    </tr>\n",
       "    <tr>\n",
       "      <th>564</th>\n",
       "      <td>21.56</td>\n",
       "      <td>22.39</td>\n",
       "      <td>142.00</td>\n",
       "      <td>1479.0</td>\n",
       "      <td>0.11100</td>\n",
       "      <td>0.11590</td>\n",
       "      <td>0.24390</td>\n",
       "      <td>0.13890</td>\n",
       "      <td>0.1726</td>\n",
       "      <td>0.05623</td>\n",
       "      <td>...</td>\n",
       "      <td>26.40</td>\n",
       "      <td>166.10</td>\n",
       "      <td>2027.0</td>\n",
       "      <td>0.14100</td>\n",
       "      <td>0.21130</td>\n",
       "      <td>0.4107</td>\n",
       "      <td>0.2216</td>\n",
       "      <td>0.2060</td>\n",
       "      <td>0.07115</td>\n",
       "      <td>0</td>\n",
       "    </tr>\n",
       "    <tr>\n",
       "      <th>565</th>\n",
       "      <td>20.13</td>\n",
       "      <td>28.25</td>\n",
       "      <td>131.20</td>\n",
       "      <td>1261.0</td>\n",
       "      <td>0.09780</td>\n",
       "      <td>0.10340</td>\n",
       "      <td>0.14400</td>\n",
       "      <td>0.09791</td>\n",
       "      <td>0.1752</td>\n",
       "      <td>0.05533</td>\n",
       "      <td>...</td>\n",
       "      <td>38.25</td>\n",
       "      <td>155.00</td>\n",
       "      <td>1731.0</td>\n",
       "      <td>0.11660</td>\n",
       "      <td>0.19220</td>\n",
       "      <td>0.3215</td>\n",
       "      <td>0.1628</td>\n",
       "      <td>0.2572</td>\n",
       "      <td>0.06637</td>\n",
       "      <td>0</td>\n",
       "    </tr>\n",
       "    <tr>\n",
       "      <th>566</th>\n",
       "      <td>16.60</td>\n",
       "      <td>28.08</td>\n",
       "      <td>108.30</td>\n",
       "      <td>858.1</td>\n",
       "      <td>0.08455</td>\n",
       "      <td>0.10230</td>\n",
       "      <td>0.09251</td>\n",
       "      <td>0.05302</td>\n",
       "      <td>0.1590</td>\n",
       "      <td>0.05648</td>\n",
       "      <td>...</td>\n",
       "      <td>34.12</td>\n",
       "      <td>126.70</td>\n",
       "      <td>1124.0</td>\n",
       "      <td>0.11390</td>\n",
       "      <td>0.30940</td>\n",
       "      <td>0.3403</td>\n",
       "      <td>0.1418</td>\n",
       "      <td>0.2218</td>\n",
       "      <td>0.07820</td>\n",
       "      <td>0</td>\n",
       "    </tr>\n",
       "    <tr>\n",
       "      <th>567</th>\n",
       "      <td>20.60</td>\n",
       "      <td>29.33</td>\n",
       "      <td>140.10</td>\n",
       "      <td>1265.0</td>\n",
       "      <td>0.11780</td>\n",
       "      <td>0.27700</td>\n",
       "      <td>0.35140</td>\n",
       "      <td>0.15200</td>\n",
       "      <td>0.2397</td>\n",
       "      <td>0.07016</td>\n",
       "      <td>...</td>\n",
       "      <td>39.42</td>\n",
       "      <td>184.60</td>\n",
       "      <td>1821.0</td>\n",
       "      <td>0.16500</td>\n",
       "      <td>0.86810</td>\n",
       "      <td>0.9387</td>\n",
       "      <td>0.2650</td>\n",
       "      <td>0.4087</td>\n",
       "      <td>0.12400</td>\n",
       "      <td>0</td>\n",
       "    </tr>\n",
       "    <tr>\n",
       "      <th>568</th>\n",
       "      <td>7.76</td>\n",
       "      <td>24.54</td>\n",
       "      <td>47.92</td>\n",
       "      <td>181.0</td>\n",
       "      <td>0.05263</td>\n",
       "      <td>0.04362</td>\n",
       "      <td>0.00000</td>\n",
       "      <td>0.00000</td>\n",
       "      <td>0.1587</td>\n",
       "      <td>0.05884</td>\n",
       "      <td>...</td>\n",
       "      <td>30.37</td>\n",
       "      <td>59.16</td>\n",
       "      <td>268.6</td>\n",
       "      <td>0.08996</td>\n",
       "      <td>0.06444</td>\n",
       "      <td>0.0000</td>\n",
       "      <td>0.0000</td>\n",
       "      <td>0.2871</td>\n",
       "      <td>0.07039</td>\n",
       "      <td>1</td>\n",
       "    </tr>\n",
       "  </tbody>\n",
       "</table>\n",
       "<p>569 rows × 31 columns</p>\n",
       "</div>"
      ],
      "text/plain": [
       "     mean radius  mean texture  mean perimeter  mean area  mean smoothness  \\\n",
       "0          17.99         10.38          122.80     1001.0          0.11840   \n",
       "1          20.57         17.77          132.90     1326.0          0.08474   \n",
       "2          19.69         21.25          130.00     1203.0          0.10960   \n",
       "3          11.42         20.38           77.58      386.1          0.14250   \n",
       "4          20.29         14.34          135.10     1297.0          0.10030   \n",
       "..           ...           ...             ...        ...              ...   \n",
       "564        21.56         22.39          142.00     1479.0          0.11100   \n",
       "565        20.13         28.25          131.20     1261.0          0.09780   \n",
       "566        16.60         28.08          108.30      858.1          0.08455   \n",
       "567        20.60         29.33          140.10     1265.0          0.11780   \n",
       "568         7.76         24.54           47.92      181.0          0.05263   \n",
       "\n",
       "     mean compactness  mean concavity  mean concave points  mean symmetry  \\\n",
       "0             0.27760         0.30010              0.14710         0.2419   \n",
       "1             0.07864         0.08690              0.07017         0.1812   \n",
       "2             0.15990         0.19740              0.12790         0.2069   \n",
       "3             0.28390         0.24140              0.10520         0.2597   \n",
       "4             0.13280         0.19800              0.10430         0.1809   \n",
       "..                ...             ...                  ...            ...   \n",
       "564           0.11590         0.24390              0.13890         0.1726   \n",
       "565           0.10340         0.14400              0.09791         0.1752   \n",
       "566           0.10230         0.09251              0.05302         0.1590   \n",
       "567           0.27700         0.35140              0.15200         0.2397   \n",
       "568           0.04362         0.00000              0.00000         0.1587   \n",
       "\n",
       "     mean fractal dimension  ...  worst texture  worst perimeter  worst area  \\\n",
       "0                   0.07871  ...          17.33           184.60      2019.0   \n",
       "1                   0.05667  ...          23.41           158.80      1956.0   \n",
       "2                   0.05999  ...          25.53           152.50      1709.0   \n",
       "3                   0.09744  ...          26.50            98.87       567.7   \n",
       "4                   0.05883  ...          16.67           152.20      1575.0   \n",
       "..                      ...  ...            ...              ...         ...   \n",
       "564                 0.05623  ...          26.40           166.10      2027.0   \n",
       "565                 0.05533  ...          38.25           155.00      1731.0   \n",
       "566                 0.05648  ...          34.12           126.70      1124.0   \n",
       "567                 0.07016  ...          39.42           184.60      1821.0   \n",
       "568                 0.05884  ...          30.37            59.16       268.6   \n",
       "\n",
       "     worst smoothness  worst compactness  worst concavity  \\\n",
       "0             0.16220            0.66560           0.7119   \n",
       "1             0.12380            0.18660           0.2416   \n",
       "2             0.14440            0.42450           0.4504   \n",
       "3             0.20980            0.86630           0.6869   \n",
       "4             0.13740            0.20500           0.4000   \n",
       "..                ...                ...              ...   \n",
       "564           0.14100            0.21130           0.4107   \n",
       "565           0.11660            0.19220           0.3215   \n",
       "566           0.11390            0.30940           0.3403   \n",
       "567           0.16500            0.86810           0.9387   \n",
       "568           0.08996            0.06444           0.0000   \n",
       "\n",
       "     worst concave points  worst symmetry  worst fractal dimension  target  \n",
       "0                  0.2654          0.4601                  0.11890       0  \n",
       "1                  0.1860          0.2750                  0.08902       0  \n",
       "2                  0.2430          0.3613                  0.08758       0  \n",
       "3                  0.2575          0.6638                  0.17300       0  \n",
       "4                  0.1625          0.2364                  0.07678       0  \n",
       "..                    ...             ...                      ...     ...  \n",
       "564                0.2216          0.2060                  0.07115       0  \n",
       "565                0.1628          0.2572                  0.06637       0  \n",
       "566                0.1418          0.2218                  0.07820       0  \n",
       "567                0.2650          0.4087                  0.12400       0  \n",
       "568                0.0000          0.2871                  0.07039       1  \n",
       "\n",
       "[569 rows x 31 columns]"
      ]
     },
     "execution_count": 4,
     "metadata": {},
     "output_type": "execute_result"
    }
   ],
   "source": [
    "def cancer_df():\n",
    "    df = pd.DataFrame(data=bc_data_obj['data'], columns=bc_data_obj['feature_names'])\n",
    "    df['target'] = bc_data_obj['target']\n",
    "    \n",
    "    return df\n",
    "\n",
    "cancer_df()"
   ]
  },
  {
   "cell_type": "code",
   "execution_count": 5,
   "metadata": {},
   "outputs": [
    {
     "data": {
      "text/plain": [
       "569"
      ]
     },
     "execution_count": 5,
     "metadata": {},
     "output_type": "execute_result"
    }
   ],
   "source": [
    "cancer = cancer_df()\n",
    "cancer.head()\n",
    "len(cancer['target'])"
   ]
  },
  {
   "cell_type": "code",
   "execution_count": 6,
   "metadata": {},
   "outputs": [
    {
     "data": {
      "text/plain": [
       "1    357\n",
       "0    212\n",
       "Name: target, dtype: int64"
      ]
     },
     "execution_count": 6,
     "metadata": {},
     "output_type": "execute_result"
    }
   ],
   "source": [
    "cancer['target'].value_counts()"
   ]
  },
  {
   "cell_type": "code",
   "execution_count": 7,
   "metadata": {},
   "outputs": [],
   "source": [
    "\n",
    "def feature_target():\n",
    "    cancerdf = cancer_df()\n",
    "    \n",
    "    X= cancerdf.iloc[:, :-1]\n",
    "    y= cancerdf['target']\n",
    "    \n",
    "    return X, y \n",
    " \n",
    "from sklearn.model_selection import train_test_split\n",
    "\n",
    "def split_model():\n",
    "    X, y = feature_target()\n",
    "    \n",
    "    X_train, X_test, y_train, y_test = train_test_split(X, y, test_size=0.2 , random_state=42)\n",
    "    \n",
    "    return X_train, X_test, y_train, y_test\n",
    "\n",
    "\n",
    " # X_train, X_test, y_train, y_test ...\n",
    "\n",
    "X_train, X_test, y_train, y_test = split_model()"
   ]
  },
  {
   "cell_type": "markdown",
   "metadata": {},
   "source": [
    "After this cell, use X_train. Later on, X_test and y_test will be used to evaluate the diagnostic success of the unsupervised learning approaches. You will find as the course progresses that training with the labels is going to give better results. Keep track of any transformations to the training data and always use the fitted train object to transform the X_test data. "
   ]
  },
  {
   "cell_type": "markdown",
   "metadata": {},
   "source": [
    "## Process Data (5 points Total)"
   ]
  },
  {
   "cell_type": "markdown",
   "metadata": {},
   "source": [
    "### Check for Outliers"
   ]
  },
  {
   "cell_type": "code",
   "execution_count": 8,
   "metadata": {},
   "outputs": [
    {
     "data": {
      "image/png": "[encoded data removed]",
      "text/plain": [
       "<Figure size 432x288 with 1 Axes>"
      ]
     },
     "metadata": {
      "needs_background": "light"
     },
     "output_type": "display_data"
    },
    {
     "data": {
      "image/png": "[encoded data removed]",
      "text/plain": [
       "<Figure size 432x288 with 1 Axes>"
      ]
     },
     "metadata": {
      "needs_background": "light"
     },
     "output_type": "display_data"
    },
    {
     "data": {
      "image/png": "[encoded data removed]",
      "text/plain": [
       "<Figure size 432x288 with 1 Axes>"
      ]
     },
     "metadata": {
      "needs_background": "light"
     },
     "output_type": "display_data"
    },
    {
     "data": {
      "image/png": "[encoded data removed]",
      "text/plain": [
       "<Figure size 432x288 with 1 Axes>"
      ]
     },
     "metadata": {
      "needs_background": "light"
     },
     "output_type": "display_data"
    },
    {
     "data": {
      "image/png": "[encoded data removed]",
      "text/plain": [
       "<Figure size 432x288 with 1 Axes>"
      ]
     },
     "metadata": {
      "needs_background": "light"
     },
     "output_type": "display_data"
    },
    {
     "data": {
      "image/png": "[encoded data removed]",
      "text/plain": [
       "<Figure size 432x288 with 1 Axes>"
      ]
     },
     "metadata": {
      "needs_background": "light"
     },
     "output_type": "display_data"
    },
    {
     "data": {
      "image/png": "[encoded data removed]",
      "text/plain": [
       "<Figure size 432x288 with 1 Axes>"
      ]
     },
     "metadata": {
      "needs_background": "light"
     },
     "output_type": "display_data"
    },
    {
     "data": {
      "image/png": "[encoded data removed]",
      "text/plain": [
       "<Figure size 432x288 with 1 Axes>"
      ]
     },
     "metadata": {
      "needs_background": "light"
     },
     "output_type": "display_data"
    },
    {
     "data": {
      "image/png": "[encoded data removed]",
      "text/plain": [
       "<Figure size 432x288 with 1 Axes>"
      ]
     },
     "metadata": {
      "needs_background": "light"
     },
     "output_type": "display_data"
    },
    {
     "data": {
      "image/png": "[encoded data removed]",
      "text/plain": [
       "<Figure size 432x288 with 1 Axes>"
      ]
     },
     "metadata": {
      "needs_background": "light"
     },
     "output_type": "display_data"
    },
    {
     "data": {
      "image/png": "[encoded data removed]",
      "text/plain": [
       "<Figure size 432x288 with 1 Axes>"
      ]
     },
     "metadata": {
      "needs_background": "light"
     },
     "output_type": "display_data"
    },
    {
     "data": {
      "image/png": "[encoded data removed]",
      "text/plain": [
       "<Figure size 432x288 with 1 Axes>"
      ]
     },
     "metadata": {
      "needs_background": "light"
     },
     "output_type": "display_data"
    },
    {
     "data": {
      "image/png": "[encoded data removed]",
      "text/plain": [
       "<Figure size 432x288 with 1 Axes>"
      ]
     },
     "metadata": {
      "needs_background": "light"
     },
     "output_type": "display_data"
    },
    {
     "data": {
      "image/png": "[encoded data removed]",
      "text/plain": [
       "<Figure size 432x288 with 1 Axes>"
      ]
     },
     "metadata": {
      "needs_background": "light"
     },
     "output_type": "display_data"
    },
    {
     "data": {
      "image/png": "[encoded data removed]",
      "text/plain": [
       "<Figure size 432x288 with 1 Axes>"
      ]
     },
     "metadata": {
      "needs_background": "light"
     },
     "output_type": "display_data"
    },
    {
     "data": {
      "image/png": "[encoded data removed]",
      "text/plain": [
       "<Figure size 432x288 with 1 Axes>"
      ]
     },
     "metadata": {
      "needs_background": "light"
     },
     "output_type": "display_data"
    },
    {
     "data": {
      "image/png": "[encoded data removed]",
      "text/plain": [
       "<Figure size 432x288 with 1 Axes>"
      ]
     },
     "metadata": {
      "needs_background": "light"
     },
     "output_type": "display_data"
    },
    {
     "data": {
      "image/png": "[encoded data removed]",
      "text/plain": [
       "<Figure size 432x288 with 1 Axes>"
      ]
     },
     "metadata": {
      "needs_background": "light"
     },
     "output_type": "display_data"
    },
    {
     "data": {
      "image/png": "[encoded data removed]",
      "text/plain": [
       "<Figure size 432x288 with 1 Axes>"
      ]
     },
     "metadata": {
      "needs_background": "light"
     },
     "output_type": "display_data"
    },
    {
     "data": {
      "image/png": "[encoded data removed]",
      "text/plain": [
       "<Figure size 432x288 with 1 Axes>"
      ]
     },
     "metadata": {
      "needs_background": "light"
     },
     "output_type": "display_data"
    },
    {
     "data": {
      "image/png": "[encoded data removed]",
      "text/plain": [
       "<Figure size 432x288 with 1 Axes>"
      ]
     },
     "metadata": {
      "needs_background": "light"
     },
     "output_type": "display_data"
    },
    {
     "data": {
      "image/png": "[encoded data removed]",
      "text/plain": [
       "<Figure size 432x288 with 1 Axes>"
      ]
     },
     "metadata": {
      "needs_background": "light"
     },
     "output_type": "display_data"
    },
    {
     "data": {
      "image/png": "[encoded data removed]",
      "text/plain": [
       "<Figure size 432x288 with 1 Axes>"
      ]
     },
     "metadata": {
      "needs_background": "light"
     },
     "output_type": "display_data"
    },
    {
     "data": {
      "image/png": "[encoded data removed]",
      "text/plain": [
       "<Figure size 432x288 with 1 Axes>"
      ]
     },
     "metadata": {
      "needs_background": "light"
     },
     "output_type": "display_data"
    },
    {
     "data": {
      "image/png": "[encoded data removed]",
      "text/plain": [
       "<Figure size 432x288 with 1 Axes>"
      ]
     },
     "metadata": {
      "needs_background": "light"
     },
     "output_type": "display_data"
    },
    {
     "data": {
      "image/png": "[encoded data removed]",
      "text/plain": [
       "<Figure size 432x288 with 1 Axes>"
      ]
     },
     "metadata": {
      "needs_background": "light"
     },
     "output_type": "display_data"
    },
    {
     "data": {
      "image/png": "[encoded data removed]",
      "text/plain": [
       "<Figure size 432x288 with 1 Axes>"
      ]
     },
     "metadata": {
      "needs_background": "light"
     },
     "output_type": "display_data"
    },
    {
     "data": {
      "image/png": "[encoded data removed]",
      "text/plain": [
       "<Figure size 432x288 with 1 Axes>"
      ]
     },
     "metadata": {
      "needs_background": "light"
     },
     "output_type": "display_data"
    },
    {
     "data": {
      "image/png": "[encoded data removed]",
      "text/plain": [
       "<Figure size 432x288 with 1 Axes>"
      ]
     },
     "metadata": {
      "needs_background": "light"
     },
     "output_type": "display_data"
    },
    {
     "data": {
      "image/png": "[encoded data removed]",
      "text/plain": [
       "<Figure size 432x288 with 1 Axes>"
      ]
     },
     "metadata": {
      "needs_background": "light"
     },
     "output_type": "display_data"
    }
   ],
   "source": [
    "import seaborn as sns\n",
    "import matplotlib.pyplot as plt\n",
    "\n",
    "num_cols = list(X_train.select_dtypes(np.number).columns)\n",
    "for col in num_cols:\n",
    "    sns.boxplot(x = col, data=X_train)\n",
    "    plt.show()"
   ]
  },
  {
   "cell_type": "code",
   "execution_count": 9,
   "metadata": {},
   "outputs": [
    {
     "name": "stdout",
     "output_type": "stream",
     "text": [
      "     mean radius  mean texture  mean perimeter  mean area  mean smoothness  \\\n",
      "68      1.440753      0.435319        1.362085   1.139118         0.780573   \n",
      "181     1.974096      1.733026        2.091672   1.851973         1.319843   \n",
      "63      1.399982      1.249622        1.345209   1.109785         1.332645   \n",
      "248     0.981797      1.416222        0.982587   0.866944         0.059390   \n",
      "60      1.117700      1.010259        1.125002   0.965942         1.269511   \n",
      "..           ...           ...             ...        ...              ...   \n",
      "71      1.480675      1.066580        1.362085   1.157451         0.149987   \n",
      "106     0.701497      0.200650        0.687880   0.682204         1.327033   \n",
      "270     0.048802      0.555001        0.065125   0.061423         2.261627   \n",
      "435     0.038969      0.102073        0.031374   0.154780         0.737432   \n",
      "102     0.548606      0.313276        0.603502   0.551900         1.122689   \n",
      "\n",
      "     mean compactness  mean concavity  mean concave points  mean symmetry  \\\n",
      "68           0.718921        2.823135             0.119150       1.092662   \n",
      "181          3.426275        2.013112             2.665032       2.127004   \n",
      "63           0.307355        0.365558             0.696502       1.930333   \n",
      "248          0.596788        0.820203             0.845115       0.313264   \n",
      "60           0.439002        0.983341             0.930600       3.394436   \n",
      "..                ...             ...                  ...            ...   \n",
      "71           0.944057        0.035754             0.514485       0.331474   \n",
      "106          0.036619        0.229252             0.353247       0.036372   \n",
      "270          1.466613        1.028567             1.105515       1.103492   \n",
      "435          0.184701        0.298585             0.430059       0.517123   \n",
      "102          1.206562        0.819699             0.804345       0.262179   \n",
      "\n",
      "     mean fractal dimension  ...  worst radius  worst texture  \\\n",
      "68                 2.458173  ...      1.232861       0.476309   \n",
      "181                1.558396  ...      2.173314       1.311279   \n",
      "63                 0.954379  ...      1.295284       1.040811   \n",
      "248                0.074041  ...      0.829197       1.593530   \n",
      "60                 0.950213  ...      1.085129       1.334616   \n",
      "..                      ...  ...           ...            ...   \n",
      "71                 3.755073  ...      1.352920       1.628421   \n",
      "106                0.339253  ...      0.644011       0.614731   \n",
      "270                1.249242  ...      0.275720       0.806427   \n",
      "435                0.372579  ...      0.167478       0.868921   \n",
      "102                0.831290  ...      0.602396       1.205642   \n",
      "\n",
      "     worst perimeter  worst area  worst smoothness  worst compactness  \\\n",
      "68          1.247920    0.973968          0.722894           1.186732   \n",
      "181         2.081617    2.137405          0.761928           3.265601   \n",
      "63          1.245220    0.999715          1.438693           0.548564   \n",
      "248         0.873572    0.742947          0.796624           0.729392   \n",
      "60          1.117138    0.896549          0.174876           0.995079   \n",
      "..               ...         ...               ...                ...   \n",
      "71          1.336108    1.045037          0.469795           0.059039   \n",
      "106         0.647704    0.626555          1.616328           0.085623   \n",
      "270         0.379841    0.339278          1.989065           1.307006   \n",
      "435         0.203878    0.013556          1.291049           0.672020   \n",
      "102         0.675600    0.580527          0.834108           1.059918   \n",
      "\n",
      "     worst concavity  worst concave points  worst symmetry  \\\n",
      "68          4.672828              0.932012        2.097242   \n",
      "181         1.928621              2.698947        1.891161   \n",
      "63          0.644911              0.970239        0.597602   \n",
      "248         0.774950              0.809483        0.798928   \n",
      "60          1.209146              1.354582        1.033544   \n",
      "..               ...                   ...             ...   \n",
      "71          0.627221              1.016366        1.032028   \n",
      "106         0.060743              0.116740        0.156974   \n",
      "270         1.127968              1.239034        0.708639   \n",
      "435         0.632532              1.050012        0.434322   \n",
      "102         0.765388              0.611029        0.334521   \n",
      "\n",
      "     worst fractal dimension  \n",
      "68                  1.886450  \n",
      "181                 2.497838  \n",
      "63                  0.057894  \n",
      "248                 0.134497  \n",
      "60                  0.205732  \n",
      "..                       ...  \n",
      "71                  1.376025  \n",
      "106                 0.398365  \n",
      "270                 1.271455  \n",
      "435                 1.213362  \n",
      "102                 0.846287  \n",
      "\n",
      "[455 rows x 30 columns]\n"
     ]
    }
   ],
   "source": [
    "#Using Z-scores to check for outliers\n",
    "from scipy import stats\n",
    "import numpy as np\n",
    "z = np.abs(stats.zscore(X_train))\n",
    "print(z)"
   ]
  },
  {
   "cell_type": "code",
   "execution_count": 10,
   "metadata": {},
   "outputs": [
    {
     "name": "stdout",
     "output_type": "stream",
     "text": [
      "(array([  0,   0,   0,   0,   1,   1,   4,   6,   6,  16,  17,  17,  17,\n",
      "        41,  41,  41,  41,  41,  41,  43,  46,  54,  54,  84,  88,  88,\n",
      "        88, 100, 118, 122, 122, 122, 122, 122, 122, 122, 125, 131, 141,\n",
      "       141, 141, 141, 141, 141, 141, 141, 163, 163, 163, 163, 163, 163,\n",
      "       164, 173, 173, 179, 201, 202, 202, 202, 206, 206, 206, 206, 206,\n",
      "       206, 206, 206, 208, 208, 208, 211, 211, 218, 218, 218, 218, 218,\n",
      "       218, 218, 218, 218, 218, 218, 218, 218, 218, 220, 221, 226, 226,\n",
      "       226, 234, 234, 247, 247, 250, 252, 252, 253, 263, 263, 263, 264,\n",
      "       268, 268, 268, 274, 277, 277, 280, 292, 292, 292, 292, 292, 293,\n",
      "       306, 327, 327, 327, 327, 327, 337, 337, 347, 347, 352, 352, 362,\n",
      "       362, 365, 365, 365, 374, 374, 376, 376, 376, 376, 376, 376, 376,\n",
      "       381, 381, 381, 381, 381, 381, 381, 381, 381, 381, 381, 394, 394,\n",
      "       394, 394, 394, 397, 397, 398, 398, 399, 399, 410, 410, 410, 411,\n",
      "       421, 421, 450, 450, 450, 450], dtype=int64), array([15, 16, 17, 26,  5, 25,  8, 15, 19,  5, 25, 26, 29,  5,  6,  7, 12,\n",
      "       15, 26,  4, 11, 15, 19,  8, 15, 18, 25, 29, 11,  0,  2,  3,  7, 20,\n",
      "       22, 23, 23, 14,  4,  5,  9, 18, 24, 25, 28, 29,  6,  9, 15, 16, 17,\n",
      "       19, 19, 18, 28, 28,  9,  8, 18, 28,  0,  2,  3,  6,  7, 20, 22, 23,\n",
      "        2,  3, 23,  1, 21,  2,  3,  4,  5,  6,  7,  8, 10, 11, 12, 13, 14,\n",
      "       15, 18,  6, 28, 13, 20, 23,  1, 21, 16, 19, 11, 14, 18, 29,  5, 10,\n",
      "       12,  1,  9, 16, 19, 11,  9, 14, 26, 11, 12, 15, 17, 19, 28, 18, 14,\n",
      "       15, 16, 17, 19, 10, 12, 15, 17, 10, 18, 25, 29, 24, 25, 29, 20, 23,\n",
      "        0,  2,  3, 10, 12, 13, 18,  0,  2,  3,  6,  7, 10, 12, 13, 20, 22,\n",
      "       23, 15, 18, 25, 28, 29,  1, 21,  4, 29, 11, 17,  3, 20, 23, 14,  4,\n",
      "        9,  9, 14, 15, 19], dtype=int64))\n"
     ]
    }
   ],
   "source": [
    "threshold = 3\n",
    "print(np.where(z > 3))"
   ]
  },
  {
   "cell_type": "code",
   "execution_count": 11,
   "metadata": {},
   "outputs": [],
   "source": [
    "X_train_sub = X_train[(z < 3).all(axis=1)]"
   ]
  },
  {
   "cell_type": "code",
   "execution_count": 12,
   "metadata": {},
   "outputs": [
    {
     "data": {
      "text/plain": [
       "(455, 30)"
      ]
     },
     "execution_count": 12,
     "metadata": {},
     "output_type": "execute_result"
    }
   ],
   "source": [
    "X_train.shape"
   ]
  },
  {
   "cell_type": "code",
   "execution_count": 13,
   "metadata": {},
   "outputs": [
    {
     "data": {
      "text/plain": [
       "(393, 30)"
      ]
     },
     "execution_count": 13,
     "metadata": {},
     "output_type": "execute_result"
    }
   ],
   "source": [
    "X_train_sub.shape"
   ]
  },
  {
   "cell_type": "markdown",
   "metadata": {},
   "source": [
    "#### Corrections?"
   ]
  },
  {
   "cell_type": "code",
   "execution_count": 14,
   "metadata": {},
   "outputs": [],
   "source": [
    "#We can see that by removing extreme outliers we lose around 10% of our data. \n",
    "#Being medical data, I want to retian as much info as possible so I will choose to Windzorize the data"
   ]
  },
  {
   "cell_type": "code",
   "execution_count": 15,
   "metadata": {},
   "outputs": [],
   "source": [
    "Xtrain = X_train"
   ]
  },
  {
   "cell_type": "code",
   "execution_count": 16,
   "metadata": {},
   "outputs": [
    {
     "name": "stdout",
     "output_type": "stream",
     "text": [
      "Requirement already satisfied: feature-engine in c:\\users\\matthew\\anaconda3\\lib\\site-packages (1.4.1)\n",
      "Requirement already satisfied: numpy>=1.18.2 in c:\\users\\matthew\\anaconda3\\lib\\site-packages (from feature-engine) (1.20.3)\n",
      "Requirement already satisfied: scikit-learn>=1.0.0 in c:\\users\\matthew\\anaconda3\\lib\\site-packages (from feature-engine) (1.1.1)\n",
      "Requirement already satisfied: pandas>=1.0.3 in c:\\users\\matthew\\anaconda3\\lib\\site-packages (from feature-engine) (1.3.4)\n",
      "Requirement already satisfied: scipy>=1.4.1 in c:\\users\\matthew\\anaconda3\\lib\\site-packages (from feature-engine) (1.7.1)\n",
      "Requirement already satisfied: statsmodels>=0.11.1 in c:\\users\\matthew\\anaconda3\\lib\\site-packages (from feature-engine) (0.12.2)\n",
      "Requirement already satisfied: pytz>=2017.3 in c:\\users\\matthew\\anaconda3\\lib\\site-packages (from pandas>=1.0.3->feature-engine) (2021.3)\n",
      "Requirement already satisfied: python-dateutil>=2.7.3 in c:\\users\\matthew\\anaconda3\\lib\\site-packages (from pandas>=1.0.3->feature-engine) (2.8.2)\n",
      "Requirement already satisfied: six>=1.5 in c:\\users\\matthew\\anaconda3\\lib\\site-packages (from python-dateutil>=2.7.3->pandas>=1.0.3->feature-engine) (1.16.0)\n",
      "Requirement already satisfied: joblib>=1.0.0 in c:\\users\\matthew\\anaconda3\\lib\\site-packages (from scikit-learn>=1.0.0->feature-engine) (1.1.0)\n",
      "Requirement already satisfied: threadpoolctl>=2.0.0 in c:\\users\\matthew\\anaconda3\\lib\\site-packages (from scikit-learn>=1.0.0->feature-engine) (2.2.0)\n",
      "Requirement already satisfied: patsy>=0.5 in c:\\users\\matthew\\anaconda3\\lib\\site-packages (from statsmodels>=0.11.1->feature-engine) (0.5.2)\n"
     ]
    },
    {
     "data": {
      "text/html": [
       "<div>\n",
       "<style scoped>\n",
       "    .dataframe tbody tr th:only-of-type {\n",
       "        vertical-align: middle;\n",
       "    }\n",
       "\n",
       "    .dataframe tbody tr th {\n",
       "        vertical-align: top;\n",
       "    }\n",
       "\n",
       "    .dataframe thead th {\n",
       "        text-align: right;\n",
       "    }\n",
       "</style>\n",
       "<table border=\"1\" class=\"dataframe\">\n",
       "  <thead>\n",
       "    <tr style=\"text-align: right;\">\n",
       "      <th></th>\n",
       "      <th>mean radius</th>\n",
       "      <th>mean texture</th>\n",
       "      <th>mean perimeter</th>\n",
       "      <th>mean area</th>\n",
       "      <th>mean smoothness</th>\n",
       "      <th>mean compactness</th>\n",
       "      <th>mean concavity</th>\n",
       "      <th>mean concave points</th>\n",
       "      <th>mean symmetry</th>\n",
       "      <th>mean fractal dimension</th>\n",
       "      <th>...</th>\n",
       "      <th>worst radius</th>\n",
       "      <th>worst texture</th>\n",
       "      <th>worst perimeter</th>\n",
       "      <th>worst area</th>\n",
       "      <th>worst smoothness</th>\n",
       "      <th>worst compactness</th>\n",
       "      <th>worst concavity</th>\n",
       "      <th>worst concave points</th>\n",
       "      <th>worst symmetry</th>\n",
       "      <th>worst fractal dimension</th>\n",
       "    </tr>\n",
       "  </thead>\n",
       "  <tbody>\n",
       "    <tr>\n",
       "      <th>68</th>\n",
       "      <td>9.029</td>\n",
       "      <td>17.33</td>\n",
       "      <td>58.79</td>\n",
       "      <td>250.5</td>\n",
       "      <td>0.10660</td>\n",
       "      <td>0.141300</td>\n",
       "      <td>0.31300</td>\n",
       "      <td>0.04375</td>\n",
       "      <td>0.211100</td>\n",
       "      <td>0.080460</td>\n",
       "      <td>...</td>\n",
       "      <td>10.310</td>\n",
       "      <td>22.65</td>\n",
       "      <td>65.50</td>\n",
       "      <td>324.7</td>\n",
       "      <td>0.14820</td>\n",
       "      <td>0.436500</td>\n",
       "      <td>0.902789</td>\n",
       "      <td>0.17500</td>\n",
       "      <td>0.4228</td>\n",
       "      <td>0.11750</td>\n",
       "    </tr>\n",
       "    <tr>\n",
       "      <th>181</th>\n",
       "      <td>21.090</td>\n",
       "      <td>26.57</td>\n",
       "      <td>142.70</td>\n",
       "      <td>1311.0</td>\n",
       "      <td>0.11410</td>\n",
       "      <td>0.261031</td>\n",
       "      <td>0.24870</td>\n",
       "      <td>0.14960</td>\n",
       "      <td>0.239500</td>\n",
       "      <td>0.073980</td>\n",
       "      <td>...</td>\n",
       "      <td>26.680</td>\n",
       "      <td>33.48</td>\n",
       "      <td>176.50</td>\n",
       "      <td>2089.0</td>\n",
       "      <td>0.14910</td>\n",
       "      <td>0.717785</td>\n",
       "      <td>0.678000</td>\n",
       "      <td>0.29030</td>\n",
       "      <td>0.4098</td>\n",
       "      <td>0.12840</td>\n",
       "    </tr>\n",
       "    <tr>\n",
       "      <th>63</th>\n",
       "      <td>9.173</td>\n",
       "      <td>13.86</td>\n",
       "      <td>59.20</td>\n",
       "      <td>260.9</td>\n",
       "      <td>0.07721</td>\n",
       "      <td>0.087510</td>\n",
       "      <td>0.05988</td>\n",
       "      <td>0.02180</td>\n",
       "      <td>0.234100</td>\n",
       "      <td>0.069630</td>\n",
       "      <td>...</td>\n",
       "      <td>10.010</td>\n",
       "      <td>19.23</td>\n",
       "      <td>65.59</td>\n",
       "      <td>310.1</td>\n",
       "      <td>0.09836</td>\n",
       "      <td>0.167800</td>\n",
       "      <td>0.139700</td>\n",
       "      <td>0.05087</td>\n",
       "      <td>0.3282</td>\n",
       "      <td>0.08490</td>\n",
       "    </tr>\n",
       "    <tr>\n",
       "      <th>248</th>\n",
       "      <td>10.650</td>\n",
       "      <td>25.22</td>\n",
       "      <td>68.01</td>\n",
       "      <td>347.0</td>\n",
       "      <td>0.09657</td>\n",
       "      <td>0.072340</td>\n",
       "      <td>0.02379</td>\n",
       "      <td>0.01615</td>\n",
       "      <td>0.189700</td>\n",
       "      <td>0.063290</td>\n",
       "      <td>...</td>\n",
       "      <td>12.250</td>\n",
       "      <td>35.19</td>\n",
       "      <td>77.98</td>\n",
       "      <td>455.7</td>\n",
       "      <td>0.14990</td>\n",
       "      <td>0.139800</td>\n",
       "      <td>0.112500</td>\n",
       "      <td>0.06136</td>\n",
       "      <td>0.3409</td>\n",
       "      <td>0.08147</td>\n",
       "    </tr>\n",
       "    <tr>\n",
       "      <th>60</th>\n",
       "      <td>10.170</td>\n",
       "      <td>14.88</td>\n",
       "      <td>64.55</td>\n",
       "      <td>311.9</td>\n",
       "      <td>0.11340</td>\n",
       "      <td>0.080610</td>\n",
       "      <td>0.01084</td>\n",
       "      <td>0.01290</td>\n",
       "      <td>0.263561</td>\n",
       "      <td>0.069600</td>\n",
       "      <td>...</td>\n",
       "      <td>11.020</td>\n",
       "      <td>17.45</td>\n",
       "      <td>69.86</td>\n",
       "      <td>368.6</td>\n",
       "      <td>0.12750</td>\n",
       "      <td>0.098660</td>\n",
       "      <td>0.021680</td>\n",
       "      <td>0.02579</td>\n",
       "      <td>0.3557</td>\n",
       "      <td>0.08020</td>\n",
       "    </tr>\n",
       "    <tr>\n",
       "      <th>...</th>\n",
       "      <td>...</td>\n",
       "      <td>...</td>\n",
       "      <td>...</td>\n",
       "      <td>...</td>\n",
       "      <td>...</td>\n",
       "      <td>...</td>\n",
       "      <td>...</td>\n",
       "      <td>...</td>\n",
       "      <td>...</td>\n",
       "      <td>...</td>\n",
       "      <td>...</td>\n",
       "      <td>...</td>\n",
       "      <td>...</td>\n",
       "      <td>...</td>\n",
       "      <td>...</td>\n",
       "      <td>...</td>\n",
       "      <td>...</td>\n",
       "      <td>...</td>\n",
       "      <td>...</td>\n",
       "      <td>...</td>\n",
       "      <td>...</td>\n",
       "    </tr>\n",
       "    <tr>\n",
       "      <th>71</th>\n",
       "      <td>8.888</td>\n",
       "      <td>14.64</td>\n",
       "      <td>58.79</td>\n",
       "      <td>244.0</td>\n",
       "      <td>0.09783</td>\n",
       "      <td>0.153100</td>\n",
       "      <td>0.08606</td>\n",
       "      <td>0.02872</td>\n",
       "      <td>0.190200</td>\n",
       "      <td>0.084386</td>\n",
       "      <td>...</td>\n",
       "      <td>9.733</td>\n",
       "      <td>15.67</td>\n",
       "      <td>62.56</td>\n",
       "      <td>284.4</td>\n",
       "      <td>0.12070</td>\n",
       "      <td>0.243600</td>\n",
       "      <td>0.143400</td>\n",
       "      <td>0.04786</td>\n",
       "      <td>0.2254</td>\n",
       "      <td>0.10840</td>\n",
       "    </tr>\n",
       "    <tr>\n",
       "      <th>106</th>\n",
       "      <td>11.640</td>\n",
       "      <td>18.33</td>\n",
       "      <td>75.17</td>\n",
       "      <td>412.5</td>\n",
       "      <td>0.11420</td>\n",
       "      <td>0.101700</td>\n",
       "      <td>0.07070</td>\n",
       "      <td>0.03485</td>\n",
       "      <td>0.180100</td>\n",
       "      <td>0.065200</td>\n",
       "      <td>...</td>\n",
       "      <td>13.140</td>\n",
       "      <td>29.26</td>\n",
       "      <td>85.51</td>\n",
       "      <td>521.7</td>\n",
       "      <td>0.16880</td>\n",
       "      <td>0.266000</td>\n",
       "      <td>0.287300</td>\n",
       "      <td>0.12180</td>\n",
       "      <td>0.2806</td>\n",
       "      <td>0.09097</td>\n",
       "    </tr>\n",
       "    <tr>\n",
       "      <th>270</th>\n",
       "      <td>14.290</td>\n",
       "      <td>16.82</td>\n",
       "      <td>90.30</td>\n",
       "      <td>632.6</td>\n",
       "      <td>0.06429</td>\n",
       "      <td>0.026750</td>\n",
       "      <td>0.00725</td>\n",
       "      <td>0.00625</td>\n",
       "      <td>0.150800</td>\n",
       "      <td>0.053760</td>\n",
       "      <td>...</td>\n",
       "      <td>14.910</td>\n",
       "      <td>20.65</td>\n",
       "      <td>94.44</td>\n",
       "      <td>684.6</td>\n",
       "      <td>0.08567</td>\n",
       "      <td>0.050360</td>\n",
       "      <td>0.038660</td>\n",
       "      <td>0.03333</td>\n",
       "      <td>0.2458</td>\n",
       "      <td>0.06120</td>\n",
       "    </tr>\n",
       "    <tr>\n",
       "      <th>435</th>\n",
       "      <td>13.980</td>\n",
       "      <td>19.62</td>\n",
       "      <td>91.12</td>\n",
       "      <td>599.5</td>\n",
       "      <td>0.10600</td>\n",
       "      <td>0.113300</td>\n",
       "      <td>0.11260</td>\n",
       "      <td>0.06463</td>\n",
       "      <td>0.166900</td>\n",
       "      <td>0.065440</td>\n",
       "      <td>...</td>\n",
       "      <td>17.040</td>\n",
       "      <td>30.80</td>\n",
       "      <td>113.90</td>\n",
       "      <td>869.3</td>\n",
       "      <td>0.16130</td>\n",
       "      <td>0.356800</td>\n",
       "      <td>0.406900</td>\n",
       "      <td>0.18270</td>\n",
       "      <td>0.3179</td>\n",
       "      <td>0.10550</td>\n",
       "    </tr>\n",
       "    <tr>\n",
       "      <th>102</th>\n",
       "      <td>12.180</td>\n",
       "      <td>20.52</td>\n",
       "      <td>77.22</td>\n",
       "      <td>458.7</td>\n",
       "      <td>0.08013</td>\n",
       "      <td>0.040380</td>\n",
       "      <td>0.02383</td>\n",
       "      <td>0.01770</td>\n",
       "      <td>0.173900</td>\n",
       "      <td>0.056770</td>\n",
       "      <td>...</td>\n",
       "      <td>13.340</td>\n",
       "      <td>32.84</td>\n",
       "      <td>84.58</td>\n",
       "      <td>547.8</td>\n",
       "      <td>0.11230</td>\n",
       "      <td>0.088620</td>\n",
       "      <td>0.114500</td>\n",
       "      <td>0.07431</td>\n",
       "      <td>0.2694</td>\n",
       "      <td>0.06878</td>\n",
       "    </tr>\n",
       "  </tbody>\n",
       "</table>\n",
       "<p>455 rows × 30 columns</p>\n",
       "</div>"
      ],
      "text/plain": [
       "     mean radius  mean texture  mean perimeter  mean area  mean smoothness  \\\n",
       "68         9.029         17.33           58.79      250.5          0.10660   \n",
       "181       21.090         26.57          142.70     1311.0          0.11410   \n",
       "63         9.173         13.86           59.20      260.9          0.07721   \n",
       "248       10.650         25.22           68.01      347.0          0.09657   \n",
       "60        10.170         14.88           64.55      311.9          0.11340   \n",
       "..           ...           ...             ...        ...              ...   \n",
       "71         8.888         14.64           58.79      244.0          0.09783   \n",
       "106       11.640         18.33           75.17      412.5          0.11420   \n",
       "270       14.290         16.82           90.30      632.6          0.06429   \n",
       "435       13.980         19.62           91.12      599.5          0.10600   \n",
       "102       12.180         20.52           77.22      458.7          0.08013   \n",
       "\n",
       "     mean compactness  mean concavity  mean concave points  mean symmetry  \\\n",
       "68           0.141300         0.31300              0.04375       0.211100   \n",
       "181          0.261031         0.24870              0.14960       0.239500   \n",
       "63           0.087510         0.05988              0.02180       0.234100   \n",
       "248          0.072340         0.02379              0.01615       0.189700   \n",
       "60           0.080610         0.01084              0.01290       0.263561   \n",
       "..                ...             ...                  ...            ...   \n",
       "71           0.153100         0.08606              0.02872       0.190200   \n",
       "106          0.101700         0.07070              0.03485       0.180100   \n",
       "270          0.026750         0.00725              0.00625       0.150800   \n",
       "435          0.113300         0.11260              0.06463       0.166900   \n",
       "102          0.040380         0.02383              0.01770       0.173900   \n",
       "\n",
       "     mean fractal dimension  ...  worst radius  worst texture  \\\n",
       "68                 0.080460  ...        10.310          22.65   \n",
       "181                0.073980  ...        26.680          33.48   \n",
       "63                 0.069630  ...        10.010          19.23   \n",
       "248                0.063290  ...        12.250          35.19   \n",
       "60                 0.069600  ...        11.020          17.45   \n",
       "..                      ...  ...           ...            ...   \n",
       "71                 0.084386  ...         9.733          15.67   \n",
       "106                0.065200  ...        13.140          29.26   \n",
       "270                0.053760  ...        14.910          20.65   \n",
       "435                0.065440  ...        17.040          30.80   \n",
       "102                0.056770  ...        13.340          32.84   \n",
       "\n",
       "     worst perimeter  worst area  worst smoothness  worst compactness  \\\n",
       "68             65.50       324.7           0.14820           0.436500   \n",
       "181           176.50      2089.0           0.14910           0.717785   \n",
       "63             65.59       310.1           0.09836           0.167800   \n",
       "248            77.98       455.7           0.14990           0.139800   \n",
       "60             69.86       368.6           0.12750           0.098660   \n",
       "..               ...         ...               ...                ...   \n",
       "71             62.56       284.4           0.12070           0.243600   \n",
       "106            85.51       521.7           0.16880           0.266000   \n",
       "270            94.44       684.6           0.08567           0.050360   \n",
       "435           113.90       869.3           0.16130           0.356800   \n",
       "102            84.58       547.8           0.11230           0.088620   \n",
       "\n",
       "     worst concavity  worst concave points  worst symmetry  \\\n",
       "68          0.902789               0.17500          0.4228   \n",
       "181         0.678000               0.29030          0.4098   \n",
       "63          0.139700               0.05087          0.3282   \n",
       "248         0.112500               0.06136          0.3409   \n",
       "60          0.021680               0.02579          0.3557   \n",
       "..               ...                   ...             ...   \n",
       "71          0.143400               0.04786          0.2254   \n",
       "106         0.287300               0.12180          0.2806   \n",
       "270         0.038660               0.03333          0.2458   \n",
       "435         0.406900               0.18270          0.3179   \n",
       "102         0.114500               0.07431          0.2694   \n",
       "\n",
       "     worst fractal dimension  \n",
       "68                   0.11750  \n",
       "181                  0.12840  \n",
       "63                   0.08490  \n",
       "248                  0.08147  \n",
       "60                   0.08020  \n",
       "..                       ...  \n",
       "71                   0.10840  \n",
       "106                  0.09097  \n",
       "270                  0.06120  \n",
       "435                  0.10550  \n",
       "102                  0.06878  \n",
       "\n",
       "[455 rows x 30 columns]"
      ]
     },
     "execution_count": 16,
     "metadata": {},
     "output_type": "execute_result"
    }
   ],
   "source": [
    "!pip install -U feature-engine\n",
    "from feature_engine.outliers import Winsorizer\n",
    "winsorizer = Winsorizer(tail='both')\n",
    "\n",
    "winsorizer.fit_transform(Xtrain)"
   ]
  },
  {
   "cell_type": "code",
   "execution_count": 17,
   "metadata": {},
   "outputs": [
    {
     "data": {
      "text/plain": [
       "(455, 30)"
      ]
     },
     "execution_count": 17,
     "metadata": {},
     "output_type": "execute_result"
    }
   ],
   "source": [
    "Xtrain.shape"
   ]
  },
  {
   "cell_type": "markdown",
   "metadata": {},
   "source": [
    "### Check Distributions"
   ]
  },
  {
   "cell_type": "code",
   "execution_count": 19,
   "metadata": {},
   "outputs": [
    {
     "name": "stdout",
     "output_type": "stream",
     "text": [
      "mean radius\n",
      "Skew : 0.98\n"
     ]
    },
    {
     "data": {
      "image/png": "[encoded data removed]",
      "text/plain": [
       "<Figure size 288x288 with 1 Axes>"
      ]
     },
     "metadata": {
      "needs_background": "light"
     },
     "output_type": "display_data"
    },
    {
     "name": "stdout",
     "output_type": "stream",
     "text": [
      "mean texture\n",
      "Skew : 0.76\n"
     ]
    },
    {
     "data": {
      "image/png": "[encoded data removed]",
      "text/plain": [
       "<Figure size 288x288 with 1 Axes>"
      ]
     },
     "metadata": {
      "needs_background": "light"
     },
     "output_type": "display_data"
    },
    {
     "name": "stdout",
     "output_type": "stream",
     "text": [
      "mean perimeter\n",
      "Skew : 1.02\n"
     ]
    },
    {
     "data": {
      "image/png": "[encoded data removed]",
      "text/plain": [
       "<Figure size 288x288 with 1 Axes>"
      ]
     },
     "metadata": {
      "needs_background": "light"
     },
     "output_type": "display_data"
    },
    {
     "name": "stdout",
     "output_type": "stream",
     "text": [
      "mean area\n",
      "Skew : 1.73\n"
     ]
    },
    {
     "data": {
      "image/png": "[encoded data removed]",
      "text/plain": [
       "<Figure size 288x288 with 1 Axes>"
      ]
     },
     "metadata": {
      "needs_background": "light"
     },
     "output_type": "display_data"
    },
    {
     "name": "stdout",
     "output_type": "stream",
     "text": [
      "mean smoothness\n",
      "Skew : 0.51\n"
     ]
    },
    {
     "data": {
      "image/png": "[encoded data removed]",
      "text/plain": [
       "<Figure size 288x288 with 1 Axes>"
      ]
     },
     "metadata": {
      "needs_background": "light"
     },
     "output_type": "display_data"
    },
    {
     "name": "stdout",
     "output_type": "stream",
     "text": [
      "mean compactness\n",
      "Skew : 1.09\n"
     ]
    },
    {
     "data": {
      "image/png": "[encoded data removed]",
      "text/plain": [
       "<Figure size 288x288 with 1 Axes>"
      ]
     },
     "metadata": {
      "needs_background": "light"
     },
     "output_type": "display_data"
    },
    {
     "name": "stdout",
     "output_type": "stream",
     "text": [
      "mean concavity\n",
      "Skew : 1.4\n"
     ]
    },
    {
     "data": {
      "image/png": "[encoded data removed]",
      "text/plain": [
       "<Figure size 288x288 with 1 Axes>"
      ]
     },
     "metadata": {
      "needs_background": "light"
     },
     "output_type": "display_data"
    },
    {
     "name": "stdout",
     "output_type": "stream",
     "text": [
      "mean concave points\n",
      "Skew : 1.18\n"
     ]
    },
    {
     "data": {
      "image/png": "[encoded data removed]",
      "text/plain": [
       "<Figure size 288x288 with 1 Axes>"
      ]
     },
     "metadata": {
      "needs_background": "light"
     },
     "output_type": "display_data"
    },
    {
     "name": "stdout",
     "output_type": "stream",
     "text": [
      "mean symmetry\n",
      "Skew : 0.74\n"
     ]
    },
    {
     "data": {
      "image/png": "[encoded data removed]",
      "text/plain": [
       "<Figure size 288x288 with 1 Axes>"
      ]
     },
     "metadata": {
      "needs_background": "light"
     },
     "output_type": "display_data"
    },
    {
     "name": "stdout",
     "output_type": "stream",
     "text": [
      "mean fractal dimension\n",
      "Skew : 1.4\n"
     ]
    },
    {
     "data": {
      "image/png": "[encoded data removed]",
      "text/plain": [
       "<Figure size 288x288 with 1 Axes>"
      ]
     },
     "metadata": {
      "needs_background": "light"
     },
     "output_type": "display_data"
    },
    {
     "name": "stdout",
     "output_type": "stream",
     "text": [
      "radius error\n",
      "Skew : 3.4\n"
     ]
    },
    {
     "data": {
      "image/png": "[encoded data removed]",
      "text/plain": [
       "<Figure size 288x288 with 1 Axes>"
      ]
     },
     "metadata": {
      "needs_background": "light"
     },
     "output_type": "display_data"
    },
    {
     "name": "stdout",
     "output_type": "stream",
     "text": [
      "texture error\n",
      "Skew : 1.73\n"
     ]
    },
    {
     "data": {
      "image/png": "[encoded data removed]",
      "text/plain": [
       "<Figure size 288x288 with 1 Axes>"
      ]
     },
     "metadata": {
      "needs_background": "light"
     },
     "output_type": "display_data"
    },
    {
     "name": "stdout",
     "output_type": "stream",
     "text": [
      "perimeter error\n",
      "Skew : 3.76\n"
     ]
    },
    {
     "data": {
      "image/png": "[encoded data removed]",
      "text/plain": [
       "<Figure size 288x288 with 1 Axes>"
      ]
     },
     "metadata": {
      "needs_background": "light"
     },
     "output_type": "display_data"
    },
    {
     "name": "stdout",
     "output_type": "stream",
     "text": [
      "area error\n",
      "Skew : 5.85\n"
     ]
    },
    {
     "data": {
      "image/png": "[encoded data removed]",
      "text/plain": [
       "<Figure size 288x288 with 1 Axes>"
      ]
     },
     "metadata": {
      "needs_background": "light"
     },
     "output_type": "display_data"
    },
    {
     "name": "stdout",
     "output_type": "stream",
     "text": [
      "smoothness error\n",
      "Skew : 2.57\n"
     ]
    },
    {
     "data": {
      "image/png": "[encoded data removed]",
      "text/plain": [
       "<Figure size 288x288 with 1 Axes>"
      ]
     },
     "metadata": {
      "needs_background": "light"
     },
     "output_type": "display_data"
    },
    {
     "name": "stdout",
     "output_type": "stream",
     "text": [
      "compactness error\n",
      "Skew : 1.96\n"
     ]
    },
    {
     "data": {
      "image/png": "[encoded data removed]",
      "text/plain": [
       "<Figure size 288x288 with 1 Axes>"
      ]
     },
     "metadata": {
      "needs_background": "light"
     },
     "output_type": "display_data"
    },
    {
     "name": "stdout",
     "output_type": "stream",
     "text": [
      "concavity error\n",
      "Skew : 5.17\n"
     ]
    },
    {
     "data": {
      "image/png": "[encoded data removed]",
      "text/plain": [
       "<Figure size 288x288 with 1 Axes>"
      ]
     },
     "metadata": {
      "needs_background": "light"
     },
     "output_type": "display_data"
    },
    {
     "name": "stdout",
     "output_type": "stream",
     "text": [
      "concave points error\n",
      "Skew : 1.61\n"
     ]
    },
    {
     "data": {
      "image/png": "[encoded data removed]",
      "text/plain": [
       "<Figure size 288x288 with 1 Axes>"
      ]
     },
     "metadata": {
      "needs_background": "light"
     },
     "output_type": "display_data"
    },
    {
     "name": "stdout",
     "output_type": "stream",
     "text": [
      "symmetry error\n",
      "Skew : 1.93\n"
     ]
    },
    {
     "data": {
      "image/png": "[encoded data removed]",
      "text/plain": [
       "<Figure size 288x288 with 1 Axes>"
      ]
     },
     "metadata": {
      "needs_background": "light"
     },
     "output_type": "display_data"
    },
    {
     "name": "stdout",
     "output_type": "stream",
     "text": [
      "fractal dimension error\n",
      "Skew : 4.05\n"
     ]
    },
    {
     "data": {
      "image/png": "[encoded data removed]",
      "text/plain": [
       "<Figure size 288x288 with 1 Axes>"
      ]
     },
     "metadata": {
      "needs_background": "light"
     },
     "output_type": "display_data"
    },
    {
     "name": "stdout",
     "output_type": "stream",
     "text": [
      "worst radius\n",
      "Skew : 1.12\n"
     ]
    },
    {
     "data": {
      "image/png": "[encoded data removed]",
      "text/plain": [
       "<Figure size 288x288 with 1 Axes>"
      ]
     },
     "metadata": {
      "needs_background": "light"
     },
     "output_type": "display_data"
    },
    {
     "name": "stdout",
     "output_type": "stream",
     "text": [
      "worst texture\n",
      "Skew : 0.49\n"
     ]
    },
    {
     "data": {
      "image/png": "[encoded data removed]",
      "text/plain": [
       "<Figure size 288x288 with 1 Axes>"
      ]
     },
     "metadata": {
      "needs_background": "light"
     },
     "output_type": "display_data"
    },
    {
     "name": "stdout",
     "output_type": "stream",
     "text": [
      "worst perimeter\n",
      "Skew : 1.13\n"
     ]
    },
    {
     "data": {
      "image/png": "[encoded data removed]",
      "text/plain": [
       "<Figure size 288x288 with 1 Axes>"
      ]
     },
     "metadata": {
      "needs_background": "light"
     },
     "output_type": "display_data"
    },
    {
     "name": "stdout",
     "output_type": "stream",
     "text": [
      "worst area\n",
      "Skew : 1.91\n"
     ]
    },
    {
     "data": {
      "image/png": "[encoded data removed]",
      "text/plain": [
       "<Figure size 288x288 with 1 Axes>"
      ]
     },
     "metadata": {
      "needs_background": "light"
     },
     "output_type": "display_data"
    },
    {
     "name": "stdout",
     "output_type": "stream",
     "text": [
      "worst smoothness\n",
      "Skew : 0.39\n"
     ]
    },
    {
     "data": {
      "image/png": "[encoded data removed]",
      "text/plain": [
       "<Figure size 288x288 with 1 Axes>"
      ]
     },
     "metadata": {
      "needs_background": "light"
     },
     "output_type": "display_data"
    },
    {
     "name": "stdout",
     "output_type": "stream",
     "text": [
      "worst compactness\n",
      "Skew : 1.34\n"
     ]
    },
    {
     "data": {
      "image/png": "[encoded data removed]",
      "text/plain": [
       "<Figure size 288x288 with 1 Axes>"
      ]
     },
     "metadata": {
      "needs_background": "light"
     },
     "output_type": "display_data"
    },
    {
     "name": "stdout",
     "output_type": "stream",
     "text": [
      "worst concavity\n",
      "Skew : 1.11\n"
     ]
    },
    {
     "data": {
      "image/png": "[encoded data removed]",
      "text/plain": [
       "<Figure size 288x288 with 1 Axes>"
      ]
     },
     "metadata": {
      "needs_background": "light"
     },
     "output_type": "display_data"
    },
    {
     "name": "stdout",
     "output_type": "stream",
     "text": [
      "worst concave points\n",
      "Skew : 0.51\n"
     ]
    },
    {
     "data": {
      "image/png": "[encoded data removed]",
      "text/plain": [
       "<Figure size 288x288 with 1 Axes>"
      ]
     },
     "metadata": {
      "needs_background": "light"
     },
     "output_type": "display_data"
    },
    {
     "name": "stdout",
     "output_type": "stream",
     "text": [
      "worst symmetry\n",
      "Skew : 1.48\n"
     ]
    },
    {
     "data": {
      "image/png": "[encoded data removed]",
      "text/plain": [
       "<Figure size 288x288 with 1 Axes>"
      ]
     },
     "metadata": {
      "needs_background": "light"
     },
     "output_type": "display_data"
    },
    {
     "name": "stdout",
     "output_type": "stream",
     "text": [
      "worst fractal dimension\n",
      "Skew : 1.31\n"
     ]
    },
    {
     "data": {
      "image/png": "[encoded data removed]",
      "text/plain": [
       "<Figure size 288x288 with 1 Axes>"
      ]
     },
     "metadata": {
      "needs_background": "light"
     },
     "output_type": "display_data"
    }
   ],
   "source": [
    "import matplotlib.pyplot as plt\n",
    "num_cols = list(X_train.select_dtypes(np.number).columns)\n",
    "\n",
    "for col in num_cols:\n",
    "    print(col)\n",
    "    print('Skew :',round(X_train[col].skew(),2))\n",
    "    plt.figure(figsize = (4,4))\n",
    "    X_train[col].plot.hist(xlabel = col, density = True)\n",
    "    plt.show()"
   ]
  },
  {
   "cell_type": "code",
   "execution_count": 20,
   "metadata": {},
   "outputs": [],
   "source": [
    "#We can see from our histograms showing skew that we have a good number of features that are highly skewed. I believe normaization\n",
    "#is needed "
   ]
  },
  {
   "cell_type": "markdown",
   "metadata": {},
   "source": [
    "### Check for Non-linearity (plot or plots)"
   ]
  },
  {
   "cell_type": "markdown",
   "metadata": {},
   "source": [
    "Depending on what your downstream analysis will be, checking for non-linearities is important. For example, PCA is a linear dimensionality reduction technique. Therefore, it does not retain non-linear relationships, which could be informative in a downstream analysis using the PCs. Simplification, in this case, can be a good thing, since complex, non-linear relationships may simply go away with additional data."
   ]
  },
  {
   "cell_type": "code",
   "execution_count": 21,
   "metadata": {},
   "outputs": [],
   "source": [
    "#This was code for a scatterplot of each feature with the Pearson R that I was trying to use\n",
    "#This code takes a very long time to run so it is not very effient. I will use a heatmap to check linearity instead. \n",
    "\n",
    "# code here\n",
    "# from scipy.stats import pearsonr\n",
    "# def corrfunc(x, y, **kws):\n",
    "#     (r, p) = pearsonr(x, y)\n",
    "#     ax = plt.gca()\n",
    "#     ax.annotate(\"r = {:.2f} \".format(r),\n",
    "#                 xy=(.1, .9), xycoords=ax.transAxes)\n",
    "#     ax.annotate(\"p = {:.3f}\".format(p),\n",
    "#                 xy=(.4, .9), xycoords=ax.transAxes)\n",
    "# sns.pairplot(Xtrain[num_cols])\n",
    "# graph = sns.pairplot(Xtrain)\n",
    "# graph.map(corrfunc)"
   ]
  },
  {
   "cell_type": "code",
   "execution_count": 22,
   "metadata": {},
   "outputs": [
    {
     "data": {
      "text/plain": [
       "<AxesSubplot:>"
      ]
     },
     "execution_count": 22,
     "metadata": {},
     "output_type": "execute_result"
    },
    {
     "data": {
      "image/png": "[encoded data removed]",
      "text/plain": [
       "<Figure size 432x288 with 2 Axes>"
      ]
     },
     "metadata": {
      "needs_background": "light"
     },
     "output_type": "display_data"
    }
   ],
   "source": [
    "sns.heatmap(Xtrain.corr())"
   ]
  },
  {
   "cell_type": "markdown",
   "metadata": {},
   "source": [
    "Explain findings here: From what our heatmap tells us, we can see that there are intense areas of high positive and negative corrlation. However, we do see these reds/light purples where our correlation is low/nonexistant showing we do have nonlinear features. Each plot looks like there is some natural variability unlike what we saw with a feature like \"cylnders\" in the cars dataset."
   ]
  },
  {
   "cell_type": "markdown",
   "metadata": {},
   "source": [
    "### Check for High Correlations and Drop Redundancies (e.g. x >= R=.85))"
   ]
  },
  {
   "cell_type": "code",
   "execution_count": 23,
   "metadata": {},
   "outputs": [
    {
     "name": "stdout",
     "output_type": "stream",
     "text": [
      "                         mean radius  mean texture  mean perimeter  mean area  \\\n",
      "mean radius                 1.000000      0.306881        0.997850   0.986609   \n",
      "mean texture                0.306881      1.000000        0.313124   0.300314   \n",
      "mean perimeter              0.997850      0.313124        1.000000   0.985985   \n",
      "mean area                   0.986609      0.300314        0.985985   1.000000   \n",
      "mean smoothness             0.173051      0.009475        0.210092   0.180709   \n",
      "mean compactness            0.477986      0.229954        0.529721   0.471296   \n",
      "mean concavity              0.647311      0.282160        0.688251   0.659793   \n",
      "mean concave points         0.812377      0.286231        0.842081   0.814273   \n",
      "mean symmetry               0.150386      0.108045        0.185885   0.152679   \n",
      "mean fractal dimension      0.335575      0.079010        0.286307   0.305321   \n",
      "radius error                0.666954      0.249347        0.680739   0.722728   \n",
      "texture error               0.092185      0.355512        0.081127   0.059001   \n",
      "perimeter error             0.656071      0.256270        0.676192   0.710713   \n",
      "area error                  0.719478      0.229760        0.729937   0.788217   \n",
      "smoothness error            0.200747      0.011832        0.180747   0.142247   \n",
      "compactness error           0.159568      0.179560        0.204700   0.170306   \n",
      "concavity error             0.147813      0.127708        0.181934   0.166429   \n",
      "concave points error        0.335335      0.180879        0.368587   0.334764   \n",
      "symmetry error              0.093306      0.003095        0.074067   0.061512   \n",
      "fractal dimension error     0.075575      0.033886        0.039047   0.049310   \n",
      "worst radius                0.969134      0.332908        0.969620   0.960519   \n",
      "worst texture               0.287590      0.909718        0.294406   0.274861   \n",
      "worst perimeter             0.963536      0.340226        0.969674   0.955701   \n",
      "worst area                  0.941849      0.318693        0.943283   0.959723   \n",
      "worst smoothness            0.121926      0.093301        0.153170   0.127772   \n",
      "worst compactness           0.386325      0.274007        0.430426   0.364068   \n",
      "worst concavity             0.496800      0.282771        0.535560   0.484949   \n",
      "worst concave points        0.722309      0.299703        0.751413   0.700435   \n",
      "worst symmetry              0.168092      0.122984        0.191948   0.144752   \n",
      "worst fractal dimension     0.024337      0.102868        0.020731   0.026035   \n",
      "\n",
      "                         mean smoothness  mean compactness  mean concavity  \\\n",
      "mean radius                     0.173051          0.477986        0.647311   \n",
      "mean texture                    0.009475          0.229954        0.282160   \n",
      "mean perimeter                  0.210092          0.529721        0.688251   \n",
      "mean area                       0.180709          0.471296        0.659793   \n",
      "mean smoothness                 1.000000          0.672342        0.536920   \n",
      "mean compactness                0.672342          1.000000        0.877467   \n",
      "mean concavity                  0.536920          0.877467        1.000000   \n",
      "mean concave points             0.564538          0.825932        0.914671   \n",
      "mean symmetry                   0.539744          0.620483        0.519030   \n",
      "mean fractal dimension          0.577171          0.569638        0.349280   \n",
      "radius error                    0.298105          0.482867        0.615554   \n",
      "texture error                   0.071550          0.065216        0.093922   \n",
      "perimeter error                 0.291915          0.534119        0.642794   \n",
      "area error                      0.249452          0.435444        0.597401   \n",
      "smoothness error                0.311582          0.159415        0.127219   \n",
      "compactness error               0.303096          0.724415        0.655682   \n",
      "concavity error                 0.246932          0.554362        0.683196   \n",
      "concave points error            0.373731          0.649575        0.680136   \n",
      "symmetry error                  0.166833          0.226999        0.192412   \n",
      "fractal dimension error         0.260320          0.493149        0.443497   \n",
      "worst radius                    0.223284          0.514854        0.665091   \n",
      "worst texture                   0.075452          0.247127        0.289986   \n",
      "worst perimeter                 0.251658          0.573716        0.710338   \n",
      "worst area                      0.219265          0.493183        0.659259   \n",
      "worst smoothness                0.808290          0.572021        0.457626   \n",
      "worst compactness               0.492527          0.867774        0.751516   \n",
      "worst concavity                 0.458749          0.813566        0.884079   \n",
      "worst concave points            0.526387          0.817321        0.855087   \n",
      "worst symmetry                  0.385244          0.506480        0.416326   \n",
      "worst fractal dimension         0.521392          0.691960        0.519451   \n",
      "\n",
      "                         mean concave points  mean symmetry  \\\n",
      "mean radius                         0.812377       0.150386   \n",
      "mean texture                        0.286231       0.108045   \n",
      "mean perimeter                      0.842081       0.185885   \n",
      "mean area                           0.814273       0.152679   \n",
      "mean smoothness                     0.564538       0.539744   \n",
      "mean compactness                    0.825932       0.620483   \n",
      "mean concavity                      0.914671       0.519030   \n",
      "mean concave points                 1.000000       0.476735   \n",
      "mean symmetry                       0.476735       1.000000   \n",
      "mean fractal dimension              0.160184       0.482673   \n",
      "radius error                        0.684833       0.292071   \n",
      "texture error                       0.031771       0.176502   \n",
      "perimeter error                     0.694657       0.305440   \n",
      "area error                          0.675184       0.217612   \n",
      "smoothness error                    0.047770       0.162629   \n",
      "compactness error                   0.458476       0.440439   \n",
      "concavity error                     0.413601       0.351501   \n",
      "concave points error                0.596006       0.415884   \n",
      "symmetry error                      0.107712       0.432726   \n",
      "fractal dimension error             0.228505       0.341347   \n",
      "worst radius                        0.827695       0.192004   \n",
      "worst texture                       0.300338       0.138865   \n",
      "worst perimeter                     0.855666       0.229285   \n",
      "worst area                          0.811102       0.183576   \n",
      "worst smoothness                    0.467630       0.416854   \n",
      "worst compactness                   0.664415       0.508593   \n",
      "worst concavity                     0.748041       0.461163   \n",
      "worst concave points                0.910680       0.464676   \n",
      "worst symmetry                      0.391108       0.699251   \n",
      "worst fractal dimension             0.363804       0.476875   \n",
      "\n",
      "                         mean fractal dimension  ...  worst radius  \\\n",
      "mean radius                            0.335575  ...      0.969134   \n",
      "mean texture                           0.079010  ...      0.332908   \n",
      "mean perimeter                         0.286307  ...      0.969620   \n",
      "mean area                              0.305321  ...      0.960519   \n",
      "mean smoothness                        0.577171  ...      0.223284   \n",
      "mean compactness                       0.569638  ...      0.514854   \n",
      "mean concavity                         0.349280  ...      0.665091   \n",
      "mean concave points                    0.160184  ...      0.827695   \n",
      "mean symmetry                          0.482673  ...      0.192004   \n",
      "mean fractal dimension                 1.000000  ...      0.271858   \n",
      "radius error                           0.008286  ...      0.698484   \n",
      "texture error                          0.182955  ...      0.106414   \n",
      "perimeter error                        0.030467  ...      0.676239   \n",
      "area error                             0.096313  ...      0.735075   \n",
      "smoothness error                       0.397514  ...      0.212018   \n",
      "compactness error                      0.563875  ...      0.161586   \n",
      "concavity error                        0.469671  ...      0.143371   \n",
      "concave points error                   0.371233  ...      0.322621   \n",
      "symmetry error                         0.322451  ...      0.118192   \n",
      "fractal dimension error                0.685384  ...      0.068441   \n",
      "worst radius                           0.271858  ...      1.000000   \n",
      "worst texture                          0.053244  ...      0.348811   \n",
      "worst perimeter                        0.221453  ...      0.993315   \n",
      "worst area                             0.246204  ...      0.983458   \n",
      "worst smoothness                       0.495491  ...      0.223984   \n",
      "worst compactness                      0.467774  ...      0.455126   \n",
      "worst concavity                        0.364380  ...      0.550693   \n",
      "worst concave points                   0.186256  ...      0.774667   \n",
      "worst symmetry                         0.317793  ...      0.251202   \n",
      "worst fractal dimension                0.784537  ...      0.067509   \n",
      "\n",
      "                         worst texture  worst perimeter  worst area  \\\n",
      "mean radius                   0.287590         0.963536    0.941849   \n",
      "mean texture                  0.909718         0.340226    0.318693   \n",
      "mean perimeter                0.294406         0.969674    0.943283   \n",
      "mean area                     0.274861         0.955701    0.959723   \n",
      "mean smoothness               0.075452         0.251658    0.219265   \n",
      "mean compactness              0.247127         0.573716    0.493183   \n",
      "mean concavity                0.289986         0.710338    0.659259   \n",
      "mean concave points           0.300338         0.855666    0.811102   \n",
      "mean symmetry                 0.138865         0.229285    0.183576   \n",
      "mean fractal dimension        0.053244         0.221453    0.246204   \n",
      "radius error                  0.173290         0.704374    0.737451   \n",
      "texture error                 0.382140         0.096240    0.077481   \n",
      "perimeter error               0.179339         0.701606    0.712575   \n",
      "area error                    0.170120         0.740394    0.793332   \n",
      "smoothness error              0.071371         0.197928    0.160582   \n",
      "compactness error             0.128516         0.221740    0.162821   \n",
      "concavity error               0.083846         0.185580    0.151578   \n",
      "concave points error          0.101106         0.363451    0.312553   \n",
      "symmetry error                0.082073         0.096441    0.101411   \n",
      "fractal dimension error       0.023342         0.030290    0.048782   \n",
      "worst radius                  0.348811         0.993315    0.983458   \n",
      "worst texture                 1.000000         0.356645    0.329206   \n",
      "worst perimeter               0.356645         1.000000    0.976979   \n",
      "worst area                    0.329206         0.976979    1.000000   \n",
      "worst smoothness              0.246010         0.246929    0.219991   \n",
      "worst compactness             0.359993         0.516052    0.420984   \n",
      "worst concavity               0.357944         0.601484    0.525181   \n",
      "worst concave points          0.379846         0.807392    0.737998   \n",
      "worst symmetry                0.257779         0.278571    0.214223   \n",
      "worst fractal dimension       0.204354         0.119534    0.056464   \n",
      "\n",
      "                         worst smoothness  worst compactness  worst concavity  \\\n",
      "mean radius                      0.121926           0.386325         0.496800   \n",
      "mean texture                     0.093301           0.274007         0.282771   \n",
      "mean perimeter                   0.153170           0.430426         0.535560   \n",
      "mean area                        0.127772           0.364068         0.484949   \n",
      "mean smoothness                  0.808290           0.492527         0.458749   \n",
      "mean compactness                 0.572021           0.867774         0.813566   \n",
      "mean concavity                   0.457626           0.751516         0.884079   \n",
      "mean concave points              0.467630           0.664415         0.748041   \n",
      "mean symmetry                    0.416854           0.508593         0.461163   \n",
      "mean fractal dimension           0.495491           0.467774         0.364380   \n",
      "radius error                     0.128270           0.265977         0.358559   \n",
      "texture error                    0.078671           0.081919         0.056237   \n",
      "perimeter error                  0.117556           0.326967         0.400763   \n",
      "area error                       0.119656           0.258693         0.358629   \n",
      "smoothness error                 0.303210           0.036083         0.034291   \n",
      "compactness error                0.208316           0.660836         0.623642   \n",
      "concavity error                  0.155556           0.466877         0.648730   \n",
      "concave points error             0.202373           0.452382         0.547205   \n",
      "symmetry error                   0.040900           0.076595         0.055568   \n",
      "fractal dimension error          0.147755           0.368864         0.371752   \n",
      "worst radius                     0.223984           0.455126         0.550693   \n",
      "worst texture                    0.246010           0.359993         0.357944   \n",
      "worst perimeter                  0.246929           0.516052         0.601484   \n",
      "worst area                       0.219991           0.420984         0.525181   \n",
      "worst smoothness                 1.000000           0.578744         0.527873   \n",
      "worst compactness                0.578744           1.000000         0.889382   \n",
      "worst concavity                  0.527873           0.889382         1.000000   \n",
      "worst concave points             0.567133           0.805459         0.853695   \n",
      "worst symmetry                   0.487854           0.626437         0.543907   \n",
      "worst fractal dimension          0.629511           0.804786         0.687676   \n",
      "\n",
      "                         worst concave points  worst symmetry  \\\n",
      "mean radius                          0.722309        0.168092   \n",
      "mean texture                         0.299703        0.122984   \n",
      "mean perimeter                       0.751413        0.191948   \n",
      "mean area                            0.700435        0.144752   \n",
      "mean smoothness                      0.526387        0.385244   \n",
      "mean compactness                     0.817321        0.506480   \n",
      "mean concavity                       0.855087        0.416326   \n",
      "mean concave points                  0.910680        0.391108   \n",
      "mean symmetry                        0.464676        0.699251   \n",
      "mean fractal dimension               0.186256        0.317793   \n",
      "radius error                         0.506284        0.079230   \n",
      "texture error                        0.099075        0.106067   \n",
      "perimeter error                      0.531147        0.092197   \n",
      "area error                           0.509274        0.058683   \n",
      "smoothness error                     0.078548        0.122417   \n",
      "compactness error                    0.454813        0.271377   \n",
      "concavity error                      0.412670        0.185719   \n",
      "concave points error                 0.578703        0.147846   \n",
      "symmetry error                       0.007361        0.374162   \n",
      "fractal dimension error              0.194206        0.102389   \n",
      "worst radius                         0.774667        0.251202   \n",
      "worst texture                        0.379846        0.257779   \n",
      "worst perimeter                      0.807392        0.278571   \n",
      "worst area                           0.737998        0.214223   \n",
      "worst smoothness                     0.567133        0.487854   \n",
      "worst compactness                    0.805459        0.626437   \n",
      "worst concavity                      0.853695        0.543907   \n",
      "worst concave points                 1.000000        0.530894   \n",
      "worst symmetry                       0.530894        1.000000   \n",
      "worst fractal dimension              0.518239        0.549520   \n",
      "\n",
      "                         worst fractal dimension  \n",
      "mean radius                             0.024337  \n",
      "mean texture                            0.102868  \n",
      "mean perimeter                          0.020731  \n",
      "mean area                               0.026035  \n",
      "mean smoothness                         0.521392  \n",
      "mean compactness                        0.691960  \n",
      "mean concavity                          0.519451  \n",
      "mean concave points                     0.363804  \n",
      "mean symmetry                           0.476875  \n",
      "mean fractal dimension                  0.784537  \n",
      "radius error                            0.027612  \n",
      "texture error                           0.030137  \n",
      "perimeter error                         0.070282  \n",
      "area error                              0.006488  \n",
      "smoothness error                        0.119047  \n",
      "compactness error                       0.578769  \n",
      "concavity error                         0.444394  \n",
      "concave points error                    0.328547  \n",
      "symmetry error                          0.093358  \n",
      "fractal dimension error                 0.578095  \n",
      "worst radius                            0.067509  \n",
      "worst texture                           0.204354  \n",
      "worst perimeter                         0.119534  \n",
      "worst area                              0.056464  \n",
      "worst smoothness                        0.629511  \n",
      "worst compactness                       0.804786  \n",
      "worst concavity                         0.687676  \n",
      "worst concave points                    0.518239  \n",
      "worst symmetry                          0.549520  \n",
      "worst fractal dimension                 1.000000  \n",
      "\n",
      "[30 rows x 30 columns]\n"
     ]
    }
   ],
   "source": [
    "cor_matrix = Xtrain.corr().abs()\n",
    "print(cor_matrix)"
   ]
  },
  {
   "cell_type": "code",
   "execution_count": 24,
   "metadata": {},
   "outputs": [
    {
     "data": {
      "text/html": [
       "<div>\n",
       "<style scoped>\n",
       "    .dataframe tbody tr th:only-of-type {\n",
       "        vertical-align: middle;\n",
       "    }\n",
       "\n",
       "    .dataframe tbody tr th {\n",
       "        vertical-align: top;\n",
       "    }\n",
       "\n",
       "    .dataframe thead th {\n",
       "        text-align: right;\n",
       "    }\n",
       "</style>\n",
       "<table border=\"1\" class=\"dataframe\">\n",
       "  <thead>\n",
       "    <tr style=\"text-align: right;\">\n",
       "      <th></th>\n",
       "      <th>mean radius</th>\n",
       "      <th>mean texture</th>\n",
       "      <th>mean smoothness</th>\n",
       "      <th>mean compactness</th>\n",
       "      <th>mean concave points</th>\n",
       "      <th>mean symmetry</th>\n",
       "      <th>mean fractal dimension</th>\n",
       "      <th>radius error</th>\n",
       "      <th>texture error</th>\n",
       "      <th>smoothness error</th>\n",
       "      <th>compactness error</th>\n",
       "      <th>concavity error</th>\n",
       "      <th>concave points error</th>\n",
       "      <th>symmetry error</th>\n",
       "      <th>fractal dimension error</th>\n",
       "      <th>worst smoothness</th>\n",
       "      <th>worst concavity</th>\n",
       "      <th>worst symmetry</th>\n",
       "      <th>worst fractal dimension</th>\n",
       "    </tr>\n",
       "  </thead>\n",
       "  <tbody>\n",
       "    <tr>\n",
       "      <th>68</th>\n",
       "      <td>9.029</td>\n",
       "      <td>17.33</td>\n",
       "      <td>0.10660</td>\n",
       "      <td>0.14130</td>\n",
       "      <td>0.04375</td>\n",
       "      <td>0.2111</td>\n",
       "      <td>0.08046</td>\n",
       "      <td>0.3274</td>\n",
       "      <td>1.1940</td>\n",
       "      <td>0.009549</td>\n",
       "      <td>0.086060</td>\n",
       "      <td>0.303800</td>\n",
       "      <td>0.033220</td>\n",
       "      <td>0.04197</td>\n",
       "      <td>0.009559</td>\n",
       "      <td>0.14820</td>\n",
       "      <td>1.25200</td>\n",
       "      <td>0.4228</td>\n",
       "      <td>0.11750</td>\n",
       "    </tr>\n",
       "    <tr>\n",
       "      <th>181</th>\n",
       "      <td>21.090</td>\n",
       "      <td>26.57</td>\n",
       "      <td>0.11410</td>\n",
       "      <td>0.28320</td>\n",
       "      <td>0.14960</td>\n",
       "      <td>0.2395</td>\n",
       "      <td>0.07398</td>\n",
       "      <td>0.6298</td>\n",
       "      <td>0.7629</td>\n",
       "      <td>0.004253</td>\n",
       "      <td>0.047590</td>\n",
       "      <td>0.038720</td>\n",
       "      <td>0.015670</td>\n",
       "      <td>0.01798</td>\n",
       "      <td>0.005295</td>\n",
       "      <td>0.14910</td>\n",
       "      <td>0.67800</td>\n",
       "      <td>0.4098</td>\n",
       "      <td>0.12840</td>\n",
       "    </tr>\n",
       "    <tr>\n",
       "      <th>63</th>\n",
       "      <td>9.173</td>\n",
       "      <td>13.86</td>\n",
       "      <td>0.07721</td>\n",
       "      <td>0.08751</td>\n",
       "      <td>0.02180</td>\n",
       "      <td>0.2341</td>\n",
       "      <td>0.06963</td>\n",
       "      <td>0.4098</td>\n",
       "      <td>2.2650</td>\n",
       "      <td>0.008738</td>\n",
       "      <td>0.039380</td>\n",
       "      <td>0.043120</td>\n",
       "      <td>0.015600</td>\n",
       "      <td>0.04192</td>\n",
       "      <td>0.005822</td>\n",
       "      <td>0.09836</td>\n",
       "      <td>0.13970</td>\n",
       "      <td>0.3282</td>\n",
       "      <td>0.08490</td>\n",
       "    </tr>\n",
       "    <tr>\n",
       "      <th>248</th>\n",
       "      <td>10.650</td>\n",
       "      <td>25.22</td>\n",
       "      <td>0.09657</td>\n",
       "      <td>0.07234</td>\n",
       "      <td>0.01615</td>\n",
       "      <td>0.1897</td>\n",
       "      <td>0.06329</td>\n",
       "      <td>0.2497</td>\n",
       "      <td>1.4930</td>\n",
       "      <td>0.007189</td>\n",
       "      <td>0.010350</td>\n",
       "      <td>0.010810</td>\n",
       "      <td>0.006245</td>\n",
       "      <td>0.02158</td>\n",
       "      <td>0.002619</td>\n",
       "      <td>0.14990</td>\n",
       "      <td>0.11250</td>\n",
       "      <td>0.3409</td>\n",
       "      <td>0.08147</td>\n",
       "    </tr>\n",
       "    <tr>\n",
       "      <th>60</th>\n",
       "      <td>10.170</td>\n",
       "      <td>14.88</td>\n",
       "      <td>0.11340</td>\n",
       "      <td>0.08061</td>\n",
       "      <td>0.01290</td>\n",
       "      <td>0.2743</td>\n",
       "      <td>0.06960</td>\n",
       "      <td>0.5158</td>\n",
       "      <td>1.4410</td>\n",
       "      <td>0.007514</td>\n",
       "      <td>0.010990</td>\n",
       "      <td>0.007665</td>\n",
       "      <td>0.008193</td>\n",
       "      <td>0.04183</td>\n",
       "      <td>0.005953</td>\n",
       "      <td>0.12750</td>\n",
       "      <td>0.02168</td>\n",
       "      <td>0.3557</td>\n",
       "      <td>0.08020</td>\n",
       "    </tr>\n",
       "    <tr>\n",
       "      <th>...</th>\n",
       "      <td>...</td>\n",
       "      <td>...</td>\n",
       "      <td>...</td>\n",
       "      <td>...</td>\n",
       "      <td>...</td>\n",
       "      <td>...</td>\n",
       "      <td>...</td>\n",
       "      <td>...</td>\n",
       "      <td>...</td>\n",
       "      <td>...</td>\n",
       "      <td>...</td>\n",
       "      <td>...</td>\n",
       "      <td>...</td>\n",
       "      <td>...</td>\n",
       "      <td>...</td>\n",
       "      <td>...</td>\n",
       "      <td>...</td>\n",
       "      <td>...</td>\n",
       "      <td>...</td>\n",
       "    </tr>\n",
       "    <tr>\n",
       "      <th>71</th>\n",
       "      <td>8.888</td>\n",
       "      <td>14.64</td>\n",
       "      <td>0.09783</td>\n",
       "      <td>0.15310</td>\n",
       "      <td>0.02872</td>\n",
       "      <td>0.1902</td>\n",
       "      <td>0.08980</td>\n",
       "      <td>0.5262</td>\n",
       "      <td>0.8522</td>\n",
       "      <td>0.017210</td>\n",
       "      <td>0.093680</td>\n",
       "      <td>0.056710</td>\n",
       "      <td>0.017660</td>\n",
       "      <td>0.02541</td>\n",
       "      <td>0.021930</td>\n",
       "      <td>0.12070</td>\n",
       "      <td>0.14340</td>\n",
       "      <td>0.2254</td>\n",
       "      <td>0.10840</td>\n",
       "    </tr>\n",
       "    <tr>\n",
       "      <th>106</th>\n",
       "      <td>11.640</td>\n",
       "      <td>18.33</td>\n",
       "      <td>0.11420</td>\n",
       "      <td>0.10170</td>\n",
       "      <td>0.03485</td>\n",
       "      <td>0.1801</td>\n",
       "      <td>0.06520</td>\n",
       "      <td>0.3060</td>\n",
       "      <td>1.6570</td>\n",
       "      <td>0.008540</td>\n",
       "      <td>0.023100</td>\n",
       "      <td>0.029450</td>\n",
       "      <td>0.013980</td>\n",
       "      <td>0.01565</td>\n",
       "      <td>0.003840</td>\n",
       "      <td>0.16880</td>\n",
       "      <td>0.28730</td>\n",
       "      <td>0.2806</td>\n",
       "      <td>0.09097</td>\n",
       "    </tr>\n",
       "    <tr>\n",
       "      <th>270</th>\n",
       "      <td>14.290</td>\n",
       "      <td>16.82</td>\n",
       "      <td>0.06429</td>\n",
       "      <td>0.02675</td>\n",
       "      <td>0.00625</td>\n",
       "      <td>0.1508</td>\n",
       "      <td>0.05376</td>\n",
       "      <td>0.1302</td>\n",
       "      <td>0.7198</td>\n",
       "      <td>0.003492</td>\n",
       "      <td>0.003710</td>\n",
       "      <td>0.004826</td>\n",
       "      <td>0.003608</td>\n",
       "      <td>0.01536</td>\n",
       "      <td>0.001381</td>\n",
       "      <td>0.08567</td>\n",
       "      <td>0.03866</td>\n",
       "      <td>0.2458</td>\n",
       "      <td>0.06120</td>\n",
       "    </tr>\n",
       "    <tr>\n",
       "      <th>435</th>\n",
       "      <td>13.980</td>\n",
       "      <td>19.62</td>\n",
       "      <td>0.10600</td>\n",
       "      <td>0.11330</td>\n",
       "      <td>0.06463</td>\n",
       "      <td>0.1669</td>\n",
       "      <td>0.06544</td>\n",
       "      <td>0.2208</td>\n",
       "      <td>0.9533</td>\n",
       "      <td>0.005314</td>\n",
       "      <td>0.017910</td>\n",
       "      <td>0.021850</td>\n",
       "      <td>0.009567</td>\n",
       "      <td>0.01223</td>\n",
       "      <td>0.002846</td>\n",
       "      <td>0.16130</td>\n",
       "      <td>0.40690</td>\n",
       "      <td>0.3179</td>\n",
       "      <td>0.10550</td>\n",
       "    </tr>\n",
       "    <tr>\n",
       "      <th>102</th>\n",
       "      <td>12.180</td>\n",
       "      <td>20.52</td>\n",
       "      <td>0.08013</td>\n",
       "      <td>0.04038</td>\n",
       "      <td>0.01770</td>\n",
       "      <td>0.1739</td>\n",
       "      <td>0.05677</td>\n",
       "      <td>0.1924</td>\n",
       "      <td>1.5710</td>\n",
       "      <td>0.005080</td>\n",
       "      <td>0.006098</td>\n",
       "      <td>0.010690</td>\n",
       "      <td>0.006797</td>\n",
       "      <td>0.01447</td>\n",
       "      <td>0.001532</td>\n",
       "      <td>0.11230</td>\n",
       "      <td>0.11450</td>\n",
       "      <td>0.2694</td>\n",
       "      <td>0.06878</td>\n",
       "    </tr>\n",
       "  </tbody>\n",
       "</table>\n",
       "<p>455 rows × 19 columns</p>\n",
       "</div>"
      ],
      "text/plain": [
       "     mean radius  mean texture  mean smoothness  mean compactness  \\\n",
       "68         9.029         17.33          0.10660           0.14130   \n",
       "181       21.090         26.57          0.11410           0.28320   \n",
       "63         9.173         13.86          0.07721           0.08751   \n",
       "248       10.650         25.22          0.09657           0.07234   \n",
       "60        10.170         14.88          0.11340           0.08061   \n",
       "..           ...           ...              ...               ...   \n",
       "71         8.888         14.64          0.09783           0.15310   \n",
       "106       11.640         18.33          0.11420           0.10170   \n",
       "270       14.290         16.82          0.06429           0.02675   \n",
       "435       13.980         19.62          0.10600           0.11330   \n",
       "102       12.180         20.52          0.08013           0.04038   \n",
       "\n",
       "     mean concave points  mean symmetry  mean fractal dimension  radius error  \\\n",
       "68               0.04375         0.2111                 0.08046        0.3274   \n",
       "181              0.14960         0.2395                 0.07398        0.6298   \n",
       "63               0.02180         0.2341                 0.06963        0.4098   \n",
       "248              0.01615         0.1897                 0.06329        0.2497   \n",
       "60               0.01290         0.2743                 0.06960        0.5158   \n",
       "..                   ...            ...                     ...           ...   \n",
       "71               0.02872         0.1902                 0.08980        0.5262   \n",
       "106              0.03485         0.1801                 0.06520        0.3060   \n",
       "270              0.00625         0.1508                 0.05376        0.1302   \n",
       "435              0.06463         0.1669                 0.06544        0.2208   \n",
       "102              0.01770         0.1739                 0.05677        0.1924   \n",
       "\n",
       "     texture error  smoothness error  compactness error  concavity error  \\\n",
       "68          1.1940          0.009549           0.086060         0.303800   \n",
       "181         0.7629          0.004253           0.047590         0.038720   \n",
       "63          2.2650          0.008738           0.039380         0.043120   \n",
       "248         1.4930          0.007189           0.010350         0.010810   \n",
       "60          1.4410          0.007514           0.010990         0.007665   \n",
       "..             ...               ...                ...              ...   \n",
       "71          0.8522          0.017210           0.093680         0.056710   \n",
       "106         1.6570          0.008540           0.023100         0.029450   \n",
       "270         0.7198          0.003492           0.003710         0.004826   \n",
       "435         0.9533          0.005314           0.017910         0.021850   \n",
       "102         1.5710          0.005080           0.006098         0.010690   \n",
       "\n",
       "     concave points error  symmetry error  fractal dimension error  \\\n",
       "68               0.033220         0.04197                 0.009559   \n",
       "181              0.015670         0.01798                 0.005295   \n",
       "63               0.015600         0.04192                 0.005822   \n",
       "248              0.006245         0.02158                 0.002619   \n",
       "60               0.008193         0.04183                 0.005953   \n",
       "..                    ...             ...                      ...   \n",
       "71               0.017660         0.02541                 0.021930   \n",
       "106              0.013980         0.01565                 0.003840   \n",
       "270              0.003608         0.01536                 0.001381   \n",
       "435              0.009567         0.01223                 0.002846   \n",
       "102              0.006797         0.01447                 0.001532   \n",
       "\n",
       "     worst smoothness  worst concavity  worst symmetry  \\\n",
       "68            0.14820          1.25200          0.4228   \n",
       "181           0.14910          0.67800          0.4098   \n",
       "63            0.09836          0.13970          0.3282   \n",
       "248           0.14990          0.11250          0.3409   \n",
       "60            0.12750          0.02168          0.3557   \n",
       "..                ...              ...             ...   \n",
       "71            0.12070          0.14340          0.2254   \n",
       "106           0.16880          0.28730          0.2806   \n",
       "270           0.08567          0.03866          0.2458   \n",
       "435           0.16130          0.40690          0.3179   \n",
       "102           0.11230          0.11450          0.2694   \n",
       "\n",
       "     worst fractal dimension  \n",
       "68                   0.11750  \n",
       "181                  0.12840  \n",
       "63                   0.08490  \n",
       "248                  0.08147  \n",
       "60                   0.08020  \n",
       "..                       ...  \n",
       "71                   0.10840  \n",
       "106                  0.09097  \n",
       "270                  0.06120  \n",
       "435                  0.10550  \n",
       "102                  0.06878  \n",
       "\n",
       "[455 rows x 19 columns]"
      ]
     },
     "execution_count": 24,
     "metadata": {},
     "output_type": "execute_result"
    }
   ],
   "source": [
    "\n",
    "from feature_engine.selection import DropCorrelatedFeatures\n",
    "\n",
    "rm_high_corrs = DropCorrelatedFeatures(variables=None, method='pearson', threshold=0.85)\n",
    "X_train_corr = rm_high_corrs.fit_transform(Xtrain)\n",
    "X_train_corr"
   ]
  },
  {
   "cell_type": "code",
   "execution_count": 70,
   "metadata": {},
   "outputs": [
    {
     "data": {
      "text/html": [
       "<div>\n",
       "<style scoped>\n",
       "    .dataframe tbody tr th:only-of-type {\n",
       "        vertical-align: middle;\n",
       "    }\n",
       "\n",
       "    .dataframe tbody tr th {\n",
       "        vertical-align: top;\n",
       "    }\n",
       "\n",
       "    .dataframe thead th {\n",
       "        text-align: right;\n",
       "    }\n",
       "</style>\n",
       "<table border=\"1\" class=\"dataframe\">\n",
       "  <thead>\n",
       "    <tr style=\"text-align: right;\">\n",
       "      <th></th>\n",
       "      <th>mean radius</th>\n",
       "      <th>mean texture</th>\n",
       "      <th>mean smoothness</th>\n",
       "      <th>mean compactness</th>\n",
       "      <th>mean concave points</th>\n",
       "      <th>mean symmetry</th>\n",
       "      <th>mean fractal dimension</th>\n",
       "      <th>radius error</th>\n",
       "      <th>texture error</th>\n",
       "      <th>smoothness error</th>\n",
       "      <th>compactness error</th>\n",
       "      <th>concavity error</th>\n",
       "      <th>concave points error</th>\n",
       "      <th>symmetry error</th>\n",
       "      <th>fractal dimension error</th>\n",
       "      <th>worst smoothness</th>\n",
       "      <th>worst concavity</th>\n",
       "      <th>worst symmetry</th>\n",
       "      <th>worst fractal dimension</th>\n",
       "    </tr>\n",
       "  </thead>\n",
       "  <tbody>\n",
       "    <tr>\n",
       "      <th>0</th>\n",
       "      <td>-0.352682</td>\n",
       "      <td>-0.027426</td>\n",
       "      <td>0.347392</td>\n",
       "      <td>0.266041</td>\n",
       "      <td>-0.049265</td>\n",
       "      <td>0.522273</td>\n",
       "      <td>0.338561</td>\n",
       "      <td>0.380928</td>\n",
       "      <td>-0.130577</td>\n",
       "      <td>0.239457</td>\n",
       "      <td>-0.183002</td>\n",
       "      <td>0.019206</td>\n",
       "      <td>-0.116093</td>\n",
       "      <td>-0.182085</td>\n",
       "      <td>0.219021</td>\n",
       "      <td>0.535640</td>\n",
       "      <td>0.196249</td>\n",
       "      <td>0.346946</td>\n",
       "      <td>0.445384</td>\n",
       "    </tr>\n",
       "    <tr>\n",
       "      <th>1</th>\n",
       "      <td>1.325030</td>\n",
       "      <td>0.594564</td>\n",
       "      <td>-0.357036</td>\n",
       "      <td>0.205255</td>\n",
       "      <td>1.033710</td>\n",
       "      <td>-0.840603</td>\n",
       "      <td>-1.403172</td>\n",
       "      <td>1.560013</td>\n",
       "      <td>-0.786649</td>\n",
       "      <td>-1.082702</td>\n",
       "      <td>-0.421670</td>\n",
       "      <td>-0.228904</td>\n",
       "      <td>0.475389</td>\n",
       "      <td>-1.044646</td>\n",
       "      <td>-1.264724</td>\n",
       "      <td>-0.490526</td>\n",
       "      <td>0.204691</td>\n",
       "      <td>-0.519551</td>\n",
       "      <td>-1.231140</td>\n",
       "    </tr>\n",
       "    <tr>\n",
       "      <th>2</th>\n",
       "      <td>0.556255</td>\n",
       "      <td>0.184433</td>\n",
       "      <td>0.988884</td>\n",
       "      <td>0.584876</td>\n",
       "      <td>1.059468</td>\n",
       "      <td>0.542905</td>\n",
       "      <td>-0.663055</td>\n",
       "      <td>0.737278</td>\n",
       "      <td>-0.821714</td>\n",
       "      <td>-0.080378</td>\n",
       "      <td>-0.588927</td>\n",
       "      <td>0.079713</td>\n",
       "      <td>-0.009060</td>\n",
       "      <td>-1.017216</td>\n",
       "      <td>-0.571200</td>\n",
       "      <td>1.014021</td>\n",
       "      <td>0.718882</td>\n",
       "      <td>0.040338</td>\n",
       "      <td>-0.022114</td>\n",
       "    </tr>\n",
       "    <tr>\n",
       "      <th>3</th>\n",
       "      <td>-0.377865</td>\n",
       "      <td>-0.260428</td>\n",
       "      <td>0.740682</td>\n",
       "      <td>0.746053</td>\n",
       "      <td>-0.435944</td>\n",
       "      <td>0.110736</td>\n",
       "      <td>1.234801</td>\n",
       "      <td>-1.323960</td>\n",
       "      <td>0.693232</td>\n",
       "      <td>1.240836</td>\n",
       "      <td>0.774540</td>\n",
       "      <td>0.957867</td>\n",
       "      <td>0.127512</td>\n",
       "      <td>0.479630</td>\n",
       "      <td>1.277995</td>\n",
       "      <td>0.633892</td>\n",
       "      <td>0.050020</td>\n",
       "      <td>-0.509013</td>\n",
       "      <td>0.774123</td>\n",
       "    </tr>\n",
       "    <tr>\n",
       "      <th>4</th>\n",
       "      <td>-0.705780</td>\n",
       "      <td>-1.194986</td>\n",
       "      <td>0.360740</td>\n",
       "      <td>0.391083</td>\n",
       "      <td>-0.520924</td>\n",
       "      <td>0.137112</td>\n",
       "      <td>0.883581</td>\n",
       "      <td>-0.366284</td>\n",
       "      <td>1.151741</td>\n",
       "      <td>1.691570</td>\n",
       "      <td>1.153093</td>\n",
       "      <td>1.175785</td>\n",
       "      <td>0.669940</td>\n",
       "      <td>-0.075132</td>\n",
       "      <td>1.115216</td>\n",
       "      <td>0.194110</td>\n",
       "      <td>-0.317662</td>\n",
       "      <td>-1.017277</td>\n",
       "      <td>0.057290</td>\n",
       "    </tr>\n",
       "    <tr>\n",
       "      <th>...</th>\n",
       "      <td>...</td>\n",
       "      <td>...</td>\n",
       "      <td>...</td>\n",
       "      <td>...</td>\n",
       "      <td>...</td>\n",
       "      <td>...</td>\n",
       "      <td>...</td>\n",
       "      <td>...</td>\n",
       "      <td>...</td>\n",
       "      <td>...</td>\n",
       "      <td>...</td>\n",
       "      <td>...</td>\n",
       "      <td>...</td>\n",
       "      <td>...</td>\n",
       "      <td>...</td>\n",
       "      <td>...</td>\n",
       "      <td>...</td>\n",
       "      <td>...</td>\n",
       "      <td>...</td>\n",
       "    </tr>\n",
       "    <tr>\n",
       "      <th>109</th>\n",
       "      <td>0.335312</td>\n",
       "      <td>-0.481758</td>\n",
       "      <td>-0.646191</td>\n",
       "      <td>-0.688149</td>\n",
       "      <td>-0.439211</td>\n",
       "      <td>-1.688341</td>\n",
       "      <td>-1.666436</td>\n",
       "      <td>-0.867164</td>\n",
       "      <td>-0.221798</td>\n",
       "      <td>-1.720705</td>\n",
       "      <td>-0.683884</td>\n",
       "      <td>-0.526940</td>\n",
       "      <td>-1.037197</td>\n",
       "      <td>-1.391358</td>\n",
       "      <td>-1.780785</td>\n",
       "      <td>-0.733842</td>\n",
       "      <td>0.069090</td>\n",
       "      <td>-0.727473</td>\n",
       "      <td>-1.224078</td>\n",
       "    </tr>\n",
       "    <tr>\n",
       "      <th>110</th>\n",
       "      <td>0.709321</td>\n",
       "      <td>0.224203</td>\n",
       "      <td>-0.235285</td>\n",
       "      <td>-0.224142</td>\n",
       "      <td>0.757247</td>\n",
       "      <td>0.061354</td>\n",
       "      <td>-1.575340</td>\n",
       "      <td>1.488197</td>\n",
       "      <td>-0.197479</td>\n",
       "      <td>1.432478</td>\n",
       "      <td>0.060541</td>\n",
       "      <td>0.419572</td>\n",
       "      <td>1.109693</td>\n",
       "      <td>-0.657403</td>\n",
       "      <td>-1.021251</td>\n",
       "      <td>0.834407</td>\n",
       "      <td>0.278248</td>\n",
       "      <td>-0.316053</td>\n",
       "      <td>-1.440527</td>\n",
       "    </tr>\n",
       "    <tr>\n",
       "      <th>111</th>\n",
       "      <td>-0.713840</td>\n",
       "      <td>-1.040460</td>\n",
       "      <td>0.462494</td>\n",
       "      <td>-0.381779</td>\n",
       "      <td>-0.383400</td>\n",
       "      <td>0.375033</td>\n",
       "      <td>0.017419</td>\n",
       "      <td>-0.545454</td>\n",
       "      <td>-0.144768</td>\n",
       "      <td>0.113621</td>\n",
       "      <td>-0.864296</td>\n",
       "      <td>-0.329567</td>\n",
       "      <td>-0.176749</td>\n",
       "      <td>-0.387416</td>\n",
       "      <td>-0.318771</td>\n",
       "      <td>0.381558</td>\n",
       "      <td>-0.313093</td>\n",
       "      <td>-0.288133</td>\n",
       "      <td>-0.173235</td>\n",
       "    </tr>\n",
       "    <tr>\n",
       "      <th>112</th>\n",
       "      <td>0.214690</td>\n",
       "      <td>1.805130</td>\n",
       "      <td>-0.987541</td>\n",
       "      <td>0.226386</td>\n",
       "      <td>0.147528</td>\n",
       "      <td>-2.051026</td>\n",
       "      <td>-0.047748</td>\n",
       "      <td>0.033507</td>\n",
       "      <td>1.775018</td>\n",
       "      <td>-0.048632</td>\n",
       "      <td>0.513750</td>\n",
       "      <td>0.573784</td>\n",
       "      <td>-0.166897</td>\n",
       "      <td>-1.586178</td>\n",
       "      <td>0.220818</td>\n",
       "      <td>-1.034379</td>\n",
       "      <td>0.394814</td>\n",
       "      <td>-2.199622</td>\n",
       "      <td>-0.182859</td>\n",
       "    </tr>\n",
       "    <tr>\n",
       "      <th>113</th>\n",
       "      <td>1.640673</td>\n",
       "      <td>2.301394</td>\n",
       "      <td>-0.009905</td>\n",
       "      <td>0.435826</td>\n",
       "      <td>1.160227</td>\n",
       "      <td>-0.050699</td>\n",
       "      <td>-0.917346</td>\n",
       "      <td>1.969870</td>\n",
       "      <td>0.939654</td>\n",
       "      <td>-1.013946</td>\n",
       "      <td>-0.595092</td>\n",
       "      <td>-0.305912</td>\n",
       "      <td>-0.333931</td>\n",
       "      <td>-1.092540</td>\n",
       "      <td>-0.706514</td>\n",
       "      <td>0.431882</td>\n",
       "      <td>0.569790</td>\n",
       "      <td>0.096102</td>\n",
       "      <td>0.113842</td>\n",
       "    </tr>\n",
       "  </tbody>\n",
       "</table>\n",
       "<p>114 rows × 19 columns</p>\n",
       "</div>"
      ],
      "text/plain": [
       "     mean radius  mean texture  mean smoothness  mean compactness  \\\n",
       "0      -0.352682     -0.027426         0.347392          0.266041   \n",
       "1       1.325030      0.594564        -0.357036          0.205255   \n",
       "2       0.556255      0.184433         0.988884          0.584876   \n",
       "3      -0.377865     -0.260428         0.740682          0.746053   \n",
       "4      -0.705780     -1.194986         0.360740          0.391083   \n",
       "..           ...           ...              ...               ...   \n",
       "109     0.335312     -0.481758        -0.646191         -0.688149   \n",
       "110     0.709321      0.224203        -0.235285         -0.224142   \n",
       "111    -0.713840     -1.040460         0.462494         -0.381779   \n",
       "112     0.214690      1.805130        -0.987541          0.226386   \n",
       "113     1.640673      2.301394        -0.009905          0.435826   \n",
       "\n",
       "     mean concave points  mean symmetry  mean fractal dimension  radius error  \\\n",
       "0              -0.049265       0.522273                0.338561      0.380928   \n",
       "1               1.033710      -0.840603               -1.403172      1.560013   \n",
       "2               1.059468       0.542905               -0.663055      0.737278   \n",
       "3              -0.435944       0.110736                1.234801     -1.323960   \n",
       "4              -0.520924       0.137112                0.883581     -0.366284   \n",
       "..                   ...            ...                     ...           ...   \n",
       "109            -0.439211      -1.688341               -1.666436     -0.867164   \n",
       "110             0.757247       0.061354               -1.575340      1.488197   \n",
       "111            -0.383400       0.375033                0.017419     -0.545454   \n",
       "112             0.147528      -2.051026               -0.047748      0.033507   \n",
       "113             1.160227      -0.050699               -0.917346      1.969870   \n",
       "\n",
       "     texture error  smoothness error  compactness error  concavity error  \\\n",
       "0        -0.130577          0.239457          -0.183002         0.019206   \n",
       "1        -0.786649         -1.082702          -0.421670        -0.228904   \n",
       "2        -0.821714         -0.080378          -0.588927         0.079713   \n",
       "3         0.693232          1.240836           0.774540         0.957867   \n",
       "4         1.151741          1.691570           1.153093         1.175785   \n",
       "..             ...               ...                ...              ...   \n",
       "109      -0.221798         -1.720705          -0.683884        -0.526940   \n",
       "110      -0.197479          1.432478           0.060541         0.419572   \n",
       "111      -0.144768          0.113621          -0.864296        -0.329567   \n",
       "112       1.775018         -0.048632           0.513750         0.573784   \n",
       "113       0.939654         -1.013946          -0.595092        -0.305912   \n",
       "\n",
       "     concave points error  symmetry error  fractal dimension error  \\\n",
       "0               -0.116093       -0.182085                 0.219021   \n",
       "1                0.475389       -1.044646                -1.264724   \n",
       "2               -0.009060       -1.017216                -0.571200   \n",
       "3                0.127512        0.479630                 1.277995   \n",
       "4                0.669940       -0.075132                 1.115216   \n",
       "..                    ...             ...                      ...   \n",
       "109             -1.037197       -1.391358                -1.780785   \n",
       "110              1.109693       -0.657403                -1.021251   \n",
       "111             -0.176749       -0.387416                -0.318771   \n",
       "112             -0.166897       -1.586178                 0.220818   \n",
       "113             -0.333931       -1.092540                -0.706514   \n",
       "\n",
       "     worst smoothness  worst concavity  worst symmetry  \\\n",
       "0            0.535640         0.196249        0.346946   \n",
       "1           -0.490526         0.204691       -0.519551   \n",
       "2            1.014021         0.718882        0.040338   \n",
       "3            0.633892         0.050020       -0.509013   \n",
       "4            0.194110        -0.317662       -1.017277   \n",
       "..                ...              ...             ...   \n",
       "109         -0.733842         0.069090       -0.727473   \n",
       "110          0.834407         0.278248       -0.316053   \n",
       "111          0.381558        -0.313093       -0.288133   \n",
       "112         -1.034379         0.394814       -2.199622   \n",
       "113          0.431882         0.569790        0.096102   \n",
       "\n",
       "     worst fractal dimension  \n",
       "0                   0.445384  \n",
       "1                  -1.231140  \n",
       "2                  -0.022114  \n",
       "3                   0.774123  \n",
       "4                   0.057290  \n",
       "..                       ...  \n",
       "109                -1.224078  \n",
       "110                -1.440527  \n",
       "111                -0.173235  \n",
       "112                -0.182859  \n",
       "113                 0.113842  \n",
       "\n",
       "[114 rows x 19 columns]"
      ]
     },
     "execution_count": 70,
     "metadata": {},
     "output_type": "execute_result"
    }
   ],
   "source": [
    "X_test_corr = rm_high_corrs.transform(X_test)\n",
    "X_test_data = power.transform(X_test_corr)\n",
    "X_test_final = pd.DataFrame(X_test_data, columns = X_test_corr.columns)\n",
    "X_test_final"
   ]
  },
  {
   "cell_type": "markdown",
   "metadata": {},
   "source": [
    "### Correct  Skew? Explain Why or Why Not"
   ]
  },
  {
   "cell_type": "code",
   "execution_count": 25,
   "metadata": {},
   "outputs": [
    {
     "data": {
      "text/html": [
       "<div>\n",
       "<style scoped>\n",
       "    .dataframe tbody tr th:only-of-type {\n",
       "        vertical-align: middle;\n",
       "    }\n",
       "\n",
       "    .dataframe tbody tr th {\n",
       "        vertical-align: top;\n",
       "    }\n",
       "\n",
       "    .dataframe thead th {\n",
       "        text-align: right;\n",
       "    }\n",
       "</style>\n",
       "<table border=\"1\" class=\"dataframe\">\n",
       "  <thead>\n",
       "    <tr style=\"text-align: right;\">\n",
       "      <th></th>\n",
       "      <th>mean radius</th>\n",
       "      <th>mean texture</th>\n",
       "      <th>mean smoothness</th>\n",
       "      <th>mean compactness</th>\n",
       "      <th>mean concave points</th>\n",
       "      <th>mean symmetry</th>\n",
       "      <th>mean fractal dimension</th>\n",
       "      <th>radius error</th>\n",
       "      <th>texture error</th>\n",
       "      <th>smoothness error</th>\n",
       "      <th>compactness error</th>\n",
       "      <th>concavity error</th>\n",
       "      <th>concave points error</th>\n",
       "      <th>symmetry error</th>\n",
       "      <th>fractal dimension error</th>\n",
       "      <th>worst smoothness</th>\n",
       "      <th>worst concavity</th>\n",
       "      <th>worst symmetry</th>\n",
       "      <th>worst fractal dimension</th>\n",
       "    </tr>\n",
       "  </thead>\n",
       "  <tbody>\n",
       "  </tbody>\n",
       "</table>\n",
       "</div>"
      ],
      "text/plain": [
       "Empty DataFrame\n",
       "Columns: [mean radius, mean texture, mean smoothness, mean compactness, mean concave points, mean symmetry, mean fractal dimension, radius error, texture error, smoothness error, compactness error, concavity error, concave points error, symmetry error, fractal dimension error, worst smoothness, worst concavity, worst symmetry, worst fractal dimension]\n",
       "Index: []"
      ]
     },
     "execution_count": 25,
     "metadata": {},
     "output_type": "execute_result"
    }
   ],
   "source": [
    "#I want to check if there are any negative values \n",
    "X_train_corr[(X_train_corr < 0).all(1)]"
   ]
  },
  {
   "cell_type": "code",
   "execution_count": 26,
   "metadata": {},
   "outputs": [],
   "source": [
    "from sklearn.preprocessing import PowerTransformer\n",
    "power = PowerTransformer(method = 'yeo-johnson')\n",
    "X_train_data = power.fit_transform(X_train_corr)"
   ]
  },
  {
   "cell_type": "code",
   "execution_count": 27,
   "metadata": {},
   "outputs": [
    {
     "data": {
      "text/plain": [
       "array([[-1.91653472, -0.35241146,  0.8200437 , ...,  2.50445446,\n",
       "         1.84987033,  1.67402545],\n",
       "       [ 1.69908771,  1.5937314 ,  1.29585775, ...,  1.64222048,\n",
       "         1.72819268,  1.93806471],\n",
       "       [-1.83410726, -1.38503518, -1.41648987, ..., -0.59272383,\n",
       "         0.76101421,  0.28892012],\n",
       "       ...,\n",
       "       [ 0.23516744, -0.4899686 , -2.6238211 , ..., -1.43255292,\n",
       "        -0.72081091, -1.73457274],\n",
       "       [ 0.14329954,  0.21721057,  0.78047732, ...,  0.82988064,\n",
       "         0.60855374,  1.28868168],\n",
       "       [-0.45842743,  0.42223724, -1.16440188, ..., -0.78122935,\n",
       "        -0.22899838, -0.94987786]])"
      ]
     },
     "execution_count": 27,
     "metadata": {},
     "output_type": "execute_result"
    }
   ],
   "source": [
    "X_train_data"
   ]
  },
  {
   "cell_type": "code",
   "execution_count": 28,
   "metadata": {},
   "outputs": [
    {
     "data": {
      "text/html": [
       "<div>\n",
       "<style scoped>\n",
       "    .dataframe tbody tr th:only-of-type {\n",
       "        vertical-align: middle;\n",
       "    }\n",
       "\n",
       "    .dataframe tbody tr th {\n",
       "        vertical-align: top;\n",
       "    }\n",
       "\n",
       "    .dataframe thead th {\n",
       "        text-align: right;\n",
       "    }\n",
       "</style>\n",
       "<table border=\"1\" class=\"dataframe\">\n",
       "  <thead>\n",
       "    <tr style=\"text-align: right;\">\n",
       "      <th></th>\n",
       "      <th>mean radius</th>\n",
       "      <th>mean texture</th>\n",
       "      <th>mean smoothness</th>\n",
       "      <th>mean compactness</th>\n",
       "      <th>mean concave points</th>\n",
       "      <th>mean symmetry</th>\n",
       "      <th>mean fractal dimension</th>\n",
       "      <th>radius error</th>\n",
       "      <th>texture error</th>\n",
       "      <th>smoothness error</th>\n",
       "      <th>compactness error</th>\n",
       "      <th>concavity error</th>\n",
       "      <th>concave points error</th>\n",
       "      <th>symmetry error</th>\n",
       "      <th>fractal dimension error</th>\n",
       "      <th>worst smoothness</th>\n",
       "      <th>worst concavity</th>\n",
       "      <th>worst symmetry</th>\n",
       "      <th>worst fractal dimension</th>\n",
       "    </tr>\n",
       "  </thead>\n",
       "  <tbody>\n",
       "    <tr>\n",
       "      <th>0</th>\n",
       "      <td>-1.916535</td>\n",
       "      <td>-0.352411</td>\n",
       "      <td>0.820044</td>\n",
       "      <td>0.901411</td>\n",
       "      <td>0.136915</td>\n",
       "      <td>1.118094</td>\n",
       "      <td>1.983966</td>\n",
       "      <td>-0.017888</td>\n",
       "      <td>0.200359</td>\n",
       "      <td>1.123419</td>\n",
       "      <td>2.056701</td>\n",
       "      <td>2.565466</td>\n",
       "      <td>2.440816</td>\n",
       "      <td>1.985442</td>\n",
       "      <td>1.978274</td>\n",
       "      <td>0.762864</td>\n",
       "      <td>2.504454</td>\n",
       "      <td>1.849870</td>\n",
       "      <td>1.674025</td>\n",
       "    </tr>\n",
       "    <tr>\n",
       "      <th>1</th>\n",
       "      <td>1.699088</td>\n",
       "      <td>1.593731</td>\n",
       "      <td>1.295858</td>\n",
       "      <td>2.210581</td>\n",
       "      <td>1.885634</td>\n",
       "      <td>1.874970</td>\n",
       "      <td>1.510829</td>\n",
       "      <td>1.234740</td>\n",
       "      <td>-0.892523</td>\n",
       "      <td>-1.208621</td>\n",
       "      <td>1.383987</td>\n",
       "      <td>0.583085</td>\n",
       "      <td>0.778561</td>\n",
       "      <td>-0.152135</td>\n",
       "      <td>1.036281</td>\n",
       "      <td>0.798725</td>\n",
       "      <td>1.642220</td>\n",
       "      <td>1.728193</td>\n",
       "      <td>1.938065</td>\n",
       "    </tr>\n",
       "    <tr>\n",
       "      <th>2</th>\n",
       "      <td>-1.834107</td>\n",
       "      <td>-1.385035</td>\n",
       "      <td>-1.416490</td>\n",
       "      <td>-0.143822</td>\n",
       "      <td>-0.700786</td>\n",
       "      <td>1.743645</td>\n",
       "      <td>1.089515</td>\n",
       "      <td>0.450050</td>\n",
       "      <td>1.718387</td>\n",
       "      <td>0.888110</td>\n",
       "      <td>1.081427</td>\n",
       "      <td>0.759919</td>\n",
       "      <td>0.768329</td>\n",
       "      <td>1.983744</td>\n",
       "      <td>1.220126</td>\n",
       "      <td>-1.536757</td>\n",
       "      <td>-0.592724</td>\n",
       "      <td>0.761014</td>\n",
       "      <td>0.288920</td>\n",
       "    </tr>\n",
       "    <tr>\n",
       "      <th>3</th>\n",
       "      <td>-1.086072</td>\n",
       "      <td>1.358717</td>\n",
       "      <td>0.127551</td>\n",
       "      <td>-0.536485</td>\n",
       "      <td>-0.965221</td>\n",
       "      <td>0.424666</td>\n",
       "      <td>0.272557</td>\n",
       "      <td>-0.600729</td>\n",
       "      <td>0.747452</td>\n",
       "      <td>0.337001</td>\n",
       "      <td>-1.089575</td>\n",
       "      <td>-1.049695</td>\n",
       "      <td>-1.012639</td>\n",
       "      <td>0.438363</td>\n",
       "      <td>-0.444916</td>\n",
       "      <td>0.830451</td>\n",
       "      <td>-0.796734</td>\n",
       "      <td>0.938374</td>\n",
       "      <td>0.066121</td>\n",
       "    </tr>\n",
       "    <tr>\n",
       "      <th>4</th>\n",
       "      <td>-1.311450</td>\n",
       "      <td>-1.055986</td>\n",
       "      <td>1.252881</td>\n",
       "      <td>-0.316012</td>\n",
       "      <td>-1.127971</td>\n",
       "      <td>2.602646</td>\n",
       "      <td>1.086260</td>\n",
       "      <td>0.893505</td>\n",
       "      <td>0.661388</td>\n",
       "      <td>0.465040</td>\n",
       "      <td>-1.013105</td>\n",
       "      <td>-1.306546</td>\n",
       "      <td>-0.564318</td>\n",
       "      <td>1.980673</td>\n",
       "      <td>1.261846</td>\n",
       "      <td>-0.113859</td>\n",
       "      <td>-1.598342</td>\n",
       "      <td>1.131296</td>\n",
       "      <td>-0.021413</td>\n",
       "    </tr>\n",
       "    <tr>\n",
       "      <th>...</th>\n",
       "      <td>...</td>\n",
       "      <td>...</td>\n",
       "      <td>...</td>\n",
       "      <td>...</td>\n",
       "      <td>...</td>\n",
       "      <td>...</td>\n",
       "      <td>...</td>\n",
       "      <td>...</td>\n",
       "      <td>...</td>\n",
       "      <td>...</td>\n",
       "      <td>...</td>\n",
       "      <td>...</td>\n",
       "      <td>...</td>\n",
       "      <td>...</td>\n",
       "      <td>...</td>\n",
       "      <td>...</td>\n",
       "      <td>...</td>\n",
       "      <td>...</td>\n",
       "      <td>...</td>\n",
       "    </tr>\n",
       "    <tr>\n",
       "      <th>450</th>\n",
       "      <td>-1.999134</td>\n",
       "      <td>-1.131270</td>\n",
       "      <td>0.218280</td>\n",
       "      <td>1.074422</td>\n",
       "      <td>-0.406312</td>\n",
       "      <td>0.442258</td>\n",
       "      <td>2.437032</td>\n",
       "      <td>0.929637</td>\n",
       "      <td>-0.626883</td>\n",
       "      <td>2.280373</td>\n",
       "      <td>2.113017</td>\n",
       "      <td>1.209776</td>\n",
       "      <td>1.053948</td>\n",
       "      <td>0.920097</td>\n",
       "      <td>2.390860</td>\n",
       "      <td>-0.424965</td>\n",
       "      <td>-0.566078</td>\n",
       "      <td>-1.199472</td>\n",
       "      <td>1.392528</td>\n",
       "    </tr>\n",
       "    <tr>\n",
       "      <th>451</th>\n",
       "      <td>-0.665790</td>\n",
       "      <td>-0.094536</td>\n",
       "      <td>1.301974</td>\n",
       "      <td>0.179660</td>\n",
       "      <td>-0.169913</td>\n",
       "      <td>0.072796</td>\n",
       "      <td>0.548204</td>\n",
       "      <td>-0.162640</td>\n",
       "      <td>0.998045</td>\n",
       "      <td>0.825533</td>\n",
       "      <td>0.143541</td>\n",
       "      <td>0.149109</td>\n",
       "      <td>0.520460</td>\n",
       "      <td>-0.624215</td>\n",
       "      <td>0.366049</td>\n",
       "      <td>1.540553</td>\n",
       "      <td>0.300554</td>\n",
       "      <td>-0.016340</td>\n",
       "      <td>0.638842</td>\n",
       "    </tr>\n",
       "    <tr>\n",
       "      <th>452</th>\n",
       "      <td>0.235167</td>\n",
       "      <td>-0.489969</td>\n",
       "      <td>-2.623821</td>\n",
       "      <td>-2.090191</td>\n",
       "      <td>-1.487341</td>\n",
       "      <td>-1.188348</td>\n",
       "      <td>-1.613082</td>\n",
       "      <td>-1.904386</td>\n",
       "      <td>-1.030009</td>\n",
       "      <td>-1.753425</td>\n",
       "      <td>-1.998300</td>\n",
       "      <td>-1.554744</td>\n",
       "      <td>-1.700038</td>\n",
       "      <td>-0.688704</td>\n",
       "      <td>-1.598574</td>\n",
       "      <td>-2.235559</td>\n",
       "      <td>-1.432553</td>\n",
       "      <td>-0.720811</td>\n",
       "      <td>-1.734573</td>\n",
       "    </tr>\n",
       "    <tr>\n",
       "      <th>453</th>\n",
       "      <td>0.143300</td>\n",
       "      <td>0.217211</td>\n",
       "      <td>0.780477</td>\n",
       "      <td>0.416479</td>\n",
       "      <td>0.716267</td>\n",
       "      <td>-0.458032</td>\n",
       "      <td>0.580903</td>\n",
       "      <td>-0.863326</td>\n",
       "      <td>-0.353832</td>\n",
       "      <td>-0.558613</td>\n",
       "      <td>-0.290797</td>\n",
       "      <td>-0.280000</td>\n",
       "      <td>-0.275325</td>\n",
       "      <td>-1.477686</td>\n",
       "      <td>-0.272833</td>\n",
       "      <td>1.267586</td>\n",
       "      <td>0.829881</td>\n",
       "      <td>0.608554</td>\n",
       "      <td>1.288682</td>\n",
       "    </tr>\n",
       "    <tr>\n",
       "      <th>454</th>\n",
       "      <td>-0.458427</td>\n",
       "      <td>0.422237</td>\n",
       "      <td>-1.164402</td>\n",
       "      <td>-1.557353</td>\n",
       "      <td>-0.890399</td>\n",
       "      <td>-0.169430</td>\n",
       "      <td>-0.910891</td>\n",
       "      <td>-1.150915</td>\n",
       "      <td>0.870391</td>\n",
       "      <td>-0.691973</td>\n",
       "      <td>-1.645741</td>\n",
       "      <td>-1.059162</td>\n",
       "      <td>-0.880766</td>\n",
       "      <td>-0.895240</td>\n",
       "      <td>-1.435908</td>\n",
       "      <td>-0.826324</td>\n",
       "      <td>-0.781229</td>\n",
       "      <td>-0.228998</td>\n",
       "      <td>-0.949878</td>\n",
       "    </tr>\n",
       "  </tbody>\n",
       "</table>\n",
       "<p>455 rows × 19 columns</p>\n",
       "</div>"
      ],
      "text/plain": [
       "     mean radius  mean texture  mean smoothness  mean compactness  \\\n",
       "0      -1.916535     -0.352411         0.820044          0.901411   \n",
       "1       1.699088      1.593731         1.295858          2.210581   \n",
       "2      -1.834107     -1.385035        -1.416490         -0.143822   \n",
       "3      -1.086072      1.358717         0.127551         -0.536485   \n",
       "4      -1.311450     -1.055986         1.252881         -0.316012   \n",
       "..           ...           ...              ...               ...   \n",
       "450    -1.999134     -1.131270         0.218280          1.074422   \n",
       "451    -0.665790     -0.094536         1.301974          0.179660   \n",
       "452     0.235167     -0.489969        -2.623821         -2.090191   \n",
       "453     0.143300      0.217211         0.780477          0.416479   \n",
       "454    -0.458427      0.422237        -1.164402         -1.557353   \n",
       "\n",
       "     mean concave points  mean symmetry  mean fractal dimension  radius error  \\\n",
       "0               0.136915       1.118094                1.983966     -0.017888   \n",
       "1               1.885634       1.874970                1.510829      1.234740   \n",
       "2              -0.700786       1.743645                1.089515      0.450050   \n",
       "3              -0.965221       0.424666                0.272557     -0.600729   \n",
       "4              -1.127971       2.602646                1.086260      0.893505   \n",
       "..                   ...            ...                     ...           ...   \n",
       "450            -0.406312       0.442258                2.437032      0.929637   \n",
       "451            -0.169913       0.072796                0.548204     -0.162640   \n",
       "452            -1.487341      -1.188348               -1.613082     -1.904386   \n",
       "453             0.716267      -0.458032                0.580903     -0.863326   \n",
       "454            -0.890399      -0.169430               -0.910891     -1.150915   \n",
       "\n",
       "     texture error  smoothness error  compactness error  concavity error  \\\n",
       "0         0.200359          1.123419           2.056701         2.565466   \n",
       "1        -0.892523         -1.208621           1.383987         0.583085   \n",
       "2         1.718387          0.888110           1.081427         0.759919   \n",
       "3         0.747452          0.337001          -1.089575        -1.049695   \n",
       "4         0.661388          0.465040          -1.013105        -1.306546   \n",
       "..             ...               ...                ...              ...   \n",
       "450      -0.626883          2.280373           2.113017         1.209776   \n",
       "451       0.998045          0.825533           0.143541         0.149109   \n",
       "452      -1.030009         -1.753425          -1.998300        -1.554744   \n",
       "453      -0.353832         -0.558613          -0.290797        -0.280000   \n",
       "454       0.870391         -0.691973          -1.645741        -1.059162   \n",
       "\n",
       "     concave points error  symmetry error  fractal dimension error  \\\n",
       "0                2.440816        1.985442                 1.978274   \n",
       "1                0.778561       -0.152135                 1.036281   \n",
       "2                0.768329        1.983744                 1.220126   \n",
       "3               -1.012639        0.438363                -0.444916   \n",
       "4               -0.564318        1.980673                 1.261846   \n",
       "..                    ...             ...                      ...   \n",
       "450              1.053948        0.920097                 2.390860   \n",
       "451              0.520460       -0.624215                 0.366049   \n",
       "452             -1.700038       -0.688704                -1.598574   \n",
       "453             -0.275325       -1.477686                -0.272833   \n",
       "454             -0.880766       -0.895240                -1.435908   \n",
       "\n",
       "     worst smoothness  worst concavity  worst symmetry  \\\n",
       "0            0.762864         2.504454        1.849870   \n",
       "1            0.798725         1.642220        1.728193   \n",
       "2           -1.536757        -0.592724        0.761014   \n",
       "3            0.830451        -0.796734        0.938374   \n",
       "4           -0.113859        -1.598342        1.131296   \n",
       "..                ...              ...             ...   \n",
       "450         -0.424965        -0.566078       -1.199472   \n",
       "451          1.540553         0.300554       -0.016340   \n",
       "452         -2.235559        -1.432553       -0.720811   \n",
       "453          1.267586         0.829881        0.608554   \n",
       "454         -0.826324        -0.781229       -0.228998   \n",
       "\n",
       "     worst fractal dimension  \n",
       "0                   1.674025  \n",
       "1                   1.938065  \n",
       "2                   0.288920  \n",
       "3                   0.066121  \n",
       "4                  -0.021413  \n",
       "..                       ...  \n",
       "450                 1.392528  \n",
       "451                 0.638842  \n",
       "452                -1.734573  \n",
       "453                 1.288682  \n",
       "454                -0.949878  \n",
       "\n",
       "[455 rows x 19 columns]"
      ]
     },
     "execution_count": 28,
     "metadata": {},
     "output_type": "execute_result"
    }
   ],
   "source": [
    "X_train_final = pd.DataFrame(X_train_data, columns = X_train_corr.columns)\n",
    "X_train_final"
   ]
  },
  {
   "cell_type": "markdown",
   "metadata": {},
   "source": [
    "Explain: Due to the skewing of my data when chekcing the distributions I decided to normalize the data. \n",
    "The Box Cox  transofrmation does not run indicating we do not only have postive values in our data. Since interpreting log transformations can be less intuitive I decided to run a Yeo Johnson power transrmation "
   ]
  },
  {
   "cell_type": "code",
   "execution_count": 29,
   "metadata": {},
   "outputs": [
    {
     "name": "stdout",
     "output_type": "stream",
     "text": [
      "mean radius\n",
      "Skew : 0.98\n"
     ]
    },
    {
     "data": {
      "image/png": "[encoded data removed]",
      "text/plain": [
       "<Figure size 288x288 with 1 Axes>"
      ]
     },
     "metadata": {
      "needs_background": "light"
     },
     "output_type": "display_data"
    },
    {
     "name": "stdout",
     "output_type": "stream",
     "text": [
      "mean texture\n",
      "Skew : 0.76\n"
     ]
    },
    {
     "data": {
      "image/png": "[encoded data removed]",
      "text/plain": [
       "<Figure size 288x288 with 1 Axes>"
      ]
     },
     "metadata": {
      "needs_background": "light"
     },
     "output_type": "display_data"
    },
    {
     "name": "stdout",
     "output_type": "stream",
     "text": [
      "mean smoothness\n",
      "Skew : 0.51\n"
     ]
    },
    {
     "data": {
      "image/png": "[encoded data removed]",
      "text/plain": [
       "<Figure size 288x288 with 1 Axes>"
      ]
     },
     "metadata": {
      "needs_background": "light"
     },
     "output_type": "display_data"
    },
    {
     "name": "stdout",
     "output_type": "stream",
     "text": [
      "mean compactness\n",
      "Skew : 1.09\n"
     ]
    },
    {
     "data": {
      "image/png": "[encoded data removed]",
      "text/plain": [
       "<Figure size 288x288 with 1 Axes>"
      ]
     },
     "metadata": {
      "needs_background": "light"
     },
     "output_type": "display_data"
    },
    {
     "name": "stdout",
     "output_type": "stream",
     "text": [
      "mean concave points\n",
      "Skew : 1.18\n"
     ]
    },
    {
     "data": {
      "image/png": "[encoded data removed]",
      "text/plain": [
       "<Figure size 288x288 with 1 Axes>"
      ]
     },
     "metadata": {
      "needs_background": "light"
     },
     "output_type": "display_data"
    },
    {
     "name": "stdout",
     "output_type": "stream",
     "text": [
      "mean symmetry\n",
      "Skew : 0.74\n"
     ]
    },
    {
     "data": {
      "image/png": "[encoded data removed]",
      "text/plain": [
       "<Figure size 288x288 with 1 Axes>"
      ]
     },
     "metadata": {
      "needs_background": "light"
     },
     "output_type": "display_data"
    },
    {
     "name": "stdout",
     "output_type": "stream",
     "text": [
      "mean fractal dimension\n",
      "Skew : 1.4\n"
     ]
    },
    {
     "data": {
      "image/png": "[encoded data removed]",
      "text/plain": [
       "<Figure size 288x288 with 1 Axes>"
      ]
     },
     "metadata": {
      "needs_background": "light"
     },
     "output_type": "display_data"
    },
    {
     "name": "stdout",
     "output_type": "stream",
     "text": [
      "radius error\n",
      "Skew : 3.4\n"
     ]
    },
    {
     "data": {
      "image/png": "[encoded data removed]",
      "text/plain": [
       "<Figure size 288x288 with 1 Axes>"
      ]
     },
     "metadata": {
      "needs_background": "light"
     },
     "output_type": "display_data"
    },
    {
     "name": "stdout",
     "output_type": "stream",
     "text": [
      "texture error\n",
      "Skew : 1.73\n"
     ]
    },
    {
     "data": {
      "image/png": "[encoded data removed]",
      "text/plain": [
       "<Figure size 288x288 with 1 Axes>"
      ]
     },
     "metadata": {
      "needs_background": "light"
     },
     "output_type": "display_data"
    },
    {
     "name": "stdout",
     "output_type": "stream",
     "text": [
      "smoothness error\n",
      "Skew : 2.57\n"
     ]
    },
    {
     "data": {
      "image/png": "[encoded data removed]",
      "text/plain": [
       "<Figure size 288x288 with 1 Axes>"
      ]
     },
     "metadata": {
      "needs_background": "light"
     },
     "output_type": "display_data"
    },
    {
     "name": "stdout",
     "output_type": "stream",
     "text": [
      "compactness error\n",
      "Skew : 1.96\n"
     ]
    },
    {
     "data": {
      "image/png": "[encoded data removed]",
      "text/plain": [
       "<Figure size 288x288 with 1 Axes>"
      ]
     },
     "metadata": {
      "needs_background": "light"
     },
     "output_type": "display_data"
    },
    {
     "name": "stdout",
     "output_type": "stream",
     "text": [
      "concavity error\n",
      "Skew : 5.17\n"
     ]
    },
    {
     "data": {
      "image/png": "[encoded data removed]",
      "text/plain": [
       "<Figure size 288x288 with 1 Axes>"
      ]
     },
     "metadata": {
      "needs_background": "light"
     },
     "output_type": "display_data"
    },
    {
     "name": "stdout",
     "output_type": "stream",
     "text": [
      "concave points error\n",
      "Skew : 1.61\n"
     ]
    },
    {
     "data": {
      "image/png": "[encoded data removed]",
      "text/plain": [
       "<Figure size 288x288 with 1 Axes>"
      ]
     },
     "metadata": {
      "needs_background": "light"
     },
     "output_type": "display_data"
    },
    {
     "name": "stdout",
     "output_type": "stream",
     "text": [
      "symmetry error\n",
      "Skew : 1.93\n"
     ]
    },
    {
     "data": {
      "image/png": "[encoded data removed]",
      "text/plain": [
       "<Figure size 288x288 with 1 Axes>"
      ]
     },
     "metadata": {
      "needs_background": "light"
     },
     "output_type": "display_data"
    },
    {
     "name": "stdout",
     "output_type": "stream",
     "text": [
      "fractal dimension error\n",
      "Skew : 4.05\n"
     ]
    },
    {
     "data": {
      "image/png": "[encoded data removed]",
      "text/plain": [
       "<Figure size 288x288 with 1 Axes>"
      ]
     },
     "metadata": {
      "needs_background": "light"
     },
     "output_type": "display_data"
    },
    {
     "name": "stdout",
     "output_type": "stream",
     "text": [
      "worst smoothness\n",
      "Skew : 0.39\n"
     ]
    },
    {
     "data": {
      "image/png": "[encoded data removed]",
      "text/plain": [
       "<Figure size 288x288 with 1 Axes>"
      ]
     },
     "metadata": {
      "needs_background": "light"
     },
     "output_type": "display_data"
    },
    {
     "name": "stdout",
     "output_type": "stream",
     "text": [
      "worst concavity\n",
      "Skew : 1.11\n"
     ]
    },
    {
     "data": {
      "image/png": "[encoded data removed]",
      "text/plain": [
       "<Figure size 288x288 with 1 Axes>"
      ]
     },
     "metadata": {
      "needs_background": "light"
     },
     "output_type": "display_data"
    },
    {
     "name": "stdout",
     "output_type": "stream",
     "text": [
      "worst symmetry\n",
      "Skew : 1.48\n"
     ]
    },
    {
     "data": {
      "image/png": "[encoded data removed]",
      "text/plain": [
       "<Figure size 288x288 with 1 Axes>"
      ]
     },
     "metadata": {
      "needs_background": "light"
     },
     "output_type": "display_data"
    },
    {
     "name": "stdout",
     "output_type": "stream",
     "text": [
      "worst fractal dimension\n",
      "Skew : 1.31\n"
     ]
    },
    {
     "data": {
      "image/png": "[encoded data removed]",
      "text/plain": [
       "<Figure size 288x288 with 1 Axes>"
      ]
     },
     "metadata": {
      "needs_background": "light"
     },
     "output_type": "display_data"
    }
   ],
   "source": [
    "num_cols = list(X_train_final.select_dtypes(np.number).columns)\n",
    "\n",
    "for col in num_cols:\n",
    "    print(col)\n",
    "    print('Skew :',round(X_train[col].skew(),2))\n",
    "    plt.figure(figsize = (4,4))\n",
    "    X_train_final[col].plot.hist(xlabel = col, density = True)\n",
    "    plt.show()\n",
    "    \n",
    "#Looking at our data after transorming "
   ]
  },
  {
   "cell_type": "markdown",
   "metadata": {},
   "source": [
    "## PCA (2 Points\n"
   ]
  },
  {
   "cell_type": "markdown",
   "metadata": {},
   "source": [
    "### Make a Plot Showing the Cummulative Explained Variance"
   ]
  },
  {
   "cell_type": "code",
   "execution_count": 30,
   "metadata": {},
   "outputs": [],
   "source": [
    "from sklearn.decomposition import PCA\n",
    "\n",
    "n=X_train_final[num_cols].shape[1]\n",
    "\n",
    "pca = PCA(n_components=n, random_state=42)\n",
    "\n",
    "xpca = pca.fit(X_train_final)\n"
   ]
  },
  {
   "cell_type": "code",
   "execution_count": 31,
   "metadata": {},
   "outputs": [],
   "source": [
    "pca_var_explain = pd.DataFrame({'pc': [str(i) for i in range(1,n+1)], 'cum_var': pca.explained_variance_ratio_.cumsum()})"
   ]
  },
  {
   "cell_type": "code",
   "execution_count": 32,
   "metadata": {},
   "outputs": [
    {
     "data": {
      "image/png": "[encoded data removed]",
      "text/plain": [
       "<Figure size 432x288 with 1 Axes>"
      ]
     },
     "metadata": {
      "needs_background": "light"
     },
     "output_type": "display_data"
    }
   ],
   "source": [
    "pca_var_explain.plot(kind = \"line\", x = \"pc\", \n",
    "                     y = \"cum_var\", \n",
    "                     legend = False, \n",
    "                     ylabel=\"cum_var\", \n",
    "                     marker = 'o', \n",
    "                     linestyle = '--')\n",
    "plt.show()"
   ]
  },
  {
   "cell_type": "code",
   "execution_count": 33,
   "metadata": {},
   "outputs": [
    {
     "data": {
      "text/plain": [
       "array([0.42643944, 0.14771394, 0.11898548, 0.07457614, 0.06262765,\n",
       "       0.05408549, 0.02696335, 0.02084102, 0.01643681, 0.01355323,\n",
       "       0.00998261, 0.00872156, 0.00616174, 0.00560038, 0.00265241,\n",
       "       0.00155148, 0.00130179, 0.0010997 , 0.00070579])"
      ]
     },
     "execution_count": 33,
     "metadata": {},
     "output_type": "execute_result"
    }
   ],
   "source": [
    "pca.explained_variance_ratio_"
   ]
  },
  {
   "cell_type": "markdown",
   "metadata": {},
   "source": [
    "### How Many PCs Would You Retain?"
   ]
  },
  {
   "cell_type": "code",
   "execution_count": 34,
   "metadata": {},
   "outputs": [],
   "source": [
    "#I would like to retain as many PC's that explain 95% of the varience \n",
    "#I can do this by setting n_components to .95 which is the varience I want to preserve\n",
    "\n",
    "pca_retain = PCA(n_components = .95, random_state = 42)\n",
    "X_retain = pca_retain.fit(X_train_final)\n"
   ]
  },
  {
   "cell_type": "code",
   "execution_count": 35,
   "metadata": {},
   "outputs": [
    {
     "data": {
      "text/plain": [
       "array([0.42643944, 0.57415338, 0.69313886, 0.767715  , 0.83034265,\n",
       "       0.88442814, 0.91139149, 0.93223251, 0.94866932, 0.96222256])"
      ]
     },
     "execution_count": 35,
     "metadata": {},
     "output_type": "execute_result"
    }
   ],
   "source": [
    "pca_retain.explained_variance_ratio_.cumsum()"
   ]
  },
  {
   "cell_type": "code",
   "execution_count": 36,
   "metadata": {},
   "outputs": [
    {
     "data": {
      "text/plain": [
       "10"
      ]
     },
     "execution_count": 36,
     "metadata": {},
     "output_type": "execute_result"
    }
   ],
   "source": [
    "len(pca_retain.explained_variance_ratio_)"
   ]
  },
  {
   "cell_type": "code",
   "execution_count": 37,
   "metadata": {},
   "outputs": [],
   "source": [
    "#From my analysis I would retain 10 principal components in order to maintain 90% variability.  "
   ]
  },
  {
   "cell_type": "markdown",
   "metadata": {},
   "source": [
    "## K-Means (2 Points)"
   ]
  },
  {
   "cell_type": "markdown",
   "metadata": {},
   "source": [
    "### Evaluate K"
   ]
  },
  {
   "cell_type": "code",
   "execution_count": 38,
   "metadata": {},
   "outputs": [],
   "source": [
    "# find the best value of K for the data\n",
    "from sklearn.cluster import KMeans\n",
    "from sklearn.metrics import silhouette_score\n",
    "import warnings\n",
    "warnings.filterwarnings(\"ignore\")"
   ]
  },
  {
   "cell_type": "code",
   "execution_count": 39,
   "metadata": {},
   "outputs": [
    {
     "data": {
      "image/png": "[encoded data removed]",
      "text/plain": [
       "<Figure size 432x288 with 1 Axes>"
      ]
     },
     "metadata": {
      "needs_background": "light"
     },
     "output_type": "display_data"
    }
   ],
   "source": [
    "silhoutte_scores_by_k = {} \n",
    "\n",
    "for k in range(2, 11):\n",
    "    kmeans = KMeans(n_clusters=k, random_state=42).fit(X_train_final)\n",
    "    labels = kmeans.predict(X_train_final)\n",
    "    silhoutte_scores_by_k[k] = silhouette_score(X_train_final, labels)\n",
    "\n",
    "#Elbow plot\n",
    "plt.figure()\n",
    "plt.plot(pd.DataFrame.from_dict(silhoutte_scores_by_k, orient = \"index\"))\n",
    "plt.xlabel(\"cluster\")\n",
    "plt.ylabel(\"score\")\n",
    "plt.show()"
   ]
  },
  {
   "cell_type": "code",
   "execution_count": 40,
   "metadata": {},
   "outputs": [],
   "source": [
    "#To find the optimal value for K I am going to use the Silhouette Score metric\n",
    "#Silhouette score is a more precise approach than inertia which can be hard to interpret and will go down as K increases.\n",
    "#The best value for K shown by Silhouette score is 2"
   ]
  },
  {
   "cell_type": "markdown",
   "metadata": {},
   "source": [
    "### Interpret Clusters"
   ]
  },
  {
   "cell_type": "code",
   "execution_count": 41,
   "metadata": {},
   "outputs": [
    {
     "data": {
      "text/html": [
       "<div>\n",
       "<style scoped>\n",
       "    .dataframe tbody tr th:only-of-type {\n",
       "        vertical-align: middle;\n",
       "    }\n",
       "\n",
       "    .dataframe tbody tr th {\n",
       "        vertical-align: top;\n",
       "    }\n",
       "\n",
       "    .dataframe thead th {\n",
       "        text-align: right;\n",
       "    }\n",
       "</style>\n",
       "<table border=\"1\" class=\"dataframe\">\n",
       "  <thead>\n",
       "    <tr style=\"text-align: right;\">\n",
       "      <th></th>\n",
       "      <th>mean radius</th>\n",
       "      <th>mean texture</th>\n",
       "      <th>mean smoothness</th>\n",
       "      <th>mean compactness</th>\n",
       "      <th>mean concave points</th>\n",
       "      <th>mean symmetry</th>\n",
       "      <th>mean fractal dimension</th>\n",
       "      <th>radius error</th>\n",
       "      <th>texture error</th>\n",
       "      <th>smoothness error</th>\n",
       "      <th>compactness error</th>\n",
       "      <th>concavity error</th>\n",
       "      <th>concave points error</th>\n",
       "      <th>symmetry error</th>\n",
       "      <th>fractal dimension error</th>\n",
       "      <th>worst smoothness</th>\n",
       "      <th>worst concavity</th>\n",
       "      <th>worst symmetry</th>\n",
       "      <th>worst fractal dimension</th>\n",
       "    </tr>\n",
       "    <tr>\n",
       "      <th>clusters</th>\n",
       "      <th></th>\n",
       "      <th></th>\n",
       "      <th></th>\n",
       "      <th></th>\n",
       "      <th></th>\n",
       "      <th></th>\n",
       "      <th></th>\n",
       "      <th></th>\n",
       "      <th></th>\n",
       "      <th></th>\n",
       "      <th></th>\n",
       "      <th></th>\n",
       "      <th></th>\n",
       "      <th></th>\n",
       "      <th></th>\n",
       "      <th></th>\n",
       "      <th></th>\n",
       "      <th></th>\n",
       "      <th></th>\n",
       "    </tr>\n",
       "  </thead>\n",
       "  <tbody>\n",
       "    <tr>\n",
       "      <th>1</th>\n",
       "      <td>-0.370572</td>\n",
       "      <td>-0.306655</td>\n",
       "      <td>-0.454815</td>\n",
       "      <td>-0.741018</td>\n",
       "      <td>-0.672970</td>\n",
       "      <td>-0.414652</td>\n",
       "      <td>-0.363424</td>\n",
       "      <td>-0.467557</td>\n",
       "      <td>-0.173660</td>\n",
       "      <td>-0.226975</td>\n",
       "      <td>-0.667254</td>\n",
       "      <td>-0.654466</td>\n",
       "      <td>-0.610206</td>\n",
       "      <td>-0.161102</td>\n",
       "      <td>-0.556104</td>\n",
       "      <td>-0.426047</td>\n",
       "      <td>-0.671157</td>\n",
       "      <td>-0.333990</td>\n",
       "      <td>-0.537477</td>\n",
       "    </tr>\n",
       "    <tr>\n",
       "      <th>2</th>\n",
       "      <td>0.443970</td>\n",
       "      <td>0.367394</td>\n",
       "      <td>0.544899</td>\n",
       "      <td>0.887790</td>\n",
       "      <td>0.806264</td>\n",
       "      <td>0.496781</td>\n",
       "      <td>0.435406</td>\n",
       "      <td>0.560165</td>\n",
       "      <td>0.208057</td>\n",
       "      <td>0.271931</td>\n",
       "      <td>0.799415</td>\n",
       "      <td>0.784095</td>\n",
       "      <td>0.731068</td>\n",
       "      <td>0.193011</td>\n",
       "      <td>0.666250</td>\n",
       "      <td>0.510433</td>\n",
       "      <td>0.804092</td>\n",
       "      <td>0.400143</td>\n",
       "      <td>0.643934</td>\n",
       "    </tr>\n",
       "  </tbody>\n",
       "</table>\n",
       "</div>"
      ],
      "text/plain": [
       "          mean radius  mean texture  mean smoothness  mean compactness  \\\n",
       "clusters                                                                 \n",
       "1           -0.370572     -0.306655        -0.454815         -0.741018   \n",
       "2            0.443970      0.367394         0.544899          0.887790   \n",
       "\n",
       "          mean concave points  mean symmetry  mean fractal dimension  \\\n",
       "clusters                                                               \n",
       "1                   -0.672970      -0.414652               -0.363424   \n",
       "2                    0.806264       0.496781                0.435406   \n",
       "\n",
       "          radius error  texture error  smoothness error  compactness error  \\\n",
       "clusters                                                                     \n",
       "1            -0.467557      -0.173660         -0.226975          -0.667254   \n",
       "2             0.560165       0.208057          0.271931           0.799415   \n",
       "\n",
       "          concavity error  concave points error  symmetry error  \\\n",
       "clusters                                                          \n",
       "1               -0.654466             -0.610206       -0.161102   \n",
       "2                0.784095              0.731068        0.193011   \n",
       "\n",
       "          fractal dimension error  worst smoothness  worst concavity  \\\n",
       "clusters                                                               \n",
       "1                       -0.556104         -0.426047        -0.671157   \n",
       "2                        0.666250          0.510433         0.804092   \n",
       "\n",
       "          worst symmetry  worst fractal dimension  \n",
       "clusters                                           \n",
       "1              -0.333990                -0.537477  \n",
       "2               0.400143                 0.643934  "
      ]
     },
     "execution_count": 41,
     "metadata": {},
     "output_type": "execute_result"
    }
   ],
   "source": [
    "kmeans = KMeans(n_clusters=2, random_state=42)\n",
    "kmeans.fit(X_train_final)\n",
    "\n",
    "X_train_final['clusters'] = kmeans.predict(X_train_final) + 1\n",
    "X_train_final.groupby(\"clusters\").mean()\n",
    "# e.g. add the clusters to a pandas dataframe ... average over features"
   ]
  },
  {
   "cell_type": "code",
   "execution_count": 42,
   "metadata": {},
   "outputs": [],
   "source": [
    "#We can see definitive trends in our clusters. It does appear that the similar samples are being grouped into the same clusters. \n",
    "#This is most likely our malignant and benign clusters."
   ]
  },
  {
   "cell_type": "markdown",
   "metadata": {},
   "source": [
    "## DBSCAN (3 points)"
   ]
  },
  {
   "cell_type": "markdown",
   "metadata": {},
   "source": [
    "DBSCAN has two parameters, (1) epsilon or eps, which is the step length/window the algorithm uses to survey the data space and (2) the min number of points falling into the eps window to consider it as \"cluster-like\" or simply an unrelated grouping of data. Try a few different values. "
   ]
  },
  {
   "cell_type": "code",
   "execution_count": 43,
   "metadata": {},
   "outputs": [],
   "source": [
    "from sklearn.cluster import DBSCAN"
   ]
  },
  {
   "cell_type": "code",
   "execution_count": 44,
   "metadata": {},
   "outputs": [],
   "source": [
    "dbscan = DBSCAN(eps = .05, min_samples = 5)\n",
    "dbscan_clustering = X_train_final.copy(deep=True)\n",
    "dbscan_clustering['cluster'] = dbscan.fit_predict(dbscan_clustering)+1"
   ]
  },
  {
   "cell_type": "code",
   "execution_count": 45,
   "metadata": {},
   "outputs": [
    {
     "data": {
      "text/html": [
       "<div>\n",
       "<style scoped>\n",
       "    .dataframe tbody tr th:only-of-type {\n",
       "        vertical-align: middle;\n",
       "    }\n",
       "\n",
       "    .dataframe tbody tr th {\n",
       "        vertical-align: top;\n",
       "    }\n",
       "\n",
       "    .dataframe thead th {\n",
       "        text-align: right;\n",
       "    }\n",
       "</style>\n",
       "<table border=\"1\" class=\"dataframe\">\n",
       "  <thead>\n",
       "    <tr style=\"text-align: right;\">\n",
       "      <th></th>\n",
       "      <th>mean radius</th>\n",
       "      <th>mean texture</th>\n",
       "      <th>mean smoothness</th>\n",
       "      <th>mean compactness</th>\n",
       "      <th>mean concave points</th>\n",
       "      <th>mean symmetry</th>\n",
       "      <th>mean fractal dimension</th>\n",
       "      <th>radius error</th>\n",
       "      <th>texture error</th>\n",
       "      <th>smoothness error</th>\n",
       "      <th>compactness error</th>\n",
       "      <th>concavity error</th>\n",
       "      <th>concave points error</th>\n",
       "      <th>symmetry error</th>\n",
       "      <th>fractal dimension error</th>\n",
       "      <th>worst smoothness</th>\n",
       "      <th>worst concavity</th>\n",
       "      <th>worst symmetry</th>\n",
       "      <th>worst fractal dimension</th>\n",
       "      <th>clusters</th>\n",
       "    </tr>\n",
       "    <tr>\n",
       "      <th>cluster</th>\n",
       "      <th></th>\n",
       "      <th></th>\n",
       "      <th></th>\n",
       "      <th></th>\n",
       "      <th></th>\n",
       "      <th></th>\n",
       "      <th></th>\n",
       "      <th></th>\n",
       "      <th></th>\n",
       "      <th></th>\n",
       "      <th></th>\n",
       "      <th></th>\n",
       "      <th></th>\n",
       "      <th></th>\n",
       "      <th></th>\n",
       "      <th></th>\n",
       "      <th></th>\n",
       "      <th></th>\n",
       "      <th></th>\n",
       "      <th></th>\n",
       "    </tr>\n",
       "  </thead>\n",
       "  <tbody>\n",
       "    <tr>\n",
       "      <th>0</th>\n",
       "      <td>1.498435e-15</td>\n",
       "      <td>-1.670215e-15</td>\n",
       "      <td>-8.540177e-17</td>\n",
       "      <td>1.102903e-16</td>\n",
       "      <td>1.010181e-16</td>\n",
       "      <td>9.177030e-16</td>\n",
       "      <td>4.476029e-15</td>\n",
       "      <td>-2.049643e-17</td>\n",
       "      <td>-5.026504e-16</td>\n",
       "      <td>3.491712e-16</td>\n",
       "      <td>-2.991502e-16</td>\n",
       "      <td>-8.052167e-17</td>\n",
       "      <td>1.549432e-16</td>\n",
       "      <td>-1.808566e-15</td>\n",
       "      <td>-5.368111e-17</td>\n",
       "      <td>-1.545284e-15</td>\n",
       "      <td>-2.183845e-16</td>\n",
       "      <td>1.343858e-15</td>\n",
       "      <td>1.226369e-15</td>\n",
       "      <td>1.454945</td>\n",
       "    </tr>\n",
       "  </tbody>\n",
       "</table>\n",
       "</div>"
      ],
      "text/plain": [
       "          mean radius  mean texture  mean smoothness  mean compactness  \\\n",
       "cluster                                                                  \n",
       "0        1.498435e-15 -1.670215e-15    -8.540177e-17      1.102903e-16   \n",
       "\n",
       "         mean concave points  mean symmetry  mean fractal dimension  \\\n",
       "cluster                                                               \n",
       "0               1.010181e-16   9.177030e-16            4.476029e-15   \n",
       "\n",
       "         radius error  texture error  smoothness error  compactness error  \\\n",
       "cluster                                                                     \n",
       "0       -2.049643e-17  -5.026504e-16      3.491712e-16      -2.991502e-16   \n",
       "\n",
       "         concavity error  concave points error  symmetry error  \\\n",
       "cluster                                                          \n",
       "0          -8.052167e-17          1.549432e-16   -1.808566e-15   \n",
       "\n",
       "         fractal dimension error  worst smoothness  worst concavity  \\\n",
       "cluster                                                               \n",
       "0                  -5.368111e-17     -1.545284e-15    -2.183845e-16   \n",
       "\n",
       "         worst symmetry  worst fractal dimension  clusters  \n",
       "cluster                                                     \n",
       "0          1.343858e-15             1.226369e-15  1.454945  "
      ]
     },
     "execution_count": 45,
     "metadata": {},
     "output_type": "execute_result"
    }
   ],
   "source": [
    "dbscan_clustering.groupby(\"cluster\").mean()"
   ]
  },
  {
   "cell_type": "code",
   "execution_count": 46,
   "metadata": {},
   "outputs": [],
   "source": [
    "dbscan2 = DBSCAN(eps = .25, min_samples = 50)\n",
    "dbscan_clustering2 = X_train_final.copy(deep=True)\n",
    "dbscan_clustering2['cluster'] = dbscan2.fit_predict(dbscan_clustering)+1"
   ]
  },
  {
   "cell_type": "code",
   "execution_count": 47,
   "metadata": {},
   "outputs": [
    {
     "data": {
      "text/html": [
       "<div>\n",
       "<style scoped>\n",
       "    .dataframe tbody tr th:only-of-type {\n",
       "        vertical-align: middle;\n",
       "    }\n",
       "\n",
       "    .dataframe tbody tr th {\n",
       "        vertical-align: top;\n",
       "    }\n",
       "\n",
       "    .dataframe thead th {\n",
       "        text-align: right;\n",
       "    }\n",
       "</style>\n",
       "<table border=\"1\" class=\"dataframe\">\n",
       "  <thead>\n",
       "    <tr style=\"text-align: right;\">\n",
       "      <th></th>\n",
       "      <th>mean radius</th>\n",
       "      <th>mean texture</th>\n",
       "      <th>mean smoothness</th>\n",
       "      <th>mean compactness</th>\n",
       "      <th>mean concave points</th>\n",
       "      <th>mean symmetry</th>\n",
       "      <th>mean fractal dimension</th>\n",
       "      <th>radius error</th>\n",
       "      <th>texture error</th>\n",
       "      <th>smoothness error</th>\n",
       "      <th>compactness error</th>\n",
       "      <th>concavity error</th>\n",
       "      <th>concave points error</th>\n",
       "      <th>symmetry error</th>\n",
       "      <th>fractal dimension error</th>\n",
       "      <th>worst smoothness</th>\n",
       "      <th>worst concavity</th>\n",
       "      <th>worst symmetry</th>\n",
       "      <th>worst fractal dimension</th>\n",
       "      <th>clusters</th>\n",
       "    </tr>\n",
       "    <tr>\n",
       "      <th>cluster</th>\n",
       "      <th></th>\n",
       "      <th></th>\n",
       "      <th></th>\n",
       "      <th></th>\n",
       "      <th></th>\n",
       "      <th></th>\n",
       "      <th></th>\n",
       "      <th></th>\n",
       "      <th></th>\n",
       "      <th></th>\n",
       "      <th></th>\n",
       "      <th></th>\n",
       "      <th></th>\n",
       "      <th></th>\n",
       "      <th></th>\n",
       "      <th></th>\n",
       "      <th></th>\n",
       "      <th></th>\n",
       "      <th></th>\n",
       "      <th></th>\n",
       "    </tr>\n",
       "  </thead>\n",
       "  <tbody>\n",
       "    <tr>\n",
       "      <th>0</th>\n",
       "      <td>1.498435e-15</td>\n",
       "      <td>-1.670215e-15</td>\n",
       "      <td>-8.540177e-17</td>\n",
       "      <td>1.102903e-16</td>\n",
       "      <td>1.010181e-16</td>\n",
       "      <td>9.177030e-16</td>\n",
       "      <td>4.476029e-15</td>\n",
       "      <td>-2.049643e-17</td>\n",
       "      <td>-5.026504e-16</td>\n",
       "      <td>3.491712e-16</td>\n",
       "      <td>-2.991502e-16</td>\n",
       "      <td>-8.052167e-17</td>\n",
       "      <td>1.549432e-16</td>\n",
       "      <td>-1.808566e-15</td>\n",
       "      <td>-5.368111e-17</td>\n",
       "      <td>-1.545284e-15</td>\n",
       "      <td>-2.183845e-16</td>\n",
       "      <td>1.343858e-15</td>\n",
       "      <td>1.226369e-15</td>\n",
       "      <td>1.454945</td>\n",
       "    </tr>\n",
       "  </tbody>\n",
       "</table>\n",
       "</div>"
      ],
      "text/plain": [
       "          mean radius  mean texture  mean smoothness  mean compactness  \\\n",
       "cluster                                                                  \n",
       "0        1.498435e-15 -1.670215e-15    -8.540177e-17      1.102903e-16   \n",
       "\n",
       "         mean concave points  mean symmetry  mean fractal dimension  \\\n",
       "cluster                                                               \n",
       "0               1.010181e-16   9.177030e-16            4.476029e-15   \n",
       "\n",
       "         radius error  texture error  smoothness error  compactness error  \\\n",
       "cluster                                                                     \n",
       "0       -2.049643e-17  -5.026504e-16      3.491712e-16      -2.991502e-16   \n",
       "\n",
       "         concavity error  concave points error  symmetry error  \\\n",
       "cluster                                                          \n",
       "0          -8.052167e-17          1.549432e-16   -1.808566e-15   \n",
       "\n",
       "         fractal dimension error  worst smoothness  worst concavity  \\\n",
       "cluster                                                               \n",
       "0                  -5.368111e-17     -1.545284e-15    -2.183845e-16   \n",
       "\n",
       "         worst symmetry  worst fractal dimension  clusters  \n",
       "cluster                                                     \n",
       "0          1.343858e-15             1.226369e-15  1.454945  "
      ]
     },
     "execution_count": 47,
     "metadata": {},
     "output_type": "execute_result"
    }
   ],
   "source": [
    "dbscan_clustering2.groupby(\"cluster\").mean()"
   ]
  },
  {
   "cell_type": "code",
   "execution_count": 48,
   "metadata": {},
   "outputs": [
    {
     "data": {
      "text/html": [
       "<div>\n",
       "<style scoped>\n",
       "    .dataframe tbody tr th:only-of-type {\n",
       "        vertical-align: middle;\n",
       "    }\n",
       "\n",
       "    .dataframe tbody tr th {\n",
       "        vertical-align: top;\n",
       "    }\n",
       "\n",
       "    .dataframe thead th {\n",
       "        text-align: right;\n",
       "    }\n",
       "</style>\n",
       "<table border=\"1\" class=\"dataframe\">\n",
       "  <thead>\n",
       "    <tr style=\"text-align: right;\">\n",
       "      <th></th>\n",
       "      <th>mean radius</th>\n",
       "      <th>mean texture</th>\n",
       "      <th>mean smoothness</th>\n",
       "      <th>mean compactness</th>\n",
       "      <th>mean concave points</th>\n",
       "      <th>mean symmetry</th>\n",
       "      <th>mean fractal dimension</th>\n",
       "      <th>radius error</th>\n",
       "      <th>texture error</th>\n",
       "      <th>smoothness error</th>\n",
       "      <th>compactness error</th>\n",
       "      <th>concavity error</th>\n",
       "      <th>concave points error</th>\n",
       "      <th>symmetry error</th>\n",
       "      <th>fractal dimension error</th>\n",
       "      <th>worst smoothness</th>\n",
       "      <th>worst concavity</th>\n",
       "      <th>worst symmetry</th>\n",
       "      <th>worst fractal dimension</th>\n",
       "      <th>clusters</th>\n",
       "    </tr>\n",
       "    <tr>\n",
       "      <th>cluster</th>\n",
       "      <th></th>\n",
       "      <th></th>\n",
       "      <th></th>\n",
       "      <th></th>\n",
       "      <th></th>\n",
       "      <th></th>\n",
       "      <th></th>\n",
       "      <th></th>\n",
       "      <th></th>\n",
       "      <th></th>\n",
       "      <th></th>\n",
       "      <th></th>\n",
       "      <th></th>\n",
       "      <th></th>\n",
       "      <th></th>\n",
       "      <th></th>\n",
       "      <th></th>\n",
       "      <th></th>\n",
       "      <th></th>\n",
       "      <th></th>\n",
       "    </tr>\n",
       "  </thead>\n",
       "  <tbody>\n",
       "    <tr>\n",
       "      <th>0</th>\n",
       "      <td>-1.537547</td>\n",
       "      <td>-0.122174</td>\n",
       "      <td>-2.118218</td>\n",
       "      <td>-2.229900</td>\n",
       "      <td>-1.860358</td>\n",
       "      <td>-0.526352</td>\n",
       "      <td>0.446143</td>\n",
       "      <td>0.147067</td>\n",
       "      <td>3.182216</td>\n",
       "      <td>-3.342875</td>\n",
       "      <td>-1.556666</td>\n",
       "      <td>-2.015422</td>\n",
       "      <td>-2.815227</td>\n",
       "      <td>1.829765</td>\n",
       "      <td>-1.274816</td>\n",
       "      <td>-3.100697</td>\n",
       "      <td>-1.822265</td>\n",
       "      <td>-2.142220</td>\n",
       "      <td>-1.261553</td>\n",
       "      <td>1.000000</td>\n",
       "    </tr>\n",
       "    <tr>\n",
       "      <th>1</th>\n",
       "      <td>0.003387</td>\n",
       "      <td>0.000269</td>\n",
       "      <td>0.004666</td>\n",
       "      <td>0.004912</td>\n",
       "      <td>0.004098</td>\n",
       "      <td>0.001159</td>\n",
       "      <td>-0.000983</td>\n",
       "      <td>-0.000324</td>\n",
       "      <td>-0.007009</td>\n",
       "      <td>0.007363</td>\n",
       "      <td>0.003429</td>\n",
       "      <td>0.004439</td>\n",
       "      <td>0.006201</td>\n",
       "      <td>-0.004030</td>\n",
       "      <td>0.002808</td>\n",
       "      <td>0.006830</td>\n",
       "      <td>0.004014</td>\n",
       "      <td>0.004719</td>\n",
       "      <td>0.002779</td>\n",
       "      <td>1.455947</td>\n",
       "    </tr>\n",
       "  </tbody>\n",
       "</table>\n",
       "</div>"
      ],
      "text/plain": [
       "         mean radius  mean texture  mean smoothness  mean compactness  \\\n",
       "cluster                                                                 \n",
       "0          -1.537547     -0.122174        -2.118218         -2.229900   \n",
       "1           0.003387      0.000269         0.004666          0.004912   \n",
       "\n",
       "         mean concave points  mean symmetry  mean fractal dimension  \\\n",
       "cluster                                                               \n",
       "0                  -1.860358      -0.526352                0.446143   \n",
       "1                   0.004098       0.001159               -0.000983   \n",
       "\n",
       "         radius error  texture error  smoothness error  compactness error  \\\n",
       "cluster                                                                     \n",
       "0            0.147067       3.182216         -3.342875          -1.556666   \n",
       "1           -0.000324      -0.007009          0.007363           0.003429   \n",
       "\n",
       "         concavity error  concave points error  symmetry error  \\\n",
       "cluster                                                          \n",
       "0              -2.015422             -2.815227        1.829765   \n",
       "1               0.004439              0.006201       -0.004030   \n",
       "\n",
       "         fractal dimension error  worst smoothness  worst concavity  \\\n",
       "cluster                                                               \n",
       "0                      -1.274816         -3.100697        -1.822265   \n",
       "1                       0.002808          0.006830         0.004014   \n",
       "\n",
       "         worst symmetry  worst fractal dimension  clusters  \n",
       "cluster                                                     \n",
       "0             -2.142220                -1.261553  1.000000  \n",
       "1              0.004719                 0.002779  1.455947  "
      ]
     },
     "execution_count": 48,
     "metadata": {},
     "output_type": "execute_result"
    }
   ],
   "source": [
    "dbscan3 = DBSCAN(eps = 5, min_samples = 40)\n",
    "dbscan_clustering3 = X_train_final.copy(deep=True)\n",
    "dbscan_clustering3['cluster'] = dbscan3.fit_predict(dbscan_clustering)+1\n",
    "dbscan_clustering3.groupby(\"cluster\").mean()"
   ]
  },
  {
   "cell_type": "code",
   "execution_count": 49,
   "metadata": {},
   "outputs": [
    {
     "data": {
      "text/html": [
       "<div>\n",
       "<style scoped>\n",
       "    .dataframe tbody tr th:only-of-type {\n",
       "        vertical-align: middle;\n",
       "    }\n",
       "\n",
       "    .dataframe tbody tr th {\n",
       "        vertical-align: top;\n",
       "    }\n",
       "\n",
       "    .dataframe thead th {\n",
       "        text-align: right;\n",
       "    }\n",
       "</style>\n",
       "<table border=\"1\" class=\"dataframe\">\n",
       "  <thead>\n",
       "    <tr style=\"text-align: right;\">\n",
       "      <th></th>\n",
       "      <th>mean radius</th>\n",
       "      <th>mean texture</th>\n",
       "      <th>mean smoothness</th>\n",
       "      <th>mean compactness</th>\n",
       "      <th>mean concave points</th>\n",
       "      <th>mean symmetry</th>\n",
       "      <th>mean fractal dimension</th>\n",
       "      <th>radius error</th>\n",
       "      <th>texture error</th>\n",
       "      <th>smoothness error</th>\n",
       "      <th>compactness error</th>\n",
       "      <th>concavity error</th>\n",
       "      <th>concave points error</th>\n",
       "      <th>symmetry error</th>\n",
       "      <th>fractal dimension error</th>\n",
       "      <th>worst smoothness</th>\n",
       "      <th>worst concavity</th>\n",
       "      <th>worst symmetry</th>\n",
       "      <th>worst fractal dimension</th>\n",
       "      <th>clusters</th>\n",
       "    </tr>\n",
       "    <tr>\n",
       "      <th>cluster</th>\n",
       "      <th></th>\n",
       "      <th></th>\n",
       "      <th></th>\n",
       "      <th></th>\n",
       "      <th></th>\n",
       "      <th></th>\n",
       "      <th></th>\n",
       "      <th></th>\n",
       "      <th></th>\n",
       "      <th></th>\n",
       "      <th></th>\n",
       "      <th></th>\n",
       "      <th></th>\n",
       "      <th></th>\n",
       "      <th></th>\n",
       "      <th></th>\n",
       "      <th></th>\n",
       "      <th></th>\n",
       "      <th></th>\n",
       "      <th></th>\n",
       "    </tr>\n",
       "  </thead>\n",
       "  <tbody>\n",
       "    <tr>\n",
       "      <th>1</th>\n",
       "      <td>1.498435e-15</td>\n",
       "      <td>-1.670215e-15</td>\n",
       "      <td>-8.540177e-17</td>\n",
       "      <td>1.102903e-16</td>\n",
       "      <td>1.010181e-16</td>\n",
       "      <td>9.177030e-16</td>\n",
       "      <td>4.476029e-15</td>\n",
       "      <td>-2.049643e-17</td>\n",
       "      <td>-5.026504e-16</td>\n",
       "      <td>3.491712e-16</td>\n",
       "      <td>-2.991502e-16</td>\n",
       "      <td>-8.052167e-17</td>\n",
       "      <td>1.549432e-16</td>\n",
       "      <td>-1.808566e-15</td>\n",
       "      <td>-5.368111e-17</td>\n",
       "      <td>-1.545284e-15</td>\n",
       "      <td>-2.183845e-16</td>\n",
       "      <td>1.343858e-15</td>\n",
       "      <td>1.226369e-15</td>\n",
       "      <td>1.454945</td>\n",
       "    </tr>\n",
       "  </tbody>\n",
       "</table>\n",
       "</div>"
      ],
      "text/plain": [
       "          mean radius  mean texture  mean smoothness  mean compactness  \\\n",
       "cluster                                                                  \n",
       "1        1.498435e-15 -1.670215e-15    -8.540177e-17      1.102903e-16   \n",
       "\n",
       "         mean concave points  mean symmetry  mean fractal dimension  \\\n",
       "cluster                                                               \n",
       "1               1.010181e-16   9.177030e-16            4.476029e-15   \n",
       "\n",
       "         radius error  texture error  smoothness error  compactness error  \\\n",
       "cluster                                                                     \n",
       "1       -2.049643e-17  -5.026504e-16      3.491712e-16      -2.991502e-16   \n",
       "\n",
       "         concavity error  concave points error  symmetry error  \\\n",
       "cluster                                                          \n",
       "1          -8.052167e-17          1.549432e-16   -1.808566e-15   \n",
       "\n",
       "         fractal dimension error  worst smoothness  worst concavity  \\\n",
       "cluster                                                               \n",
       "1                  -5.368111e-17     -1.545284e-15    -2.183845e-16   \n",
       "\n",
       "         worst symmetry  worst fractal dimension  clusters  \n",
       "cluster                                                     \n",
       "1          1.343858e-15             1.226369e-15  1.454945  "
      ]
     },
     "execution_count": 49,
     "metadata": {},
     "output_type": "execute_result"
    }
   ],
   "source": [
    "dbscan4 = DBSCAN(eps = 6, min_samples = 40)\n",
    "dbscan_clustering4 = X_train_final.copy(deep=True)\n",
    "dbscan_clustering4['cluster'] = dbscan4.fit_predict(dbscan_clustering)+1\n",
    "dbscan_clustering4.groupby(\"cluster\").mean()"
   ]
  },
  {
   "cell_type": "markdown",
   "metadata": {},
   "source": [
    "### Explain the Choice of Parameter Values"
   ]
  },
  {
   "cell_type": "code",
   "execution_count": 50,
   "metadata": {},
   "outputs": [],
   "source": [
    "from sklearn.neighbors import NearestNeighbors\n",
    "#I am using 40 neighbors as it is double the number of features\n",
    "neighbors = NearestNeighbors(n_neighbors=40)\n",
    "neighbors_fit = neighbors.fit(X_train_final)\n",
    "distances, indices = neighbors_fit.kneighbors(X_train_final)"
   ]
  },
  {
   "cell_type": "code",
   "execution_count": 51,
   "metadata": {},
   "outputs": [
    {
     "data": {
      "text/plain": [
       "[<matplotlib.lines.Line2D at 0x1bde37102b0>]"
      ]
     },
     "execution_count": 51,
     "metadata": {},
     "output_type": "execute_result"
    },
    {
     "data": {
      "image/png": "[encoded data removed]",
      "text/plain": [
       "<Figure size 432x288 with 1 Axes>"
      ]
     },
     "metadata": {
      "needs_background": "light"
     },
     "output_type": "display_data"
    }
   ],
   "source": [
    "distances = np.sort(distances, axis=0)\n",
    "distances = distances[:,1]\n",
    "plt.plot(distances)"
   ]
  },
  {
   "cell_type": "code",
   "execution_count": 52,
   "metadata": {},
   "outputs": [],
   "source": [
    "#min_samples was chosen through random selection of values but used double the number of features as a rule of thumb.\n",
    "#min_samples should be tuned using domain knowledge. \n",
    "\n",
    "#I used K-Nearest neighbors to determine the optimal EPS value. \n",
    "#The technique comes from this paper (https://iopscience.iop.org/article/10.1088/1755-1315/31/1/012012/pdf)"
   ]
  },
  {
   "cell_type": "markdown",
   "metadata": {},
   "source": [
    "### Is the Clustering Better or Equal to K-Means?"
   ]
  },
  {
   "cell_type": "code",
   "execution_count": 53,
   "metadata": {},
   "outputs": [
    {
     "name": "stdout",
     "output_type": "stream",
     "text": [
      "Silhouette Coefficient: 0.358\n"
     ]
    }
   ],
   "source": [
    "# Use a method of choice to answer--such as looking at the silhouette scores for the two approaches\n",
    "from sklearn import metrics\n",
    "labels = dbscan3.labels_\n",
    "print(\"Silhouette Coefficient: %0.3f\"\n",
    "      % metrics.silhouette_score(X_train_final, labels))"
   ]
  },
  {
   "cell_type": "code",
   "execution_count": 54,
   "metadata": {},
   "outputs": [],
   "source": [
    "#According to our comparison of Silhouette scores, our DBscan model performs better than our K-means model."
   ]
  },
  {
   "cell_type": "markdown",
   "metadata": {},
   "source": [
    "## Evaluate Clustering Relative to Ground Truth (2 Point)"
   ]
  },
  {
   "cell_type": "markdown",
   "metadata": {},
   "source": [
    "Since the dataset has labels for the cancer vs. healthy samples, it is possible to get a sense of how well these approaches could diagnose cancer patients. First look at the training data used for clustering above. In the coming weeks, we will get into more performance metrics and will revisit this example to see if a supervised approach offers improvement. For now, I have provided a basic classification-metric called accuracy. It is **TP + TN / Total**, where TP = True Positive or (correct positive diagnoses) and TN = True Negative or (correct negative diagnoses). The total is just the number of predictions made."
   ]
  },
  {
   "cell_type": "code",
   "execution_count": 55,
   "metadata": {},
   "outputs": [],
   "source": [
    "## First, if K-means suggested > 2 clusters, refit with k=2 now. \n",
    "## We know that the ground truth should two groups/clusters--e.g. cancer vs. healthy or normal samples. \n",
    "\n",
    "## if necessary, do that below:\n",
    "## k_means_2_clusters = \n",
    "kmeans_2_clusters = KMeans(n_clusters=2, random_state=42).fit(X_train_final)\n",
    "## ...\n"
   ]
  },
  {
   "cell_type": "markdown",
   "metadata": {},
   "source": [
    "### Examples of Computing Accuracy"
   ]
  },
  {
   "cell_type": "code",
   "execution_count": 56,
   "metadata": {},
   "outputs": [
    {
     "data": {
      "text/plain": [
       "0.8333333333333334"
      ]
     },
     "execution_count": 56,
     "metadata": {},
     "output_type": "execute_result"
    }
   ],
   "source": [
    "# from scratch\n",
    "y_pred = np.array([1,1,1,0,1,1])\n",
    "y_true = np.array([1,1,0,0,1,1])\n",
    "\n",
    "(y_true == y_pred).sum() / 6"
   ]
  },
  {
   "cell_type": "code",
   "execution_count": 57,
   "metadata": {},
   "outputs": [
    {
     "data": {
      "text/plain": [
       "0.8333333333333334"
      ]
     },
     "execution_count": 57,
     "metadata": {},
     "output_type": "execute_result"
    }
   ],
   "source": [
    "# sklearn\n",
    "from sklearn.metrics import accuracy_score\n",
    "accuracy_score(y_true, y_pred)"
   ]
  },
  {
   "cell_type": "markdown",
   "metadata": {},
   "source": [
    "### Compute Diagnostic Accuracy for K-Means"
   ]
  },
  {
   "cell_type": "code",
   "execution_count": 58,
   "metadata": {},
   "outputs": [],
   "source": [
    "## Do for K-means\n",
    "\n",
    "\n",
    "## Predict Train Set with k=2 model\n",
    "## y_pred_train\n",
    "y_pred_train = kmeans_2_clusters.predict(X_train_final)\n",
    "## Predict Test Set with k=2 model\n",
    "## y_pred_test\n",
    "y_pred_test = kmeans_2_clusters.fit_predict(X_test)"
   ]
  },
  {
   "cell_type": "code",
   "execution_count": 59,
   "metadata": {},
   "outputs": [
    {
     "data": {
      "text/plain": [
       "0    84\n",
       "1    30\n",
       "dtype: int64"
      ]
     },
     "execution_count": 59,
     "metadata": {},
     "output_type": "execute_result"
    }
   ],
   "source": [
    "pd.Series(y_pred_test).value_counts()\n"
   ]
  },
  {
   "cell_type": "code",
   "execution_count": 60,
   "metadata": {},
   "outputs": [],
   "source": [
    "#I inverse the predicted datasets as out K-means Clustering model swapped 0 and 1"
   ]
  },
  {
   "cell_type": "code",
   "execution_count": 61,
   "metadata": {},
   "outputs": [
    {
     "data": {
      "text/plain": [
       "0.789010989010989"
      ]
     },
     "execution_count": 61,
     "metadata": {},
     "output_type": "execute_result"
    }
   ],
   "source": [
    "from sklearn.metrics import accuracy_score\n",
    "y_pred_train = list(map(lambda x: 0 if x == 1 else 1, y_pred_train))\n",
    "accuracy_score(y_train, y_pred_train)"
   ]
  },
  {
   "cell_type": "code",
   "execution_count": 62,
   "metadata": {},
   "outputs": [
    {
     "data": {
      "text/plain": [
       "0.8859649122807017"
      ]
     },
     "execution_count": 62,
     "metadata": {},
     "output_type": "execute_result"
    }
   ],
   "source": [
    "from sklearn.metrics import accuracy_score\n",
    "y_pred_test = list(map(lambda x: 0 if x == 1 else 1, y_pred_test))\n",
    "accuracy_score(y_test, y_pred_test)"
   ]
  },
  {
   "cell_type": "markdown",
   "metadata": {},
   "source": [
    "### Explain Result (e.g. Is there overfitting/underfitting?)"
   ]
  },
  {
   "cell_type": "markdown",
   "metadata": {},
   "source": [
    "We dont know which of the classes is being evaluated but we will assume we have a test accuracy of 88%. There is a slight performance increase with the test set which is to be expected with smaller datasets with a smaller test size and class imbalance."
   ]
  },
  {
   "cell_type": "markdown",
   "metadata": {},
   "source": [
    "## Bonus"
   ]
  },
  {
   "cell_type": "code",
   "execution_count": 67,
   "metadata": {},
   "outputs": [
    {
     "data": {
      "text/html": [
       "<div>\n",
       "<style scoped>\n",
       "    .dataframe tbody tr th:only-of-type {\n",
       "        vertical-align: middle;\n",
       "    }\n",
       "\n",
       "    .dataframe tbody tr th {\n",
       "        vertical-align: top;\n",
       "    }\n",
       "\n",
       "    .dataframe thead th {\n",
       "        text-align: right;\n",
       "    }\n",
       "</style>\n",
       "<table border=\"1\" class=\"dataframe\">\n",
       "  <thead>\n",
       "    <tr style=\"text-align: right;\">\n",
       "      <th></th>\n",
       "      <th>mean radius</th>\n",
       "      <th>mean texture</th>\n",
       "      <th>mean smoothness</th>\n",
       "      <th>mean compactness</th>\n",
       "      <th>mean concave points</th>\n",
       "      <th>mean symmetry</th>\n",
       "      <th>mean fractal dimension</th>\n",
       "      <th>radius error</th>\n",
       "      <th>texture error</th>\n",
       "      <th>smoothness error</th>\n",
       "      <th>compactness error</th>\n",
       "      <th>concavity error</th>\n",
       "      <th>concave points error</th>\n",
       "      <th>symmetry error</th>\n",
       "      <th>fractal dimension error</th>\n",
       "      <th>worst smoothness</th>\n",
       "      <th>worst concavity</th>\n",
       "      <th>worst symmetry</th>\n",
       "      <th>worst fractal dimension</th>\n",
       "    </tr>\n",
       "  </thead>\n",
       "  <tbody>\n",
       "    <tr>\n",
       "      <th>0</th>\n",
       "      <td>-1.916535</td>\n",
       "      <td>-0.352411</td>\n",
       "      <td>0.820044</td>\n",
       "      <td>0.901411</td>\n",
       "      <td>0.136915</td>\n",
       "      <td>1.118094</td>\n",
       "      <td>1.983966</td>\n",
       "      <td>-0.017888</td>\n",
       "      <td>0.200359</td>\n",
       "      <td>1.123419</td>\n",
       "      <td>2.056701</td>\n",
       "      <td>2.565466</td>\n",
       "      <td>2.440816</td>\n",
       "      <td>1.985442</td>\n",
       "      <td>1.978274</td>\n",
       "      <td>0.762864</td>\n",
       "      <td>2.504454</td>\n",
       "      <td>1.849870</td>\n",
       "      <td>1.674025</td>\n",
       "    </tr>\n",
       "    <tr>\n",
       "      <th>1</th>\n",
       "      <td>1.699088</td>\n",
       "      <td>1.593731</td>\n",
       "      <td>1.295858</td>\n",
       "      <td>2.210581</td>\n",
       "      <td>1.885634</td>\n",
       "      <td>1.874970</td>\n",
       "      <td>1.510829</td>\n",
       "      <td>1.234740</td>\n",
       "      <td>-0.892523</td>\n",
       "      <td>-1.208621</td>\n",
       "      <td>1.383987</td>\n",
       "      <td>0.583085</td>\n",
       "      <td>0.778561</td>\n",
       "      <td>-0.152135</td>\n",
       "      <td>1.036281</td>\n",
       "      <td>0.798725</td>\n",
       "      <td>1.642220</td>\n",
       "      <td>1.728193</td>\n",
       "      <td>1.938065</td>\n",
       "    </tr>\n",
       "    <tr>\n",
       "      <th>2</th>\n",
       "      <td>-1.834107</td>\n",
       "      <td>-1.385035</td>\n",
       "      <td>-1.416490</td>\n",
       "      <td>-0.143822</td>\n",
       "      <td>-0.700786</td>\n",
       "      <td>1.743645</td>\n",
       "      <td>1.089515</td>\n",
       "      <td>0.450050</td>\n",
       "      <td>1.718387</td>\n",
       "      <td>0.888110</td>\n",
       "      <td>1.081427</td>\n",
       "      <td>0.759919</td>\n",
       "      <td>0.768329</td>\n",
       "      <td>1.983744</td>\n",
       "      <td>1.220126</td>\n",
       "      <td>-1.536757</td>\n",
       "      <td>-0.592724</td>\n",
       "      <td>0.761014</td>\n",
       "      <td>0.288920</td>\n",
       "    </tr>\n",
       "    <tr>\n",
       "      <th>3</th>\n",
       "      <td>-1.086072</td>\n",
       "      <td>1.358717</td>\n",
       "      <td>0.127551</td>\n",
       "      <td>-0.536485</td>\n",
       "      <td>-0.965221</td>\n",
       "      <td>0.424666</td>\n",
       "      <td>0.272557</td>\n",
       "      <td>-0.600729</td>\n",
       "      <td>0.747452</td>\n",
       "      <td>0.337001</td>\n",
       "      <td>-1.089575</td>\n",
       "      <td>-1.049695</td>\n",
       "      <td>-1.012639</td>\n",
       "      <td>0.438363</td>\n",
       "      <td>-0.444916</td>\n",
       "      <td>0.830451</td>\n",
       "      <td>-0.796734</td>\n",
       "      <td>0.938374</td>\n",
       "      <td>0.066121</td>\n",
       "    </tr>\n",
       "    <tr>\n",
       "      <th>4</th>\n",
       "      <td>-1.311450</td>\n",
       "      <td>-1.055986</td>\n",
       "      <td>1.252881</td>\n",
       "      <td>-0.316012</td>\n",
       "      <td>-1.127971</td>\n",
       "      <td>2.602646</td>\n",
       "      <td>1.086260</td>\n",
       "      <td>0.893505</td>\n",
       "      <td>0.661388</td>\n",
       "      <td>0.465040</td>\n",
       "      <td>-1.013105</td>\n",
       "      <td>-1.306546</td>\n",
       "      <td>-0.564318</td>\n",
       "      <td>1.980673</td>\n",
       "      <td>1.261846</td>\n",
       "      <td>-0.113859</td>\n",
       "      <td>-1.598342</td>\n",
       "      <td>1.131296</td>\n",
       "      <td>-0.021413</td>\n",
       "    </tr>\n",
       "    <tr>\n",
       "      <th>...</th>\n",
       "      <td>...</td>\n",
       "      <td>...</td>\n",
       "      <td>...</td>\n",
       "      <td>...</td>\n",
       "      <td>...</td>\n",
       "      <td>...</td>\n",
       "      <td>...</td>\n",
       "      <td>...</td>\n",
       "      <td>...</td>\n",
       "      <td>...</td>\n",
       "      <td>...</td>\n",
       "      <td>...</td>\n",
       "      <td>...</td>\n",
       "      <td>...</td>\n",
       "      <td>...</td>\n",
       "      <td>...</td>\n",
       "      <td>...</td>\n",
       "      <td>...</td>\n",
       "      <td>...</td>\n",
       "    </tr>\n",
       "    <tr>\n",
       "      <th>450</th>\n",
       "      <td>-1.999134</td>\n",
       "      <td>-1.131270</td>\n",
       "      <td>0.218280</td>\n",
       "      <td>1.074422</td>\n",
       "      <td>-0.406312</td>\n",
       "      <td>0.442258</td>\n",
       "      <td>2.437032</td>\n",
       "      <td>0.929637</td>\n",
       "      <td>-0.626883</td>\n",
       "      <td>2.280373</td>\n",
       "      <td>2.113017</td>\n",
       "      <td>1.209776</td>\n",
       "      <td>1.053948</td>\n",
       "      <td>0.920097</td>\n",
       "      <td>2.390860</td>\n",
       "      <td>-0.424965</td>\n",
       "      <td>-0.566078</td>\n",
       "      <td>-1.199472</td>\n",
       "      <td>1.392528</td>\n",
       "    </tr>\n",
       "    <tr>\n",
       "      <th>451</th>\n",
       "      <td>-0.665790</td>\n",
       "      <td>-0.094536</td>\n",
       "      <td>1.301974</td>\n",
       "      <td>0.179660</td>\n",
       "      <td>-0.169913</td>\n",
       "      <td>0.072796</td>\n",
       "      <td>0.548204</td>\n",
       "      <td>-0.162640</td>\n",
       "      <td>0.998045</td>\n",
       "      <td>0.825533</td>\n",
       "      <td>0.143541</td>\n",
       "      <td>0.149109</td>\n",
       "      <td>0.520460</td>\n",
       "      <td>-0.624215</td>\n",
       "      <td>0.366049</td>\n",
       "      <td>1.540553</td>\n",
       "      <td>0.300554</td>\n",
       "      <td>-0.016340</td>\n",
       "      <td>0.638842</td>\n",
       "    </tr>\n",
       "    <tr>\n",
       "      <th>452</th>\n",
       "      <td>0.235167</td>\n",
       "      <td>-0.489969</td>\n",
       "      <td>-2.623821</td>\n",
       "      <td>-2.090191</td>\n",
       "      <td>-1.487341</td>\n",
       "      <td>-1.188348</td>\n",
       "      <td>-1.613082</td>\n",
       "      <td>-1.904386</td>\n",
       "      <td>-1.030009</td>\n",
       "      <td>-1.753425</td>\n",
       "      <td>-1.998300</td>\n",
       "      <td>-1.554744</td>\n",
       "      <td>-1.700038</td>\n",
       "      <td>-0.688704</td>\n",
       "      <td>-1.598574</td>\n",
       "      <td>-2.235559</td>\n",
       "      <td>-1.432553</td>\n",
       "      <td>-0.720811</td>\n",
       "      <td>-1.734573</td>\n",
       "    </tr>\n",
       "    <tr>\n",
       "      <th>453</th>\n",
       "      <td>0.143300</td>\n",
       "      <td>0.217211</td>\n",
       "      <td>0.780477</td>\n",
       "      <td>0.416479</td>\n",
       "      <td>0.716267</td>\n",
       "      <td>-0.458032</td>\n",
       "      <td>0.580903</td>\n",
       "      <td>-0.863326</td>\n",
       "      <td>-0.353832</td>\n",
       "      <td>-0.558613</td>\n",
       "      <td>-0.290797</td>\n",
       "      <td>-0.280000</td>\n",
       "      <td>-0.275325</td>\n",
       "      <td>-1.477686</td>\n",
       "      <td>-0.272833</td>\n",
       "      <td>1.267586</td>\n",
       "      <td>0.829881</td>\n",
       "      <td>0.608554</td>\n",
       "      <td>1.288682</td>\n",
       "    </tr>\n",
       "    <tr>\n",
       "      <th>454</th>\n",
       "      <td>-0.458427</td>\n",
       "      <td>0.422237</td>\n",
       "      <td>-1.164402</td>\n",
       "      <td>-1.557353</td>\n",
       "      <td>-0.890399</td>\n",
       "      <td>-0.169430</td>\n",
       "      <td>-0.910891</td>\n",
       "      <td>-1.150915</td>\n",
       "      <td>0.870391</td>\n",
       "      <td>-0.691973</td>\n",
       "      <td>-1.645741</td>\n",
       "      <td>-1.059162</td>\n",
       "      <td>-0.880766</td>\n",
       "      <td>-0.895240</td>\n",
       "      <td>-1.435908</td>\n",
       "      <td>-0.826324</td>\n",
       "      <td>-0.781229</td>\n",
       "      <td>-0.228998</td>\n",
       "      <td>-0.949878</td>\n",
       "    </tr>\n",
       "  </tbody>\n",
       "</table>\n",
       "<p>455 rows × 19 columns</p>\n",
       "</div>"
      ],
      "text/plain": [
       "     mean radius  mean texture  mean smoothness  mean compactness  \\\n",
       "0      -1.916535     -0.352411         0.820044          0.901411   \n",
       "1       1.699088      1.593731         1.295858          2.210581   \n",
       "2      -1.834107     -1.385035        -1.416490         -0.143822   \n",
       "3      -1.086072      1.358717         0.127551         -0.536485   \n",
       "4      -1.311450     -1.055986         1.252881         -0.316012   \n",
       "..           ...           ...              ...               ...   \n",
       "450    -1.999134     -1.131270         0.218280          1.074422   \n",
       "451    -0.665790     -0.094536         1.301974          0.179660   \n",
       "452     0.235167     -0.489969        -2.623821         -2.090191   \n",
       "453     0.143300      0.217211         0.780477          0.416479   \n",
       "454    -0.458427      0.422237        -1.164402         -1.557353   \n",
       "\n",
       "     mean concave points  mean symmetry  mean fractal dimension  radius error  \\\n",
       "0               0.136915       1.118094                1.983966     -0.017888   \n",
       "1               1.885634       1.874970                1.510829      1.234740   \n",
       "2              -0.700786       1.743645                1.089515      0.450050   \n",
       "3              -0.965221       0.424666                0.272557     -0.600729   \n",
       "4              -1.127971       2.602646                1.086260      0.893505   \n",
       "..                   ...            ...                     ...           ...   \n",
       "450            -0.406312       0.442258                2.437032      0.929637   \n",
       "451            -0.169913       0.072796                0.548204     -0.162640   \n",
       "452            -1.487341      -1.188348               -1.613082     -1.904386   \n",
       "453             0.716267      -0.458032                0.580903     -0.863326   \n",
       "454            -0.890399      -0.169430               -0.910891     -1.150915   \n",
       "\n",
       "     texture error  smoothness error  compactness error  concavity error  \\\n",
       "0         0.200359          1.123419           2.056701         2.565466   \n",
       "1        -0.892523         -1.208621           1.383987         0.583085   \n",
       "2         1.718387          0.888110           1.081427         0.759919   \n",
       "3         0.747452          0.337001          -1.089575        -1.049695   \n",
       "4         0.661388          0.465040          -1.013105        -1.306546   \n",
       "..             ...               ...                ...              ...   \n",
       "450      -0.626883          2.280373           2.113017         1.209776   \n",
       "451       0.998045          0.825533           0.143541         0.149109   \n",
       "452      -1.030009         -1.753425          -1.998300        -1.554744   \n",
       "453      -0.353832         -0.558613          -0.290797        -0.280000   \n",
       "454       0.870391         -0.691973          -1.645741        -1.059162   \n",
       "\n",
       "     concave points error  symmetry error  fractal dimension error  \\\n",
       "0                2.440816        1.985442                 1.978274   \n",
       "1                0.778561       -0.152135                 1.036281   \n",
       "2                0.768329        1.983744                 1.220126   \n",
       "3               -1.012639        0.438363                -0.444916   \n",
       "4               -0.564318        1.980673                 1.261846   \n",
       "..                    ...             ...                      ...   \n",
       "450              1.053948        0.920097                 2.390860   \n",
       "451              0.520460       -0.624215                 0.366049   \n",
       "452             -1.700038       -0.688704                -1.598574   \n",
       "453             -0.275325       -1.477686                -0.272833   \n",
       "454             -0.880766       -0.895240                -1.435908   \n",
       "\n",
       "     worst smoothness  worst concavity  worst symmetry  \\\n",
       "0            0.762864         2.504454        1.849870   \n",
       "1            0.798725         1.642220        1.728193   \n",
       "2           -1.536757        -0.592724        0.761014   \n",
       "3            0.830451        -0.796734        0.938374   \n",
       "4           -0.113859        -1.598342        1.131296   \n",
       "..                ...              ...             ...   \n",
       "450         -0.424965        -0.566078       -1.199472   \n",
       "451          1.540553         0.300554       -0.016340   \n",
       "452         -2.235559        -1.432553       -0.720811   \n",
       "453          1.267586         0.829881        0.608554   \n",
       "454         -0.826324        -0.781229       -0.228998   \n",
       "\n",
       "     worst fractal dimension  \n",
       "0                   1.674025  \n",
       "1                   1.938065  \n",
       "2                   0.288920  \n",
       "3                   0.066121  \n",
       "4                  -0.021413  \n",
       "..                       ...  \n",
       "450                 1.392528  \n",
       "451                 0.638842  \n",
       "452                -1.734573  \n",
       "453                 1.288682  \n",
       "454                -0.949878  \n",
       "\n",
       "[455 rows x 19 columns]"
      ]
     },
     "execution_count": 67,
     "metadata": {},
     "output_type": "execute_result"
    }
   ],
   "source": [
    "X_train_final = pd.DataFrame(X_train_data, columns = X_train_corr.columns)\n",
    "X_train_final"
   ]
  },
  {
   "cell_type": "code",
   "execution_count": 69,
   "metadata": {},
   "outputs": [
    {
     "data": {
      "text/html": [
       "<div>\n",
       "<style scoped>\n",
       "    .dataframe tbody tr th:only-of-type {\n",
       "        vertical-align: middle;\n",
       "    }\n",
       "\n",
       "    .dataframe tbody tr th {\n",
       "        vertical-align: top;\n",
       "    }\n",
       "\n",
       "    .dataframe thead th {\n",
       "        text-align: right;\n",
       "    }\n",
       "</style>\n",
       "<table border=\"1\" class=\"dataframe\">\n",
       "  <thead>\n",
       "    <tr style=\"text-align: right;\">\n",
       "      <th></th>\n",
       "      <th>mean radius</th>\n",
       "      <th>mean texture</th>\n",
       "      <th>mean perimeter</th>\n",
       "      <th>mean area</th>\n",
       "      <th>mean smoothness</th>\n",
       "      <th>mean compactness</th>\n",
       "      <th>mean concavity</th>\n",
       "      <th>mean concave points</th>\n",
       "      <th>mean symmetry</th>\n",
       "      <th>mean fractal dimension</th>\n",
       "      <th>...</th>\n",
       "      <th>worst radius</th>\n",
       "      <th>worst texture</th>\n",
       "      <th>worst perimeter</th>\n",
       "      <th>worst area</th>\n",
       "      <th>worst smoothness</th>\n",
       "      <th>worst compactness</th>\n",
       "      <th>worst concavity</th>\n",
       "      <th>worst concave points</th>\n",
       "      <th>worst symmetry</th>\n",
       "      <th>worst fractal dimension</th>\n",
       "    </tr>\n",
       "  </thead>\n",
       "  <tbody>\n",
       "    <tr>\n",
       "      <th>204</th>\n",
       "      <td>12.47</td>\n",
       "      <td>18.60</td>\n",
       "      <td>81.09</td>\n",
       "      <td>481.9</td>\n",
       "      <td>0.09965</td>\n",
       "      <td>0.10580</td>\n",
       "      <td>0.08005</td>\n",
       "      <td>0.03821</td>\n",
       "      <td>0.1925</td>\n",
       "      <td>0.06373</td>\n",
       "      <td>...</td>\n",
       "      <td>14.97</td>\n",
       "      <td>24.64</td>\n",
       "      <td>96.05</td>\n",
       "      <td>677.9</td>\n",
       "      <td>0.1426</td>\n",
       "      <td>0.2378</td>\n",
       "      <td>0.2671</td>\n",
       "      <td>0.10150</td>\n",
       "      <td>0.3014</td>\n",
       "      <td>0.08750</td>\n",
       "    </tr>\n",
       "    <tr>\n",
       "      <th>70</th>\n",
       "      <td>18.94</td>\n",
       "      <td>21.31</td>\n",
       "      <td>123.60</td>\n",
       "      <td>1130.0</td>\n",
       "      <td>0.09009</td>\n",
       "      <td>0.10290</td>\n",
       "      <td>0.10800</td>\n",
       "      <td>0.07951</td>\n",
       "      <td>0.1582</td>\n",
       "      <td>0.05461</td>\n",
       "      <td>...</td>\n",
       "      <td>24.86</td>\n",
       "      <td>26.58</td>\n",
       "      <td>165.90</td>\n",
       "      <td>1866.0</td>\n",
       "      <td>0.1193</td>\n",
       "      <td>0.2336</td>\n",
       "      <td>0.2687</td>\n",
       "      <td>0.17890</td>\n",
       "      <td>0.2551</td>\n",
       "      <td>0.06589</td>\n",
       "    </tr>\n",
       "    <tr>\n",
       "      <th>131</th>\n",
       "      <td>15.46</td>\n",
       "      <td>19.48</td>\n",
       "      <td>101.70</td>\n",
       "      <td>748.9</td>\n",
       "      <td>0.10920</td>\n",
       "      <td>0.12230</td>\n",
       "      <td>0.14660</td>\n",
       "      <td>0.08087</td>\n",
       "      <td>0.1931</td>\n",
       "      <td>0.05796</td>\n",
       "      <td>...</td>\n",
       "      <td>19.26</td>\n",
       "      <td>26.00</td>\n",
       "      <td>124.90</td>\n",
       "      <td>1156.0</td>\n",
       "      <td>0.1546</td>\n",
       "      <td>0.2394</td>\n",
       "      <td>0.3791</td>\n",
       "      <td>0.15140</td>\n",
       "      <td>0.2837</td>\n",
       "      <td>0.08019</td>\n",
       "    </tr>\n",
       "    <tr>\n",
       "      <th>431</th>\n",
       "      <td>12.40</td>\n",
       "      <td>17.68</td>\n",
       "      <td>81.47</td>\n",
       "      <td>467.8</td>\n",
       "      <td>0.10540</td>\n",
       "      <td>0.13160</td>\n",
       "      <td>0.07741</td>\n",
       "      <td>0.02799</td>\n",
       "      <td>0.1811</td>\n",
       "      <td>0.07102</td>\n",
       "      <td>...</td>\n",
       "      <td>12.88</td>\n",
       "      <td>22.91</td>\n",
       "      <td>89.61</td>\n",
       "      <td>515.8</td>\n",
       "      <td>0.1450</td>\n",
       "      <td>0.2629</td>\n",
       "      <td>0.2403</td>\n",
       "      <td>0.07370</td>\n",
       "      <td>0.2556</td>\n",
       "      <td>0.09359</td>\n",
       "    </tr>\n",
       "    <tr>\n",
       "      <th>540</th>\n",
       "      <td>11.54</td>\n",
       "      <td>14.44</td>\n",
       "      <td>74.65</td>\n",
       "      <td>402.9</td>\n",
       "      <td>0.09984</td>\n",
       "      <td>0.11200</td>\n",
       "      <td>0.06737</td>\n",
       "      <td>0.02594</td>\n",
       "      <td>0.1818</td>\n",
       "      <td>0.06782</td>\n",
       "      <td>...</td>\n",
       "      <td>12.26</td>\n",
       "      <td>19.68</td>\n",
       "      <td>78.78</td>\n",
       "      <td>457.8</td>\n",
       "      <td>0.1345</td>\n",
       "      <td>0.2118</td>\n",
       "      <td>0.1797</td>\n",
       "      <td>0.06918</td>\n",
       "      <td>0.2329</td>\n",
       "      <td>0.08134</td>\n",
       "    </tr>\n",
       "    <tr>\n",
       "      <th>...</th>\n",
       "      <td>...</td>\n",
       "      <td>...</td>\n",
       "      <td>...</td>\n",
       "      <td>...</td>\n",
       "      <td>...</td>\n",
       "      <td>...</td>\n",
       "      <td>...</td>\n",
       "      <td>...</td>\n",
       "      <td>...</td>\n",
       "      <td>...</td>\n",
       "      <td>...</td>\n",
       "      <td>...</td>\n",
       "      <td>...</td>\n",
       "      <td>...</td>\n",
       "      <td>...</td>\n",
       "      <td>...</td>\n",
       "      <td>...</td>\n",
       "      <td>...</td>\n",
       "      <td>...</td>\n",
       "      <td>...</td>\n",
       "      <td>...</td>\n",
       "    </tr>\n",
       "    <tr>\n",
       "      <th>486</th>\n",
       "      <td>14.64</td>\n",
       "      <td>16.85</td>\n",
       "      <td>94.21</td>\n",
       "      <td>666.0</td>\n",
       "      <td>0.08641</td>\n",
       "      <td>0.06698</td>\n",
       "      <td>0.05192</td>\n",
       "      <td>0.02791</td>\n",
       "      <td>0.1409</td>\n",
       "      <td>0.05355</td>\n",
       "      <td>...</td>\n",
       "      <td>16.46</td>\n",
       "      <td>25.44</td>\n",
       "      <td>106.00</td>\n",
       "      <td>831.0</td>\n",
       "      <td>0.1142</td>\n",
       "      <td>0.2070</td>\n",
       "      <td>0.2437</td>\n",
       "      <td>0.07828</td>\n",
       "      <td>0.2455</td>\n",
       "      <td>0.06596</td>\n",
       "    </tr>\n",
       "    <tr>\n",
       "      <th>75</th>\n",
       "      <td>16.07</td>\n",
       "      <td>19.65</td>\n",
       "      <td>104.10</td>\n",
       "      <td>817.7</td>\n",
       "      <td>0.09168</td>\n",
       "      <td>0.08424</td>\n",
       "      <td>0.09769</td>\n",
       "      <td>0.06638</td>\n",
       "      <td>0.1798</td>\n",
       "      <td>0.05391</td>\n",
       "      <td>...</td>\n",
       "      <td>19.77</td>\n",
       "      <td>24.56</td>\n",
       "      <td>128.80</td>\n",
       "      <td>1223.0</td>\n",
       "      <td>0.1500</td>\n",
       "      <td>0.2045</td>\n",
       "      <td>0.2829</td>\n",
       "      <td>0.15200</td>\n",
       "      <td>0.2650</td>\n",
       "      <td>0.06387</td>\n",
       "    </tr>\n",
       "    <tr>\n",
       "      <th>249</th>\n",
       "      <td>11.52</td>\n",
       "      <td>14.93</td>\n",
       "      <td>73.87</td>\n",
       "      <td>406.3</td>\n",
       "      <td>0.10130</td>\n",
       "      <td>0.07808</td>\n",
       "      <td>0.04328</td>\n",
       "      <td>0.02929</td>\n",
       "      <td>0.1883</td>\n",
       "      <td>0.06168</td>\n",
       "      <td>...</td>\n",
       "      <td>12.65</td>\n",
       "      <td>21.19</td>\n",
       "      <td>80.88</td>\n",
       "      <td>491.8</td>\n",
       "      <td>0.1389</td>\n",
       "      <td>0.1582</td>\n",
       "      <td>0.1804</td>\n",
       "      <td>0.09608</td>\n",
       "      <td>0.2664</td>\n",
       "      <td>0.07809</td>\n",
       "    </tr>\n",
       "    <tr>\n",
       "      <th>238</th>\n",
       "      <td>14.22</td>\n",
       "      <td>27.85</td>\n",
       "      <td>92.55</td>\n",
       "      <td>623.9</td>\n",
       "      <td>0.08223</td>\n",
       "      <td>0.10390</td>\n",
       "      <td>0.11030</td>\n",
       "      <td>0.04408</td>\n",
       "      <td>0.1342</td>\n",
       "      <td>0.06129</td>\n",
       "      <td>...</td>\n",
       "      <td>15.75</td>\n",
       "      <td>40.54</td>\n",
       "      <td>102.50</td>\n",
       "      <td>764.0</td>\n",
       "      <td>0.1081</td>\n",
       "      <td>0.2426</td>\n",
       "      <td>0.3064</td>\n",
       "      <td>0.08219</td>\n",
       "      <td>0.1890</td>\n",
       "      <td>0.07796</td>\n",
       "    </tr>\n",
       "    <tr>\n",
       "      <th>265</th>\n",
       "      <td>20.73</td>\n",
       "      <td>31.12</td>\n",
       "      <td>135.70</td>\n",
       "      <td>1419.0</td>\n",
       "      <td>0.09469</td>\n",
       "      <td>0.11430</td>\n",
       "      <td>0.13670</td>\n",
       "      <td>0.08646</td>\n",
       "      <td>0.1769</td>\n",
       "      <td>0.05674</td>\n",
       "      <td>...</td>\n",
       "      <td>32.49</td>\n",
       "      <td>47.16</td>\n",
       "      <td>214.00</td>\n",
       "      <td>3432.0</td>\n",
       "      <td>0.1401</td>\n",
       "      <td>0.2644</td>\n",
       "      <td>0.3442</td>\n",
       "      <td>0.16590</td>\n",
       "      <td>0.2868</td>\n",
       "      <td>0.08218</td>\n",
       "    </tr>\n",
       "  </tbody>\n",
       "</table>\n",
       "<p>114 rows × 30 columns</p>\n",
       "</div>"
      ],
      "text/plain": [
       "     mean radius  mean texture  mean perimeter  mean area  mean smoothness  \\\n",
       "204        12.47         18.60           81.09      481.9          0.09965   \n",
       "70         18.94         21.31          123.60     1130.0          0.09009   \n",
       "131        15.46         19.48          101.70      748.9          0.10920   \n",
       "431        12.40         17.68           81.47      467.8          0.10540   \n",
       "540        11.54         14.44           74.65      402.9          0.09984   \n",
       "..           ...           ...             ...        ...              ...   \n",
       "486        14.64         16.85           94.21      666.0          0.08641   \n",
       "75         16.07         19.65          104.10      817.7          0.09168   \n",
       "249        11.52         14.93           73.87      406.3          0.10130   \n",
       "238        14.22         27.85           92.55      623.9          0.08223   \n",
       "265        20.73         31.12          135.70     1419.0          0.09469   \n",
       "\n",
       "     mean compactness  mean concavity  mean concave points  mean symmetry  \\\n",
       "204           0.10580         0.08005              0.03821         0.1925   \n",
       "70            0.10290         0.10800              0.07951         0.1582   \n",
       "131           0.12230         0.14660              0.08087         0.1931   \n",
       "431           0.13160         0.07741              0.02799         0.1811   \n",
       "540           0.11200         0.06737              0.02594         0.1818   \n",
       "..                ...             ...                  ...            ...   \n",
       "486           0.06698         0.05192              0.02791         0.1409   \n",
       "75            0.08424         0.09769              0.06638         0.1798   \n",
       "249           0.07808         0.04328              0.02929         0.1883   \n",
       "238           0.10390         0.11030              0.04408         0.1342   \n",
       "265           0.11430         0.13670              0.08646         0.1769   \n",
       "\n",
       "     mean fractal dimension  ...  worst radius  worst texture  \\\n",
       "204                 0.06373  ...         14.97          24.64   \n",
       "70                  0.05461  ...         24.86          26.58   \n",
       "131                 0.05796  ...         19.26          26.00   \n",
       "431                 0.07102  ...         12.88          22.91   \n",
       "540                 0.06782  ...         12.26          19.68   \n",
       "..                      ...  ...           ...            ...   \n",
       "486                 0.05355  ...         16.46          25.44   \n",
       "75                  0.05391  ...         19.77          24.56   \n",
       "249                 0.06168  ...         12.65          21.19   \n",
       "238                 0.06129  ...         15.75          40.54   \n",
       "265                 0.05674  ...         32.49          47.16   \n",
       "\n",
       "     worst perimeter  worst area  worst smoothness  worst compactness  \\\n",
       "204            96.05       677.9            0.1426             0.2378   \n",
       "70            165.90      1866.0            0.1193             0.2336   \n",
       "131           124.90      1156.0            0.1546             0.2394   \n",
       "431            89.61       515.8            0.1450             0.2629   \n",
       "540            78.78       457.8            0.1345             0.2118   \n",
       "..               ...         ...               ...                ...   \n",
       "486           106.00       831.0            0.1142             0.2070   \n",
       "75            128.80      1223.0            0.1500             0.2045   \n",
       "249            80.88       491.8            0.1389             0.1582   \n",
       "238           102.50       764.0            0.1081             0.2426   \n",
       "265           214.00      3432.0            0.1401             0.2644   \n",
       "\n",
       "     worst concavity  worst concave points  worst symmetry  \\\n",
       "204           0.2671               0.10150          0.3014   \n",
       "70            0.2687               0.17890          0.2551   \n",
       "131           0.3791               0.15140          0.2837   \n",
       "431           0.2403               0.07370          0.2556   \n",
       "540           0.1797               0.06918          0.2329   \n",
       "..               ...                   ...             ...   \n",
       "486           0.2437               0.07828          0.2455   \n",
       "75            0.2829               0.15200          0.2650   \n",
       "249           0.1804               0.09608          0.2664   \n",
       "238           0.3064               0.08219          0.1890   \n",
       "265           0.3442               0.16590          0.2868   \n",
       "\n",
       "     worst fractal dimension  \n",
       "204                  0.08750  \n",
       "70                   0.06589  \n",
       "131                  0.08019  \n",
       "431                  0.09359  \n",
       "540                  0.08134  \n",
       "..                       ...  \n",
       "486                  0.06596  \n",
       "75                   0.06387  \n",
       "249                  0.07809  \n",
       "238                  0.07796  \n",
       "265                  0.08218  \n",
       "\n",
       "[114 rows x 30 columns]"
      ]
     },
     "execution_count": 69,
     "metadata": {},
     "output_type": "execute_result"
    }
   ],
   "source": [
    "X_test"
   ]
  },
  {
   "cell_type": "code",
   "execution_count": 71,
   "metadata": {},
   "outputs": [
    {
     "name": "stdout",
     "output_type": "stream",
     "text": [
      "Test Set Accuracy = 0.37719298245614036\n"
     ]
    }
   ],
   "source": [
    "### Bonus (1 point): Compute Diagnostic Accuracy for DBSCAN (see book chapter 9 for an example on approaching this)\n",
    "\n",
    "from sklearn.neighbors import KNeighborsClassifier\n",
    "\n",
    "knn = KNeighborsClassifier()\n",
    "\n",
    "dbs = DBSCAN(eps = 3, min_samples=3)\n",
    "dbs.fit(X_train_final)\n",
    "knn.fit(dbs.components_, dbs.labels_[dbs.core_sample_indices_])\n",
    "\n",
    "y_pred_test = knn.predict(X_test_final)\n",
    "test_acc_score = accuracy_score(y_test,y_pred_test)\n",
    "print(\"Test Set Accuracy = {}\".format(test_acc_score))"
   ]
  },
  {
   "cell_type": "markdown",
   "metadata": {},
   "source": [
    "# DBScan model evaluates most cases as falling into 1 cluster. "
   ]
  },
  {
   "cell_type": "code",
   "execution_count": 73,
   "metadata": {},
   "outputs": [
    {
     "name": "stdout",
     "output_type": "stream",
     "text": [
      "Kmeans Training Set Accuracy = 0.9054945054945055\n",
      "Kmeans Testing Set Accuracy = 0.956140350877193\n",
      "DBSCAN Testing Set Accuracy = 0.37719298245614036\n"
     ]
    }
   ],
   "source": [
    "### Bonus (1 point) Perform the clustering, K-means and DBSCAN, on PCA transformed data\n",
    "## Does using the PCA transformed data matrix improve clustering and prediction of cancer on the test set?\n",
    "from sklearn.pipeline import Pipeline\n",
    "from sklearn.preprocessing import StandardScaler\n",
    "\n",
    "proc_pipe_pca = Pipeline(steps = [(\"yeo_johnson\", PowerTransformer(method='yeo-johnson')), \n",
    "                              ('scale', StandardScaler()),\n",
    "                              ('pca', PCA(n_components=6))])\n",
    "\n",
    "X_train_final = proc_pipe_pca.fit_transform(X_train)\n",
    "X_test_final = proc_pipe_pca.transform(X_test)\n",
    "\n",
    "\n",
    "k_means_model_pca = KMeans(n_clusters=2, random_state=1).fit(X_train_final)\n",
    "y_pred_train_pca = k_means_model_pca.predict(X_train_final)\n",
    "train_acc_score = accuracy_score(y_train,y_pred_train_pca)\n",
    "\n",
    "print(\"Kmeans Training Set Accuracy = {}\".format(train_acc_score))\n",
    "y_pred_test_pca = k_means_model_pca.predict(X_test_final)\n",
    "train_acc_score = accuracy_score(y_test, y_pred_test_pca)\n",
    "print(\"Kmeans Testing Set Accuracy = {}\".format(train_acc_score))\n",
    "\n",
    "knn_pca = KNeighborsClassifier()\n",
    "\n",
    "dbs_pca = DBSCAN(eps = 3, min_samples=5)\n",
    "dbs_pca.fit(X_train_final)\n",
    "knn_pca.fit(dbs_pca.components_,dbs_pca.labels_[dbs_pca.core_sample_indices_])\n",
    "\n",
    "y_pred_test_dbs = knn_pca.predict(X_test_final)\n",
    "train_acc_score = accuracy_score(y_test,y_pred_test_dbs)\n",
    "\n",
    "print(\"DBSCAN Testing Set Accuracy = {}\".format(train_acc_score))\n",
    "\n"
   ]
  },
  {
   "cell_type": "markdown",
   "metadata": {},
   "source": [
    "PCA did not improve our predictions but the result not changing does show the data has lots of redundancy."
   ]
  }
 ],
 "metadata": {
  "kernelspec": {
   "display_name": "Python 3 (ipykernel)",
   "language": "python",
   "name": "python3"
  },
  "language_info": {
   "codemirror_mode": {
    "name": "ipython",
    "version": 3
   },
   "file_extension": ".py",
   "mimetype": "text/x-python",
   "name": "python",
   "nbconvert_exporter": "python",
   "pygments_lexer": "ipython3",
   "version": "3.9.7"
  }
 },
 "nbformat": 4,
 "nbformat_minor": 4
}
